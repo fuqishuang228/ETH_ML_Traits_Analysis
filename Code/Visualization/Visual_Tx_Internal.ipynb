{
 "cells": [
  {
   "cell_type": "code",
   "execution_count": 3,
   "metadata": {},
   "outputs": [],
   "source": [
    "import pandas as pd\n",
    "import numpy as np\n",
    "import os\n",
    "import csv\n",
    "import matplotlib.pyplot as plt\n",
    "from matplotlib.backends.backend_pdf import PdfPages"
   ]
  },
  {
   "cell_type": "code",
   "execution_count": 4,
   "metadata": {},
   "outputs": [],
   "source": [
    "Heist=pd.read_csv('../../Code_Results/Tx_Velocity_Results/'+'Upbit'+'_Tx_Internal.csv')\n",
    "Normal=pd.read_csv('../../Code_Results/Tx_Velocity_Results/'+'Normal'+'_Tx_Internal.csv')"
   ]
  },
  {
   "cell_type": "code",
   "execution_count": 5,
   "metadata": {},
   "outputs": [
    {
     "data": {
      "image/png": "[encoded data removed]",
      "text/plain": [
       "<Figure size 432x288 with 1 Axes>"
      ]
     },
     "metadata": {
      "needs_background": "light"
     },
     "output_type": "display_data"
    }
   ],
   "source": [
    "with PdfPages('../../Code_Results/Visual_Tx_Internal.pdf') as pdf:  \n",
    "    plt.rc('font',family='Times New Roman') #全局字体设置\n",
    "    ax = plt.subplot()\n",
    "    ax.boxplot([Heist['Tx_Velocity'],Normal['Tx_Internal']],\n",
    "               vert=False,showfliers=False,showmeans=True,meanline=True\n",
    "              ,widths=0.5)\n",
    "    # 设置轴坐标值刻度的标签\n",
    "    plt.xticks(size=15)\n",
    "    ax.set_yticklabels(['Laundering Network', 'Normal Network'], fontsize=15)\n",
    "    plt.xlabel(\"Tx Internal (hour)\",fontproperties = 'Times New Roman', size = 15)\n",
    "    #plt.legend(loc='lower right',fontsize=13,labels=['Average','Median'])\n",
    "    # ax.set_xticks(size=20)\n",
    "    #\t保存图片 \n",
    "    #plt.savefig('./images/box.jpg')\n",
    "    #plt.grid(True)  # 显示网格\n",
    "    pdf.savefig(bbox_inches = 'tight')\n",
    "    plt.show()\n",
    "    "
   ]
  },
  {
   "cell_type": "code",
   "execution_count": null,
   "metadata": {},
   "outputs": [],
   "source": []
  }
 ],
 "metadata": {
  "kernelspec": {
   "display_name": "Python 3",
   "language": "python",
   "name": "python3"
  },
  "language_info": {
   "codemirror_mode": {
    "name": "ipython",
    "version": 3
   },
   "file_extension": ".py",
   "mimetype": "text/x-python",
   "name": "python",
   "nbconvert_exporter": "python",
   "pygments_lexer": "ipython3",
   "version": "3.8.5"
  }
 },
 "nbformat": 4,
 "nbformat_minor": 4
}
