{
 "cells": [
  {
   "cell_type": "code",
   "execution_count": 1,
   "metadata": {},
   "outputs": [],
   "source": [
    "import pandas as pd\n",
    "import numpy as np\n",
    "import os\n",
    "import csv"
   ]
  },
  {
   "cell_type": "code",
   "execution_count": 29,
   "metadata": {},
   "outputs": [],
   "source": [
    "#Event='AscendEx'\n",
    "Event='Upbit'\n",
    "raw_path='../Dataset/'+Event+'/all_data_token/'\n",
    "address_path='../Dataset/'+Event+'/dataset/'"
   ]
  },
  {
   "cell_type": "code",
   "execution_count": 30,
   "metadata": {},
   "outputs": [],
   "source": [
    "with open('../Code_Results/Tx_Velocity_Results/'+Event+'_Tx_Internal.csv','w') as f:\n",
    "\n",
    "    csv_write = csv.writer(f)\n",
    "    csv_head = [\"address\",\"Tx_Velocity\"]\n",
    "    csv_write.writerow(csv_head)\n",
    "\n",
    "output = pd.read_csv('../Code_Results/Tx_Velocity_Results/'+Event+'_Tx_Internal.csv')"
   ]
  },
  {
   "cell_type": "code",
   "execution_count": 31,
   "metadata": {},
   "outputs": [],
   "source": [
    "#Step1：筛选出之发生了ETH交易的洗钱账户（source+layering）\n",
    "#方法2：all_erc20_address和all_normal_address的交集，再用all_normal_address减掉交集\n",
    "all_address=pd.read_csv(address_path+\"all-address.csv\")\n",
    "all_erc20_address=pd.read_csv(address_path+\"all-erc20-address.csv\")\n",
    "all_normal_address=pd.read_csv(address_path+\"all-normal-address.csv\")\n",
    "address=all_address['address']\n",
    "erc20_address=all_erc20_address['address']\n",
    "normal_address=all_normal_address['address']\n",
    "ETH_address=set(address)-set(erc20_address)\n",
    "temp=set(erc20_address)&set(normal_address)\n",
    "ETH_address=list(set(normal_address)-temp)\n",
    "#再筛选出来label是heist的账户\n",
    "all_ETH_address=all_normal_address[all_normal_address['address'].isin(ETH_address)]\n",
    "# ETH_heist_address=list(all_ETH_address.loc[(all_ETH_address['label']=='heist')&(all_ETH_address['name_tag']!='ml_transit_9')]['address'])\n",
    "ETH_heist_address=list(all_ETH_address.loc[(all_ETH_address['label']=='heist')&(all_ETH_address['name_tag']!='ml_transit_0')]['address'])"
   ]
  },
  {
   "cell_type": "code",
   "execution_count": 32,
   "metadata": {},
   "outputs": [],
   "source": [
    "output['address']=ETH_heist_address"
   ]
  },
  {
   "cell_type": "code",
   "execution_count": 33,
   "metadata": {},
   "outputs": [
    {
     "name": "stderr",
     "output_type": "stream",
     "text": [
      "<ipython-input-33-11bd2c37dd0a>:4: SettingWithCopyWarning: \n",
      "A value is trying to be set on a copy of a slice from a DataFrame\n",
      "\n",
      "See the caveats in the documentation: https://pandas.pydata.org/pandas-docs/stable/user_guide/indexing.html#returning-a-view-versus-a-copy\n",
      "  ETH_tx.sort_values(by=\"timeStamp\" , inplace=True, ascending=True) #按照交易时间升序排序\n"
     ]
    }
   ],
   "source": [
    "#Step2：筛选出ETH账户的交易\n",
    "all_normal_tx=pd.read_csv(address_path+\"all-normal-tx.csv\")\n",
    "ETH_tx=all_normal_tx[all_normal_tx['from'].isin(list(ETH_heist_address)) | all_normal_tx['to'].isin(list(ETH_heist_address))]\n",
    "ETH_tx.sort_values(by=\"timeStamp\" , inplace=True, ascending=True) #按照交易时间升序排序"
   ]
  },
  {
   "cell_type": "code",
   "execution_count": 34,
   "metadata": {},
   "outputs": [],
   "source": [
    "#ETH_heist_address=['0xe7ef8592e64df04891e1e3bbf3013970b5a54f43']"
   ]
  },
  {
   "cell_type": "code",
   "execution_count": 35,
   "metadata": {},
   "outputs": [
    {
     "name": "stdout",
     "output_type": "stream",
     "text": [
      "9967/9968\r"
     ]
    }
   ],
   "source": [
    "#Step3：统计每个账户的交易速度平均值\n",
    "import math\n",
    "for i in range(0,len(ETH_heist_address)):\n",
    "\n",
    "    Del_T=[]\n",
    "    print('%d/%d'%(i,len(ETH_heist_address)),end=\"\\r\")\n",
    "#     record=ETH_tx.loc[ETH_tx[\"isError\"]!=1]\n",
    "    record=ETH_tx\n",
    "    Ac=ETH_heist_address[i]\n",
    "    Ac_Tx=record.loc[(record['from']==Ac)|(record['to']==Ac)]\n",
    "    for j in range(0,len(Ac_Tx)-1):\n",
    "        Tx=Ac_Tx.iloc[j]\n",
    "        if Tx['from']==Ac:\n",
    "            Next_Tx=Ac_Tx.iloc[j+1]\n",
    "            if Next_Tx['to']==Ac:\n",
    "                Del_T.append(Next_Tx['timeStamp']-Tx['timeStamp'])\n",
    "        if Tx['to']==Ac:\n",
    "            Next_Tx=Ac_Tx.iloc[j+1]\n",
    "            if Next_Tx['from']==Ac:\n",
    "                Del_T.append(Next_Tx['timeStamp']-Tx['timeStamp'])\n",
    "    if len(Del_T) !=0:\n",
    "        Avg_Internal=sum(Del_T)/len(Del_T)\n",
    "        output['Tx_Velocity'][i]=Avg_Internal  \n",
    "    if len(Del_T) ==0:\n",
    "        output['Tx_Velocity'][i]=0"
   ]
  },
  {
   "cell_type": "code",
   "execution_count": 14,
   "metadata": {},
   "outputs": [
    {
     "data": {
      "text/plain": [
       "[]"
      ]
     },
     "execution_count": 14,
     "metadata": {},
     "output_type": "execute_result"
    }
   ],
   "source": [
    "Del_T"
   ]
  },
  {
   "cell_type": "code",
   "execution_count": 40,
   "metadata": {},
   "outputs": [],
   "source": [
    "output['Tx_Velocity']=output['Tx_Velocity']/(60*60*24)#交易的间隔为天"
   ]
  },
  {
   "cell_type": "code",
   "execution_count": 41,
   "metadata": {},
   "outputs": [],
   "source": [
    "output=output.loc[output['Tx_Velocity']!=0]"
   ]
  },
  {
   "cell_type": "code",
   "execution_count": 42,
   "metadata": {},
   "outputs": [
    {
     "data": {
      "text/plain": [
       "21.488227470639163"
      ]
     },
     "execution_count": 42,
     "metadata": {},
     "output_type": "execute_result"
    }
   ],
   "source": [
    "np.mean(output['Tx_Velocity'])"
   ]
  },
  {
   "cell_type": "code",
   "execution_count": 43,
   "metadata": {},
   "outputs": [
    {
     "data": {
      "text/plain": [
       "1424.3888078703703"
      ]
     },
     "execution_count": 43,
     "metadata": {},
     "output_type": "execute_result"
    }
   ],
   "source": [
    "max(output['Tx_Velocity'])"
   ]
  },
  {
   "cell_type": "code",
   "execution_count": 44,
   "metadata": {},
   "outputs": [
    {
     "data": {
      "text/plain": [
       "3.858024691358025e-06"
      ]
     },
     "execution_count": 44,
     "metadata": {},
     "output_type": "execute_result"
    }
   ],
   "source": [
    "min(output['Tx_Velocity'])"
   ]
  },
  {
   "cell_type": "code",
   "execution_count": null,
   "metadata": {},
   "outputs": [],
   "source": []
  }
 ],
 "metadata": {
  "kernelspec": {
   "display_name": "Python 3",
   "language": "python",
   "name": "python3"
  },
  "language_info": {
   "codemirror_mode": {
    "name": "ipython",
    "version": 3
   },
   "file_extension": ".py",
   "mimetype": "text/x-python",
   "name": "python",
   "nbconvert_exporter": "python",
   "pygments_lexer": "ipython3",
   "version": "3.8.5"
  }
 },
 "nbformat": 4,
 "nbformat_minor": 4
}
