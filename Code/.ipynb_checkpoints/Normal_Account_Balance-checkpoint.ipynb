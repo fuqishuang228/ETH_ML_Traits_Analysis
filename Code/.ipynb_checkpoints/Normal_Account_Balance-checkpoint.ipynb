{
 "cells": [
  {
   "cell_type": "code",
   "execution_count": 126,
   "metadata": {},
   "outputs": [],
   "source": [
    "import pandas as pd\n",
    "import numpy as np\n",
    "import os\n",
    "import csv"
   ]
  },
  {
   "cell_type": "code",
   "execution_count": 127,
   "metadata": {},
   "outputs": [],
   "source": [
    "#Event='AscendEx'\n",
    "Event='Upbit'\n",
    "raw_path='../Dataset/'+Event+'/all_data_token/'\n",
    "address_path='../Dataset/'+Event+'/dataset/'\n",
    "account_feature_output_path = '../Code_Results/Intermediary_Account_Feature_Results/'+Event+'_account_Balance.csv'\n",
    "feature_output_path ='../Code_Results/Intermediary_Account_Feature_Results/'+Event"
   ]
  },
  {
   "cell_type": "code",
   "execution_count": 174,
   "metadata": {},
   "outputs": [],
   "source": [
    "#Step1：筛选出之发生了ETH交易的洗钱账户（source+layering）\n",
    "#方法2：all_erc20_address和all_normal_address的交集，再用all_normal_address减掉交集\n",
    "all_address=pd.read_csv(address_path+\"all-address.csv\")\n",
    "all_erc20_address=pd.read_csv(address_path+\"all-erc20-address.csv\")\n",
    "all_normal_address=pd.read_csv(address_path+\"all-normal-address.csv\")\n",
    "address=all_address['address']\n",
    "erc20_address=all_erc20_address['address']\n",
    "normal_address=all_normal_address['address']\n",
    "ETH_address=set(address)-set(erc20_address)\n",
    "temp=set(erc20_address)&set(normal_address)\n",
    "ETH_address=list(set(normal_address)-temp)\n",
    "#再筛选出来label是heist的账户\n",
    "all_ETH_address=all_normal_address[all_normal_address['address'].isin(ETH_address)]\n",
    "# ETH_heist_address=list(all_ETH_address.loc[(all_ETH_address['label']=='heist')&(all_ETH_address['name_tag']!='ml_transit_9')]['address'])\n",
    "ETH_heist_address=list(all_ETH_address.loc[(all_ETH_address['label']=='heist')]['address'])"
   ]
  },
  {
   "cell_type": "code",
   "execution_count": 175,
   "metadata": {},
   "outputs": [
    {
     "data": {
      "text/plain": [
       "9968"
      ]
     },
     "execution_count": 175,
     "metadata": {},
     "output_type": "execute_result"
    }
   ],
   "source": [
    "len(ETH_heist_address)\n"
   ]
  },
  {
   "cell_type": "code",
   "execution_count": 176,
   "metadata": {},
   "outputs": [],
   "source": [
    "#Step2：筛选出ETH账户的交易\n",
    "# ETH_address={'0x70dcf33ca09bd87bb2a301280331406ebd32c8a0'}  测试数据\n",
    "all_normal_tx=pd.read_csv(address_path+\"all-normal-tx.csv\")\n",
    "ETH_tx=all_normal_tx[all_normal_tx['from'].isin(list(ETH_heist_address)) | all_normal_tx['to'].isin(list(ETH_heist_address))]\n",
    "ETH_tx.to_csv('../Code_Results/Intermediary_Account_Feature_Results/'+Event+'_ETH_account_TX.csv', index=False)"
   ]
  },
  {
   "cell_type": "code",
   "execution_count": 177,
   "metadata": {},
   "outputs": [
    {
     "data": {
      "text/plain": [
       "119139"
      ]
     },
     "execution_count": 177,
     "metadata": {},
     "output_type": "execute_result"
    }
   ],
   "source": [
    "len(ETH_tx)"
   ]
  },
  {
   "cell_type": "code",
   "execution_count": 178,
   "metadata": {},
   "outputs": [],
   "source": [
    "with open(account_feature_output_path,'w') as f:\n",
    "\n",
    "    csv_write = csv.writer(f)\n",
    "    csv_head = [\"address\",\"In\",\"Out\",\"Balance\"]\n",
    "    csv_write.writerow(csv_head)\n",
    "\n",
    "output = pd.read_csv(account_feature_output_path)\n",
    "output['address'] = ETH_heist_address"
   ]
  },
  {
   "cell_type": "code",
   "execution_count": 179,
   "metadata": {},
   "outputs": [
    {
     "name": "stdout",
     "output_type": "stream",
     "text": [
      "9967/9968\r"
     ]
    }
   ],
   "source": [
    "#Step3：统计每个账户的余额\n",
    "for i in range(0,len(ETH_heist_address)):\n",
    "    print('%d/%d'%(i,len(ETH_heist_address)),end=\"\\r\")\n",
    "    record=ETH_tx.loc[ETH_tx[\"isError\"]!=1]\n",
    "\n",
    "    # 计算转出交易\n",
    "    #from_cnt = record[(record['from'] == List[i]) & (record['value'] != '0')]\n",
    "    from_cnt = record[(record['from'] == ETH_heist_address[i])]\n",
    "    from_ETH_cnt=from_cnt.loc[pd.isnull(from_cnt[\"contractAddress\"])]\n",
    "    out_value = from_ETH_cnt['value'].astype(float).sum() / (1E+18)\n",
    "\n",
    "\n",
    "    # 计算接收交易\n",
    "    to_cnt = record[(record['to'] == ETH_heist_address[i]) & (record['value']!='0')]  # to:receive\n",
    "    to_ETH_cnt = to_cnt.loc[pd.isnull(to_cnt[\"contractAddress\"])]\n",
    "    in_value = to_cnt['value'].astype(float).sum() / (1E+18)\n",
    "    Balance= in_value-out_value\n",
    "    output['In'][i] = in_value\n",
    "    output['Out'][i] = out_value\n",
    "    if Balance<0:\n",
    "        output['Balance'][i] = 0\n",
    "    else:\n",
    "        output['Balance'][i] = Balance"
   ]
  },
  {
   "cell_type": "code",
   "execution_count": 180,
   "metadata": {},
   "outputs": [],
   "source": [
    "output.to_csv(account_feature_output_path, index=False)"
   ]
  },
  {
   "cell_type": "code",
   "execution_count": 181,
   "metadata": {},
   "outputs": [
    {
     "data": {
      "text/html": [
       "<div>\n",
       "<style scoped>\n",
       "    .dataframe tbody tr th:only-of-type {\n",
       "        vertical-align: middle;\n",
       "    }\n",
       "\n",
       "    .dataframe tbody tr th {\n",
       "        vertical-align: top;\n",
       "    }\n",
       "\n",
       "    .dataframe thead th {\n",
       "        text-align: right;\n",
       "    }\n",
       "</style>\n",
       "<table border=\"1\" class=\"dataframe\">\n",
       "  <thead>\n",
       "    <tr style=\"text-align: right;\">\n",
       "      <th></th>\n",
       "      <th>address</th>\n",
       "      <th>In</th>\n",
       "      <th>Out</th>\n",
       "      <th>Balance</th>\n",
       "    </tr>\n",
       "  </thead>\n",
       "  <tbody>\n",
       "    <tr>\n",
       "      <th>0</th>\n",
       "      <td>0xe7ef8592e64df04891e1e3bbf3013970b5a54f43</td>\n",
       "      <td>195.383</td>\n",
       "      <td>190.134</td>\n",
       "      <td>5.24853</td>\n",
       "    </tr>\n",
       "    <tr>\n",
       "      <th>1</th>\n",
       "      <td>0x7916ed1b5accf672e277fc06b1538a21a30bfbee</td>\n",
       "      <td>347.151</td>\n",
       "      <td>350.467</td>\n",
       "      <td>0</td>\n",
       "    </tr>\n",
       "    <tr>\n",
       "      <th>2</th>\n",
       "      <td>0x170dedd533c37facd60ee18b51d7bcde274a0d1f</td>\n",
       "      <td>152.063</td>\n",
       "      <td>153.61</td>\n",
       "      <td>0</td>\n",
       "    </tr>\n",
       "    <tr>\n",
       "      <th>3</th>\n",
       "      <td>0x16ffc8a17b60398e4fcdc8c111e56373a60d8db1</td>\n",
       "      <td>31.3858</td>\n",
       "      <td>31.3644</td>\n",
       "      <td>0.0214146</td>\n",
       "    </tr>\n",
       "    <tr>\n",
       "      <th>4</th>\n",
       "      <td>0x6c134879dab2103aa5b55e90a16eaf96d0f31a2c</td>\n",
       "      <td>20.0617</td>\n",
       "      <td>20.0104</td>\n",
       "      <td>0.051262</td>\n",
       "    </tr>\n",
       "    <tr>\n",
       "      <th>...</th>\n",
       "      <td>...</td>\n",
       "      <td>...</td>\n",
       "      <td>...</td>\n",
       "      <td>...</td>\n",
       "    </tr>\n",
       "    <tr>\n",
       "      <th>9963</th>\n",
       "      <td>0x466f1a5791fb1c56e8fe45b834d8292a5bb02012</td>\n",
       "      <td>49.9969</td>\n",
       "      <td>0</td>\n",
       "      <td>49.9969</td>\n",
       "    </tr>\n",
       "    <tr>\n",
       "      <th>9964</th>\n",
       "      <td>0x79078fb3922d85fa6c6c84decdc525c2f400c0bd</td>\n",
       "      <td>0.02</td>\n",
       "      <td>0</td>\n",
       "      <td>0.02</td>\n",
       "    </tr>\n",
       "    <tr>\n",
       "      <th>9965</th>\n",
       "      <td>0xfe5dc2deb44a49e74e0a1dc8ae5b38feedeaf27d</td>\n",
       "      <td>2.22803</td>\n",
       "      <td>0</td>\n",
       "      <td>2.22803</td>\n",
       "    </tr>\n",
       "    <tr>\n",
       "      <th>9966</th>\n",
       "      <td>0x94fcaae0ad1f517dd99c02af8f2627495315b55c</td>\n",
       "      <td>0.0255907</td>\n",
       "      <td>0</td>\n",
       "      <td>0.0255907</td>\n",
       "    </tr>\n",
       "    <tr>\n",
       "      <th>9967</th>\n",
       "      <td>0x15110a3bc9aee71ad95988a2be70f6f414bf1eec</td>\n",
       "      <td>0.0432863</td>\n",
       "      <td>0</td>\n",
       "      <td>0.0432863</td>\n",
       "    </tr>\n",
       "  </tbody>\n",
       "</table>\n",
       "<p>9968 rows × 4 columns</p>\n",
       "</div>"
      ],
      "text/plain": [
       "                                         address         In      Out  \\\n",
       "0     0xe7ef8592e64df04891e1e3bbf3013970b5a54f43    195.383  190.134   \n",
       "1     0x7916ed1b5accf672e277fc06b1538a21a30bfbee    347.151  350.467   \n",
       "2     0x170dedd533c37facd60ee18b51d7bcde274a0d1f    152.063   153.61   \n",
       "3     0x16ffc8a17b60398e4fcdc8c111e56373a60d8db1    31.3858  31.3644   \n",
       "4     0x6c134879dab2103aa5b55e90a16eaf96d0f31a2c    20.0617  20.0104   \n",
       "...                                          ...        ...      ...   \n",
       "9963  0x466f1a5791fb1c56e8fe45b834d8292a5bb02012    49.9969        0   \n",
       "9964  0x79078fb3922d85fa6c6c84decdc525c2f400c0bd       0.02        0   \n",
       "9965  0xfe5dc2deb44a49e74e0a1dc8ae5b38feedeaf27d    2.22803        0   \n",
       "9966  0x94fcaae0ad1f517dd99c02af8f2627495315b55c  0.0255907        0   \n",
       "9967  0x15110a3bc9aee71ad95988a2be70f6f414bf1eec  0.0432863        0   \n",
       "\n",
       "        Balance  \n",
       "0       5.24853  \n",
       "1             0  \n",
       "2             0  \n",
       "3     0.0214146  \n",
       "4      0.051262  \n",
       "...         ...  \n",
       "9963    49.9969  \n",
       "9964       0.02  \n",
       "9965    2.22803  \n",
       "9966  0.0255907  \n",
       "9967  0.0432863  \n",
       "\n",
       "[9968 rows x 4 columns]"
      ]
     },
     "execution_count": 181,
     "metadata": {},
     "output_type": "execute_result"
    }
   ],
   "source": [
    "output"
   ]
  },
  {
   "cell_type": "code",
   "execution_count": 182,
   "metadata": {},
   "outputs": [
    {
     "data": {
      "text/plain": [
       "848.3338890342145"
      ]
     },
     "execution_count": 182,
     "metadata": {},
     "output_type": "execute_result"
    }
   ],
   "source": [
    "max(output['Balance'])"
   ]
  },
  {
   "cell_type": "code",
   "execution_count": 183,
   "metadata": {},
   "outputs": [
    {
     "name": "stdout",
     "output_type": "stream",
     "text": [
      "0.6748595505617978\n",
      "0.12720706260032102\n",
      "0.08196227929373996\n",
      "0.06912118780096309\n",
      "0.04504414125200642\n",
      "0.0018057784911717496\n"
     ]
    }
   ],
   "source": [
    "print(len(output.loc[(output['Balance']>=0)& (output['Balance']<0.01) ])/len(output))\n",
    "print(len(output.loc[(output['Balance']>=0.01)& (output['Balance']<0.1) ])/len(output))\n",
    "print(len(output.loc[(output['Balance']>=0.1)& (output['Balance']<1) ])/len(output))\n",
    "print(len(output.loc[(output['Balance']>=1)& (output['Balance']<10) ])/len(output))\n",
    "print(len(output.loc[(output['Balance']>=10)& (output['Balance']<100) ])/len(output))\n",
    "print(len(output.loc[(output['Balance']>=100)& (output['Balance']<1000) ])/len(output))"
   ]
  },
  {
   "cell_type": "code",
   "execution_count": null,
   "metadata": {},
   "outputs": [],
   "source": []
  }
 ],
 "metadata": {
  "kernelspec": {
   "display_name": "Python 3",
   "language": "python",
   "name": "python3"
  },
  "language_info": {
   "codemirror_mode": {
    "name": "ipython",
    "version": 3
   },
   "file_extension": ".py",
   "mimetype": "text/x-python",
   "name": "python",
   "nbconvert_exporter": "python",
   "pygments_lexer": "ipython3",
   "version": "3.8.5"
  }
 },
 "nbformat": 4,
 "nbformat_minor": 4
}
