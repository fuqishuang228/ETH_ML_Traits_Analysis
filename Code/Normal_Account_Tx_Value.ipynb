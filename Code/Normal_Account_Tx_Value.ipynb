{
 "cells": [
  {
   "cell_type": "code",
   "execution_count": 1,
   "metadata": {},
   "outputs": [],
   "source": [
    "import pandas as pd\n",
    "import numpy as np\n",
    "import os\n",
    "import csv\n",
    "import time"
   ]
  },
  {
   "cell_type": "code",
   "execution_count": 2,
   "metadata": {},
   "outputs": [
    {
     "name": "stdout",
     "output_type": "stream",
     "text": [
      "Executing function MergeCsv( ../Dataset/Normal/ ../Dataset/Normal_Tx/all-tx-more-1110.csv )\n"
     ]
    },
    {
     "name": "stdout",
     "output_type": "stream",
     "text": [
      "csvPath:  ../Dataset/Normal/0x009f854bc136bdaadc7da95493ca1258477eda74.csv ../Dataset/Normal/0x0005c26c34507a797d5a5e7871517b47ffb3fc3e.csv ../Dataset/Normal/0x000886fb9c88b1e3c9667e67e64bf70207304b5f.csv ../Dataset/Normal/0x0009e0607b1773529de3d27db73263838e136fda.csv ../Dataset/Normal/0x000aeed5ef386fb88baf716c83512de5dda1fa91.csv ../Dataset/Normal/0x000e482423082fee7955f76dd60aff0e19e4aec9.csv ../Dataset/Normal/0x000f3db5d00fa1a9ff09500de359596709b3d2f8.csv ../Dataset/Normal/0x001022afb290a58be473cd352ff659d8846bb23c.csv ../Dataset/Normal/0x0011696e2696a7821c1a6e8314798424b7a3a5e5.csv ../Dataset/Normal/0x001555bb755fd303cbca41accf0fa5addc0bea08.csv ../Dataset/Normal/0x0016b5697df3d9c60a155e9affea2f41f0f868b7.csv ../Dataset/Normal/0x0017d244a74aed3e32ab1e4dea78f682be409d27.csv ../Dataset/Normal/0x001b71aa50c7b68962bc0bcb13a044b898daedd3.csv ../Dataset/Normal/0x001c495c1f9ac74528ca6a894c99b05743e27a68.csv ../Dataset/Normal/0x001cda53d66c30aa1954acb96181805d0b5ee67e.csv ../Dataset/Normal/0x001db6a2e983ab6743252896d75349e83aa27a29.csv ../Dataset/Normal/0x001efcd224dc27d8313bf1b566dca6d0398de773.csv ../Dataset/Normal/0x002013e7841c02fe44790da79ed3c749998140e0.csv ../Dataset/Normal/0x00210ec75430d88d46f7ab8c9d3a573b5b24c312.csv ../Dataset/Normal/0x002259b883b7a5a040fa47509ab250f320a651eb.csv ../Dataset/Normal/0x002301c23ecddf0f2378ca739560145d16406933.csv ../Dataset/Normal/0x00243bd826a738e9923c8a27340cb0c3f0b13a21.csv ../Dataset/Normal/0x00254e1917202bd37c87d3cbfb8710f8a022c230.csv ../Dataset/Normal/0x00267bba8584c0e2ab8e8ac5154f42c94dd7e5af.csv ../Dataset/Normal/0x00273e3372cd1e5db721dca3ec053e2b7ce89bfa.csv ../Dataset/Normal/0x0028653950a9f5104d30e1978ab80648aa0f5213.csv ../Dataset/Normal/0x0029cbacffd455d1ad932b899136d8da3c9486ac.csv ../Dataset/Normal/0x002b904f969ad0191074677be4ca8fc959f017d4.csv ../Dataset/Normal/0x002cb87a037c9d45ef8199aa3be1dbee0ee0f309.csv ../Dataset/Normal/0x002def85facbb8d72bc3e394f8ca23934af8f06d.csv ../Dataset/Normal/0x002ea1f712cdc4f00b5d1a6178708445f8d1d9c4.csv ../Dataset/Normal/0x00310f80232fc6e491bd5fa7545302ab08c9b1dd.csv ../Dataset/Normal/0x003191c8e478a1a0f8fee0b0db8b40ad4d33dfab.csv ../Dataset/Normal/0x00320c624958997f6d8ec1d130a436e87a1f0b0e.csv ../Dataset/Normal/0x0032c10ad495d95801bd30291df056a3bd316e09.csv ../Dataset/Normal/0x003359e6922510dd30552ed6c3204c68638c1f77.csv ../Dataset/Normal/0x0034ff0b0d3840989a8a57a47b864719fc6ad37f.csv ../Dataset/Normal/0x0035f5fa0aadaed083e5f4fb8fae40624772091c.csv ../Dataset/Normal/0x0039eff0b58a66b4fec1acb80f6065b76264a355.csv ../Dataset/Normal/0x003aa7cdf348331818b5e1bea903f99355ca58d1.csv ../Dataset/Normal/0x003bba89193cd556682b97fbb7417eb7f0a994dc.csv ../Dataset/Normal/0x003dd74078c058144e5aa8fd7853b8fcff96a44c.csv../Dataset/Normal/0x003f5f48895d6bafe07838d0a6f5571e3728eef4.csv ../Dataset/Normal/0x003fe8a3332f5529dff5bba8e5ba659cdcae735d.csv ../Dataset/Normal/0x00409cff0ac71edc2c0b246267c658493b05a8ce.csv ../Dataset/Normal/0x00423687bce80c119672dc508cade3917248eb63.csv ../Dataset/Normal/0x00435f8883296c7c48540f334adce33504a6b010.csv ../Dataset/Normal/0x0044152456fab529f164b90aa473a2249ab03913.csv ../Dataset/Normal/0x00453429a205e660a5eae0c5c8b38472410a81f7.csv ../Dataset/Normal/0x0045f99939c93de0db55de2f274459c5f2b3e711.csv ../Dataset/Normal/0x00469cc091d9d9a957e0079004b42e378e2372e9.csv ../Dataset/Normal/0x0047771846b8aee21bfffacc5b7043a3441b5440.csv ../Dataset/Normal/0x004928dc427b4d61f7dfb2f6dc5028d79a6675f1.csv ../Dataset/Normal/0x004a941e9ff59428118feac9c7a0f6f2438596b7.csv ../Dataset/Normal/0x004c79f07a60263293a453ef71894ab30e4b2244.csv ../Dataset/Normal/0x004ee1f4b29bb2f28e65a5f834f4a60fc8a6b47b.csv ../Dataset/Normal/0x00504394629f3a1411d2b4ab809f33aa3054a02d.csv ../Dataset/Normal/0x00528cf2f1ad06602897c55db3c19cab23e0ba1b.csv ../Dataset/Normal/0x005570bb0fca1fe446aa857550bbec28df15259a.csv ../Dataset/Normal/0x0056ae0261ce381bcbeb8f8dc6d26127cfdd87a2.csv ../Dataset/Normal/0x00572a6e515f74ee4a593f837928a0fddb2b1621.csv ../Dataset/Normal/0x0057db0e60c2d9f88b9dcc852aac73501a643883.csv ../Dataset/Normal/0x005982bb62a31053eca40babc6169fa79a33be8e.csv ../Dataset/Normal/0x005b19bd66258b747207b8a8dca9a4dcbfd16307.csv ../Dataset/Normal/0x005bde7a7c1a73d28264483bbcee0264c5704363.csv ../Dataset/Normal/0x005c60be1d170457a4a9520567bc4aea70d33eea.csv ../Dataset/Normal/0x005cdfe9823f8becd246864440fa6cc5ff02ac12.csv ../Dataset/Normal/0x005fc4e700bf9feb750d5ddea9a4c21cc479f159.csv ../Dataset/Normal/0x006081820b5a97bfcea2fc22ad0c85a23b4e553f.csv ../Dataset/Normal/0x00613167b549f1f8072e44229dc2077fba3c346f.csv ../Dataset/Normal/0x0061e746a42125949ff578684a899aa94bcff11c.csv ../Dataset/Normal/0x00628e5f6ccdfdf710edc4c3091ba10cc152754a.csv ../Dataset/Normal/0x0063b7ca532846403722644ab41afa940bf028b0.csv ../Dataset/Normal/0x0066be2bfdb4bde16dbf0e80bde8a3014649b5e8.csv ../Dataset/Normal/0x006719f7c759eb226ff63d3e165c2c222fbe1c1a.csv ../Dataset/Normal/0x0067549d6864fb8a525f19003569648af066b12b.csv ../Dataset/Normal/0x0068114ce96ff12907233d5424c65d16b49ce0aa.csv ../Dataset/Normal/0x006947cea911b4dfbb64768f5cbfb581d2d43289.csv ../Dataset/Normal/0x0069b6779126fddc48faf046b297bf827f420e69.csv ../Dataset/Normal/0x006b046592c09ffd731143fcbce46748b6eff3c5.csv ../Dataset/Normal/0x006d61de9b13a9251cf23f7c2711f80b37e1041d.csv ../Dataset/Normal/0x006df823d7e9ec6fedafc0eac4f0524cda5abc07.csv ../Dataset/Normal/0x006fb74300666bf836c5667df04407ecb5fa97b0.csv ../Dataset/Normal/0x006fea50d4fd04fb4eaef244b5f71f11ccb44516.csv ../Dataset/Normal/0x007058da8c853e60ff705efc99c6f9b375be4a23.csv ../Dataset/Normal/0x0072a53ef115ea0cb4f96b23a134396fed4d6d88.csv ../Dataset/Normal/0x0072ffb8069bdd4f791fbf9352a7226c7f46ecd9.csv ../Dataset/Normal/0x00731ad4aa2e752e9f43fba84404669ee784369c.csv ../Dataset/Normal/0x0073ee6adb4f8e1f60b7ba28ed8f806d9ae355dd.csv ../Dataset/Normal/0x00757473fb499109724ddd9bbf6ebaefa9b635c4.csv ../Dataset/Normal/0x0078e6f90877cebaafb0b3e25a570bd5ddd497bc.csv ../Dataset/Normal/0x0079384512a065244090ed899aefd4a3b1446863.csv ../Dataset/Normal/0x0079d118948ac38b4b6a46cb31beca999beb0b85.csv ../Dataset/Normal/0x007a9c8099a026bcd32397bd0f14b1eca72565e6.csv ../Dataset/Normal/0x007b5b96bd459162d9d5eb8671761f156c18602a.csv ../Dataset/Normal/0x007c25dc7c95dabb8268d7673b605e33eed4a9eb.csv ../Dataset/Normal/0x007cafba4edd0e25a664530e3cac0ffadb101fd8.csv ../Dataset/Normal/0x007d6286d0cdd80930e8915ac7fe016d6a3a755e.csv ../Dataset/Normal/0x007ddb12060c949617b6e68b93c9a735ebe20f2e.csv ../Dataset/Normal/0x007f8d6f0bfdf3ded198f6b9f3b44088e6d62ad5.csv ../Dataset/Normal/0x0081213432e9439ead2ebdc51e466477c28f237c.csv ../Dataset/Normal/0x00818bbe7a6f6c3633345e4adb9c033c94a883dd.csv ../Dataset/Normal/0x0083704ad2f3e9f58e71593459462875255b7bd2.csv ../Dataset/Normal/0x008417fafb93dc8e66df2448c32c5536ea9738aa.csv ../Dataset/Normal/0x008680931a2c2b9eba7609191ca245aab4a70456.csv ../Dataset/Normal/0x00873aaa291ae62cbc1365a6d6390eab91a3ea52.csv ../Dataset/Normal/0x0087d1c22a6dc6a0e0ac2c6ffba7f7562667afe2.csv ../Dataset/Normal/0x008893d10cb7075023c88497928a73ee8ac4c5e7.csv ../Dataset/Normal/0x008979ce4504dcccc4aab49cf1ce907f08654780.csv ../Dataset/Normal/0x008a0a301fe9ddc97714c59bc1bc1866ec2994d3.csv ../Dataset/Normal/0x008bdb0c114982bfbd5fcd6fcb1c423808efa87c.csv ../Dataset/Normal/0x008eabc5f0806e1b31657b214036306914b52c66.csv ../Dataset/Normal/0x0094378b691db9b4d6074870460ca466270b3cbe.csv ../Dataset/Normal/0x0094fcf303bfdf10003f5c957fb94d29e71fe5d3.csv ../Dataset/Normal/0x00961745dde1319864c16807af58e1df1e42fd58.csv ../Dataset/Normal/0x00967daf1fd53e0bc0a7a72cd02535a23922ba57.csv ../Dataset/Normal/0x0096fd2573cd3bce79534606ae60bb5ab5d47c3c.csv ../Dataset/Normal/0x009924d83ba6cef495eb63f3648c4a3d0dd32cde.csv ../Dataset/Normal/0x0099e3ea4f7aa9505be2c1c94149116b9856208b.csv ../Dataset/Normal/0x009a36ef26ae1e14a6560d590d2ea313ad67e7bf.csv ../Dataset/Normal/0x009b6fa8745f1f76ba23f8fae0840132abdd86ca.csv ../Dataset/Normal/0x009c4632e1688e7a7fe96f4b6013d1daca075238.csv ../Dataset/Normal/0x009d198a2f735e25d60aa0503a05b8f98113dcb8.csv ../Dataset/Normal/0x009e641f4f1f5557a8c4ea260b10c394e2f36c91.csv ../Dataset/Normal/0x009ec8dc045807dfe8b3f9f7bcc80a04cd2a57dd.csvcsvPath:  ../Dataset/Normal/0x01826f8f63aa0a38db686178f3b028baf2979747.csv ../Dataset/Normal/0x00a10fc0a1dbdedd0d899ff47eef8d2650598a98.csv ../Dataset/Normal/0x00a302722ba9c7f3fb3682360bdae1b7c1f894e7.csv ../Dataset/Normal/0x00a35cdbd0792b05bb8966e9e5d3d30d3ca9d667.csv ../Dataset/Normal/0x00a5399db28d5de0b8b48d570090eac25900f10f.csv ../Dataset/Normal/0x00a556c73e9ecca6a66b51cc32ffade2c530b1a1.csv ../Dataset/Normal/0x00a5fcc33a558bf559385d18cc4af722c70c8766.csv../Dataset/Normal/0x00a64960a3b3e36f37036bdfff9ac5c4017a5ee5.csv ../Dataset/Normal/0x00a6e578bb89ed5aeb9afc699f5ac109681f8c86.csv ../Dataset/Normal/0x00a74a7bd65a4b2b8e742cedf09c76dae32047f0.csv ../Dataset/Normal/0x00a8942d8f110abeb765d2e7ccef2a711487f4ee.csv ../Dataset/Normal/0x00a91184cb3be9018ff48eb3da4522cffec53e2c.csv ../Dataset/Normal/0x00ab424d2019bc0f4c648232c6e7d181a34034b8.csv ../Dataset/Normal/0x00ace9c04ace7f2d1a1c5bac9bf05d3d34e91f24.csv ../Dataset/Normal/0x00ad843b31125075152367670c8fc6a05b0b5062.csv ../Dataset/Normal/0x00ae5e3c9c3cc9fcca3f045a8ac7cf355c138260.csv ../Dataset/Normal/0x00b15707b9904cd1341ab8dfb411ab698e4e8c2b.csv ../Dataset/Normal/0x00b294752a9e6a897664ce641472f4557085fc86.csv ../Dataset/Normal/0x00b3a63de634b874b9a9f21b7915da69433ea5cf.csv ../Dataset/Normal/0x00b462a47643b21cc8b0b6d985deed660508cda8.csv ../Dataset/Normal/0x00b4bfe7e67030cd1da33c01c06256038d4713a5.csv ../Dataset/Normal/0x00b573867da81745ae7184154547eb1e0ee1c289.csv ../Dataset/Normal/0x00b5f06ae7ca893fafe0153f5eb783f15191488e.csv ../Dataset/Normal/0x00b765a222bf2140291e06d308595fe0adb1ffc1.csv ../Dataset/Normal/0x00b873994e793c519f3ac4343223b8612522d1d8.csv ../Dataset/Normal/0x00bac73cba23ec46b05c6fddbbb7d5d8af82be62.csv ../Dataset/Normal/0x00bb0855704272f2dc4f7bca3003e0f722b67d28.csv ../Dataset/Normal/0x00bb5bc56756f6408366f480466506b94e634773.csv ../Dataset/Normal/0x00bc5d954f94c48ef9488c7b330f2b3788420542.csv ../Dataset/Normal/0x00bd1bba3519746a5b7d0bede063f14d48dfdf2b.csv ../Dataset/Normal/0x00bdc460df325317f556803bfa59693d269981b2.csv ../Dataset/Normal/0x00bf3edae45144cbe468bd1e1d020059647d0299.csv ../Dataset/Normal/0x00bff9378fa89e479270b7f4ba705fd0ee3d3f66.csv ../Dataset/Normal/0x00c03b9d354c1c8e8bbe88bd2cb7e8634c7b1efb.csv ../Dataset/Normal/0x00c2abd0ab9fc13fbc8baac19dc30aec31704d4e.csv ../Dataset/Normal/0x00c372e62564503676be6a6ae8a52c11a2d7a2a0.csv ../Dataset/Normal/0x00c4d6c7d348233462897b984f76b854f973505e.csv ../Dataset/Normal/0x00c5cd8cf55b2ecd715544b879f372e8f5d812d8.csv ../Dataset/Normal/0x00c65ee4ff568d15169cb52ed9e02740f7411e52.csv ../Dataset/Normal/0x00c6a39fd4bdac21b582effe2058394c7effdb65.csv ../Dataset/Normal/0x00c7a95199f687702c9ea1cef12af792ab9bc873.csv ../Dataset/Normal/0x00c8835dd3a46c7fc8c8dd7243c3f9f17d29fc46.csv ../Dataset/Normal/0x00ca6ea09ca618670cfeff32b4310476b97e0255.csv ../Dataset/Normal/0x00cad378dde349b9df45d4e7734dbc496c638b11.csv ../Dataset/Normal/0x00cbc76294dc914777cbab523c56d12695f9a848.csv ../Dataset/Normal/0x00cca79d6d101ad1b75b1330d11bd27b821ea062.csv ../Dataset/Normal/0x00cdbe22d1e508635f75ee617b459595072c9229.csv ../Dataset/Normal/0x00ce4c719ca15c0b9b110141a7f9d25cb79ab8fa.csv ../Dataset/Normal/0x00cfbc83cdba3a11ea14b93ff38893b58a2d6af3.csv ../Dataset/Normal/0x00cfefc98f2c49145521f00eba77a5e16d2cac4d.csv ../Dataset/Normal/0x00d0fea2bcb19ceeaf9486bffe2631392468aaef.csv ../Dataset/Normal/0x00d4c36445836b1a63b256300085df85cabe29c0.csv ../Dataset/Normal/0x00d4ed2fe38f6a364ea9fb963d8a7af891593106.csv ../Dataset/Normal/0x00d5216698ba6dfbb492fa3a1abb6b156ceaea9b.csv ../Dataset/Normal/0x00d7ad63655706eac972d3157e8a554c1294ea5d.csv ../Dataset/Normal/0x00d860bbfcf4bdf912b13e4ae7f937fd9845604f.csv ../Dataset/Normal/0x00d9e3d2031cb499225efc9ee3bcbcba0083741e.csv ../Dataset/Normal/0x00dbcd10744cbe026818faeb943d16749c45a7ee.csv ../Dataset/Normal/0x00dc47ece22eaa8013fa6abef40d0c21a98610de.csv ../Dataset/Normal/0x00dcd1ddf332348efabdf37cb7b61b077afcd7bc.csv ../Dataset/Normal/0x00ddcfede63f268d6c24e82d872972aac304aa82.csv ../Dataset/Normal/0x00de2ad7a3edbeb74a3d6f6bead9a29b8f3295e0.csv ../Dataset/Normal/0x00df4d4ed83cd75de5330ddce13910f93b7391c1.csv ../Dataset/Normal/0x00e062a8055466723e605d3f5295b30d62771617.csv ../Dataset/Normal/0x00e209c76226641789977686b156837066b1e11e.csv ../Dataset/Normal/0x00e35cd19466f310c70285d924cd0348bc60cbeb.csv ../Dataset/Normal/0x00e560b2b3beadfb098a08b863991400d4598dbc.csv ../Dataset/Normal/0x00e678c643e4f9cb737af3d1f896803083986f4a.csv ../Dataset/Normal/0x00e77e497bbfd5326aecff3b599aff3444905497.csv ../Dataset/Normal/0x00e9641d3a36118544986fc876be5bb55a94d16b.csv ../Dataset/Normal/0x00eb31c3a5d8d92c206da3ea4ecb0a8d87557dc6.csv ../Dataset/Normal/0x00ed68a339aef3f8dbc6d8ac74e5f10a0231702d.csv ../Dataset/Normal/0x00f08a17f0ee643a2ab4048f17b00861cb336745.csv ../Dataset/Normal/0x00f0e81e62f6292ba463e9fafde062773307f788.csv ../Dataset/Normal/0x00f149832c73be4abc687049a98219b7429f9843.csv ../Dataset/Normal/0x00f3788c18c5641d07815baff4c3edf13e142a52.csv ../Dataset/Normal/0x00f442c82627a6f12609e18361d3a65f1d9c0a63.csv ../Dataset/Normal/0x00f6272f809065a80786c9b5db049dfd3a74cca5.csv ../Dataset/Normal/0x00f79b146fb91305b726d33bdf41be4ea4768c81.csv ../Dataset/Normal/0x00f82db5d71b2536da1b99b634afe9daba7e4fdc.csv ../Dataset/Normal/0x00f8b5f4248272c620954477000e33ed259d0f8d.csv ../Dataset/Normal/0x00f926e233a21a28a2387e2b071dbaa25b56c70e.csv ../Dataset/Normal/0x00faa4833f31e9dae3eaa738121fa2d72831d550.csv ../Dataset/Normal/0x00fb179369ff25216151981ba2cea72885d56032.csv ../Dataset/Normal/0x00fe2d71692bcad9d617be12ea1d24427cd1e2cb.csv ../Dataset/Normal/0x00fe8c3c9c5df9230ec7971c5a64272434d99c50.csv ../Dataset/Normal/0x00ff605c8933f40b7b272fd4eacea14e9376a8f1.csv ../Dataset/Normal/0x010056e582655c0bc425b7c514cbcd15e18c43c6.csv ../Dataset/Normal/0x0101813becb7b9e366a55e839c12654743e57c62.csv ../Dataset/Normal/0x01068be611631cd9857ce76e5023a05bce9b3d60.csv../Dataset/Normal/0x010b902a95319da0202b750c9da6f2fd54ec6eaa.csv ../Dataset/Normal/0x0111ae626af8d56b90318348c7a6e3d6dd1d4ec0.csv ../Dataset/Normal/0x01140797cbc7c1214d95e9c5ad1f174632766073.csv ../Dataset/Normal/0x01164ff04023b84a281435b807b14cd2a82c94fc.csv ../Dataset/Normal/0x01180f3ee5526daf42768747cbc6171c97f912c4.csv ../Dataset/Normal/0x011ae2972fb56a5235341f65507d304b81e41588.csv ../Dataset/Normal/0x011c0d1cef010c0f9a5f9a8bf79550db4e3c0e6d.csv ../Dataset/Normal/0x012229ab491e49906457705ab085eec9f30f42bd.csv ../Dataset/Normal/0x012af43d005a8592eef422ace4f03a701d0b6598.csv ../Dataset/Normal/0x012d2e42a4ad259f86d198a9d983cad0a22d054e.csv ../Dataset/Normal/0x013130d91d1e9c1eb9225e935ee395ca271d6a5f.csv ../Dataset/Normal/0x013576e7a555e48d34cbbe2d0cb83fc838106441.csv ../Dataset/Normal/0x0139e4bb7cc8d3a9f1925c6d259102af2211553f.csv ../Dataset/Normal/0x013cb56fea268695ecfb777b2fdd90dcf129b7c4.csv ../Dataset/Normal/0x013d8dd31e929b4f7c81adf252df21a3bddb5da3.csv ../Dataset/Normal/0x013f1bfb2fcc80abbd1540522458c7a39b1805d1.csv ../Dataset/Normal/0x0141053821f9a58cd8e810b6d5f4bbe6cd496cc3.csv ../Dataset/Normal/0x01456f6a8c13bdaf9a8dcdac2226fbf7dfd52e24.csv ../Dataset/Normal/0x0148fd96e60a56001367c159a6580b23ef8c9fe4.csv ../Dataset/Normal/0x014b515c91f138c6ead22fe3d6e2077284908179.csv ../Dataset/Normal/0x0152408e280bba4408ed56ffa3019197ff59438b.csv ../Dataset/Normal/0x0154c98a9bdf403cbf5ecad63db8e094d5e62536.csv ../Dataset/Normal/0x0156705ee9167db08a716b481f87b9c34fe44a6e.csv ../Dataset/Normal/0x015afdf1efd9116a7b8c2e48f3e3aa1a03098416.csv ../Dataset/Normal/0x015c46a51eaf32b0e428ff52d35c012b630194ec.csv ../Dataset/Normal/0x015e4cac3f5def69a7c5be4ee38731d81e5c6ff5.csv ../Dataset/Normal/0x0162c29d531f8860115d56ad329ac1c7430cad25.csv ../Dataset/Normal/0x016552408260ddc3b0fe782fc1862ca8a3294661.csv ../Dataset/Normal/0x0165d20a8f02c191c7352d64dbcb6093a2895cdf.csv ../Dataset/Normal/0x016cd40242a3b50902c84088092ef87c85d782b3.csv ../Dataset/Normal/0x0172685378b719b0f8da7ed7d4d8a7501c10e575.csv ../Dataset/Normal/0x0172d6e743abe39d2f8b6914dcccd08a2d78358d.csv ../Dataset/Normal/0x0179352defdfbcf10155845404af3831944e90a5.csv ../Dataset/Normal/0x017b0f57b2dcbcbe3ec24d17ffc4e116163d09ee.csv ../Dataset/Normal/0x017f6b27570466fe46bdcbc9a454265f1112463e.csv ../Dataset/Normal/0x01825e08e5019c7b5e2fae64c49a2c5dd2d53715.csv\r"
     ]
    },
    {
     "name": "stdout",
     "output_type": "stream",
     "text": [
      "csvPath:  ../Dataset/Normal/0x03ce87024b34a52021b6fce9e2ba2188ae8f35c6.csv ../Dataset/Normal/0x018747f371e136c8171ecffaa63385e956cec25a.csv ../Dataset/Normal/0x0188399abc3159f8b51261cc35c159587e7a4366.csv ../Dataset/Normal/0x01894bd8164e5b852672ffa39cdb0384f44fd4e7.csv ../Dataset/Normal/0x018f7a390275dde6e70684d71af9e0405322fa6f.csv ../Dataset/Normal/0x01908021593532b4fc0d79dde6666975ef25bc55.csv ../Dataset/Normal/0x0191f4333e0b46491b0007cfcdfe126ff5ed2c03.csv ../Dataset/Normal/0x019469ebc41473a7d3df0ca078c6b6eeb548047f.csv ../Dataset/Normal/0x0197793602a56bb2f1d1b5a01eb28f2abd6c151c.csv ../Dataset/Normal/0x0197fb2b22070256019074661920acb01c87e2da.csv ../Dataset/Normal/0x019ac312d669e52bf2d1b70a1222b4fff3524fa4.csv ../Dataset/Normal/0x019ca8184121a6ec921c8c0d333d9e751f92424a.csv ../Dataset/Normal/0x01a6464bb126a650a242738da8dc2bcd696cea2f.csv ../Dataset/Normal/0x01a8af2ae1cff87ebe88245d3d88e192c80eff27.csv ../Dataset/Normal/0x01a93d35d9b58bbcc4278d93c1fe30eef2ba2c33.csv ../Dataset/Normal/0x01a978e2e49fe7492e2ec9599ca9cd7ff40b7891.csv ../Dataset/Normal/0x01abbd177f4869d0ecb952e96aff414b744d15d3.csv ../Dataset/Normal/0x01afda8da79380b5aa56ee60886e576adb2bad84.csv../Dataset/Normal/0x01b2e0803dc515e0f8915a7ca24f4226dfda31fc.csv ../Dataset/Normal/0x01b65d0b875733f00bf7fe08e386d765d7034fc7.csv ../Dataset/Normal/0x01bccffc428ad43e2a19f9ce1219fdeab267faf3.csv ../Dataset/Normal/0x01bf1869e844e73ac8212d69b6cea3eefabaacfe.csv ../Dataset/Normal/0x01c0c38ff089b837e980da82c998eca4382a9388.csv ../Dataset/Normal/0x01c6465521d2d96661493b23f26331e32adad99a.csv ../Dataset/Normal/0x01ca466d12ff37f1e9ef8486353955d3cc5abad1.csv ../Dataset/Normal/0x01d0f41c63ccc4b91eb0f7c1169f04fc02b4eed9.csv ../Dataset/Normal/0x01d199ea0d92f444ced6b38369cd7c8c8025db53.csv ../Dataset/Normal/0x01d2c65c761796eb93de51fb713199bf5f48f893.csv ../Dataset/Normal/0x01dcaa2f371e289c5c20317169fcf071f4c691eb.csv ../Dataset/Normal/0x01e1130bdaec27e023b3928a24b614f95f39d8f6.csv ../Dataset/Normal/0x01e2e4569e93956c7fd53b5ab08c02fbe97b150a.csv ../Dataset/Normal/0x01e755e1417baca99ec7eeb1d7cefb5ffe45196d.csv ../Dataset/Normal/0x01e977ea8ee9257f5c850fccd4996abe33daf2ee.csv ../Dataset/Normal/0x01f11ec65bb4c2113af9a21f29876642d8a7fd49.csv ../Dataset/Normal/0x01f8dbca9f40702d3235ea9c1596ac896d6281c3.csv ../Dataset/Normal/0x02016654b724e05ad3eb5c6a44b2207f3d678d08.csv ../Dataset/Normal/0x0204dd3d9cc5e76c75f0cf035d15c24187fb62ae.csv ../Dataset/Normal/0x02090b3732226d527800765d38d6cd54afbedc06.csv ../Dataset/Normal/0x02134f39f0bd556b62f7b190cf83e718e5f9a68a.csv ../Dataset/Normal/0x02257582c2499a7e3ef2f8f7142f2d8a1e923ed3.csv ../Dataset/Normal/0x0229ce35fcc756444b72608d34d0ce1dafd1578d.csv ../Dataset/Normal/0x02419c64b68652c26ed0a98be7c076effd521aac.csv ../Dataset/Normal/0x0241f3d98675f46fdd444645bda56d53a5ea985c.csv ../Dataset/Normal/0x0244c1e6fa269d063d116d5fce4adc5c62d0aa3d.csv ../Dataset/Normal/0x0245537bf55e29790bc43c2d9398dcf049e436a4.csv ../Dataset/Normal/0x025701129f24723dfecd4e5b3852b810ba7970cd.csv ../Dataset/Normal/0x02622f5be3a2a2edcbbc50dff42de17fe089301a.csv ../Dataset/Normal/0x02650edb04c3848d577801057e2e1e42e64b5593.csv ../Dataset/Normal/0x026839a4d6c815a8e7f32f0d1b37a6790e5177ea.csv ../Dataset/Normal/0x026b63ec20de5245f759c68df7d948ef8ccffade.csv ../Dataset/Normal/0x027d34d47b48831635a384d1a3755da706af7246.csv ../Dataset/Normal/0x02919c768977266454dfaf9d53dbec6401809f08.csv ../Dataset/Normal/0x0298217a2924ef20919ef76a8f1d249e729a9f4a.csv ../Dataset/Normal/0x029f729699a26b0d85cb4bba5e78017d00e9a016.csv ../Dataset/Normal/0x02abd89c770df30d769e6a0b54650f316022dd06.csv ../Dataset/Normal/0x02ae2e28b325ca783db93796bc45ec0fdf8953a9.csv ../Dataset/Normal/0x02c25e5fe21c82d2e53cfc3e3f880102ef7ce679.csv ../Dataset/Normal/0x02c27de8e1c3f0ae801c328435f47253e93b2332.csv ../Dataset/Normal/0x02d7d412705e28573a1d85cebfd2cf2e459466ba.csv ../Dataset/Normal/0x02d834e3a577e9e609c838de1d5945dff4a8b5f2.csv ../Dataset/Normal/0x02dda6b168746295d129afc01015ca3362e78353.csv ../Dataset/Normal/0x02eb40652265f7ab2023f722a9c79db391ebc094.csv ../Dataset/Normal/0x02f1c4afaccfda98ccbb54f9e135e8a7ef984707.csv ../Dataset/Normal/0x02f2f3de96e88cba39df3f072173b18c5abb707c.csv ../Dataset/Normal/0x02f5f131ff0b87069146634b34e6a9095a23b82b.csv ../Dataset/Normal/0x02fb2958828663bd2d0c3b3acdfe1911efb93ae2.csv ../Dataset/Normal/0x02fe2f0562321ee5705f09517eb245dc4d4550e4.csv ../Dataset/Normal/0x0313a1e3156ed9babcf11d7e0744191ef403918f.csv ../Dataset/Normal/0x031da0e42f3c2104b237ef3201338a543c89f4e7.csv ../Dataset/Normal/0x0324c0be51546e30398a98a62559c072f459330a.csv ../Dataset/Normal/0x0328ceb1b8fe35f3582fdc539d14878f0e6efd79.csv ../Dataset/Normal/0x032f12538b0e391f1474a886f05f56153c72bc99.csv ../Dataset/Normal/0x0332e86dfcc5d0f6c7c19e86bd74a0125d9f46c7.csv ../Dataset/Normal/0x0335ae533c189072ce21afa65c4e2d8e0279aae6.csv ../Dataset/Normal/0x0338be72ea4ae0fe0ea47041a1c8af8432b41720.csv ../Dataset/Normal/0x033c276edfa3c23a8984432328b00812f8016c2a.csv ../Dataset/Normal/0x033c45456aa7cff52b97377f38044d881cd58895.csv ../Dataset/Normal/0x033d787b54e148ac841b97a0a445193e254a45cc.csv ../Dataset/Normal/0x033d932fbb60e4f53cf083976d6f5165d52a3556.csv ../Dataset/Normal/0x0342fa1a7c0ccff4088190fa7531a977532637d7.csv ../Dataset/Normal/0x0345ce45ebad7f9aa2e67faf9276d70ddf845315.csv ../Dataset/Normal/0x034dd97c7b817cc95b9242a914640a0f4759ab93.csv ../Dataset/Normal/0x034f868fec904f9b3eddcb0975e27c2d2eeefb61.csv ../Dataset/Normal/0x035b5c136213415262aa8416eb7dbfa10f3a9be3.csv ../Dataset/Normal/0x0361ac0346b12c179d55e9de916f8eee82061a8a.csv ../Dataset/Normal/0x0363368e7ebc177de9028a59c9910c61a1a4248e.csv ../Dataset/Normal/0x0363e236269065d43ca8c22c32c98bf784168a41.csv ../Dataset/Normal/0x036e4b6594690adf6084e26854974a1a300d897e.csv ../Dataset/Normal/0x0370785e3a253f00ba928cdc6ab833f6266e9103.csv ../Dataset/Normal/0x0370e3f91d96eabca2f8684d99b5882f0beb0921.csv ../Dataset/Normal/0x037378d0d67dd3cc6282501d9eb86cf386bd4ccc.csv ../Dataset/Normal/0x0375b634d0c093ff62d1f43893188b2b6dc8567a.csv ../Dataset/Normal/0x037860d0c27cc82643aeda2691a6c09dc582fe58.csv ../Dataset/Normal/0x037be1f5a2803b901a167378394580c939c5e568.csv ../Dataset/Normal/0x0385dd6a9a2105b274f23b14c1913421bcd7e422.csv ../Dataset/Normal/0x0386f65a3d59c42b7a4e019c8fe62d0009d7aa0e.csv../Dataset/Normal/0x0388bb9908386d8ad0160b950efaa6244808416e.csv ../Dataset/Normal/0x038b1d5a509ce1e1435d591515ccab10fbb8fa06.csv ../Dataset/Normal/0x0391c118ca2bea3971f45f92a280ebf4190cf4e7.csv ../Dataset/Normal/0x0394848bc5bc9c90647f76eb0901f093c468aab7.csv ../Dataset/Normal/0x03992bb845b704ba2a7a9199a127a4637d42bc13.csv ../Dataset/Normal/0x039b22602f2d5a5f41e86f7cc638f4c395737057.csv ../Dataset/Normal/0x039b9df03a244d75c3240736eb59cbd74adb7861.csv../Dataset/Normal/0x039c554916bc3f0e833cb956f8e3cc983ac175df.csv ../Dataset/Normal/0x039d7b869a2de6feb4747ea0e91e3e7eddf4e203.csv ../Dataset/Normal/0x039db56fd99b6b38a502ac9872d50846edaef7e1.csv ../Dataset/Normal/0x039e551b7fd2961817cef5a2a0dd2f727e5a99a5.csv ../Dataset/Normal/0x03a59546ae119687242ae16f2edbc07cbf7fa055.csv ../Dataset/Normal/0x03a6877b2447aef3d0ccdc31e3d9d13a83e4becd.csv ../Dataset/Normal/0x03ac992922036160a2276ef492eab120b2813532.csv ../Dataset/Normal/0x03acefe94e4d83c71f97907509fe3a13856e886a.csv ../Dataset/Normal/0x03b998de54bce28ebcc3127690aaf0e751f1ef53.csv ../Dataset/Normal/0x03bb664becc99fc0110f7d5d77450388a3b0eb1a.csv ../Dataset/Normal/0x03be663a0fbbb990211e2ba027f971dbe61ed23f.csv ../Dataset/Normal/0x03bfe110bca68ed48f671b0dece278ca70bc4900.csv ../Dataset/Normal/0x03c0cb9029bc835545b4b5838c519ea7a1968e67.csv ../Dataset/Normal/0x03c3945dc69e0fb5ce7e9f075de75549192d277e.csv ../Dataset/Normal/0x03c53aab4079d64f14ad56b2bb7ae259ed33ae1e.csv ../Dataset/Normal/0x03c97e5d95824f8a511e58366b9bd808af8e92ff.csv ../Dataset/Normal/0x03c9ce1d115a21acf915bbf2505c7322dab299ea.csv ../Dataset/Normal/0x03ca5b6d7050839fe102d12e8642cff53e2578d6.csv ../Dataset/Normal/0x03cb087dc6c638ce7af28f5e3bd4b440d116e458.csv ../Dataset/Normal/0x03cc5de512c44dfb6c0a3b158f7446af05e01db4.csv ../Dataset/Normal/0x03cc9c3cf68bec331503a3b36592782d8eb48e73.csv ../Dataset/Normal/0x03cd0aa48cabf05648a81df0de054d75d25f540e.csv ../Dataset/Normal/0x03ce7e90d7f5fedea8e6a9511983df138b5a126d.csv"
     ]
    },
    {
     "name": "stdout",
     "output_type": "stream",
     "text": [
      "csvPath:  ../Dataset/Normal/0x051cf681722ae044e0698405bf2daa60be723f42.csv ../Dataset/Normal/0x03d5ae570aadb7bdedd79c11552e0ce95ff5b2bd.csv ../Dataset/Normal/0x03d6a005fe75546229f07af0d44a93a8d3851b55.csv ../Dataset/Normal/0x03d7c76f57d2628940094282727d816adfef6bd5.csv ../Dataset/Normal/0x03dc76b5833725e29ce74d35e7b426d1ed995aa9.csv ../Dataset/Normal/0x03dd1b2ccb05da6620176f1d866c2130173a9dc2.csv ../Dataset/Normal/0x03e01b0213855565b80117b26a872454ff70bbd8.csv ../Dataset/Normal/0x03e15b564fbf778d9fe0c7230edf5e399087ee0a.csv ../Dataset/Normal/0x03e769bd32331b9889275771ba7ddc20dc7b1528.csv ../Dataset/Normal/0x03ea01d8cb064086b65e0a0e902a0645146876b7.csv ../Dataset/Normal/0x03eab83ac63162d16e7b758b45a3cdf94bac0c50.csv ../Dataset/Normal/0x03eadec9fb19cb21958ae9f31a4fa7131c83d89a.csv ../Dataset/Normal/0x03eba2b88189655f48f82dd7ab4e66b77ed4c337.csv ../Dataset/Normal/0x03ef9dd92d44318c090aeb85eb6036885508867a.csv ../Dataset/Normal/0x03f028f9358ee9c4f6f29961b5bb4d9750fd19db.csv ../Dataset/Normal/0x03f0d261ddc58168af683925cb309b8f4cf4eb0d.csv ../Dataset/Normal/0x03f21b2e0fa9aa96283a5cfcebc11b9374e47b1c.csv ../Dataset/Normal/0x03f37f825a1f10d239e024f8f4a05098a5723c94.csv ../Dataset/Normal/0x03f4c1540caf928cefd0c5c8378a867cc9d5ab9c.csv ../Dataset/Normal/0x03f71d39efbfa43dda8983133d7aa50bbe49eab6.csv ../Dataset/Normal/0x040052218b1a5ca88a4caa4f7c7c9dc306d88748.csv ../Dataset/Normal/0x04010c0d1ff12378ac9e051dd872fda908dc5063.csv ../Dataset/Normal/0x0404c48262cce2693189f9892242bc5a87d20ba3.csv ../Dataset/Normal/0x04063aa64a9e74b77dd442e2f96ea5b7c34774d5.csv ../Dataset/Normal/0x0407526d373d71eb9f902996b829809624fdde62.csv ../Dataset/Normal/0x041222daefc98f691d3ebf900218fc41c50f026f.csv ../Dataset/Normal/0x0419e994707b411fe905e120c30db859961eda97.csv ../Dataset/Normal/0x0419f3ac1f880a47913a05f60063a0cc5be64430.csv ../Dataset/Normal/0x041dc1c9ae6761136ec493f68dea5d27561cf652.csv ../Dataset/Normal/0x041ea2efef1e5f482fb3937268827ffc45cafdca.csv ../Dataset/Normal/0x041f0734a63b4f2383fc59349f4b9a6a8a51116a.csv ../Dataset/Normal/0x041f7ec0304ef02468c9affc0c8d760b9b365069.csv ../Dataset/Normal/0x0424193a415ebc86ff650e3bda37c521c5f6d45a.csv ../Dataset/Normal/0x042778d6ae76e11831e0341f5a24feff06cdcc37.csv ../Dataset/Normal/0x0428ba8b51a0712df6c9a414a3597eec841226b5.csv ../Dataset/Normal/0x04295c6e50c2d300b8313998ec4d56d0a5d0aa72.csv ../Dataset/Normal/0x042b3720823b9e2b34e1f20305aa2335e32ec102.csv ../Dataset/Normal/0x042ba3f39fab2ba35a04bbbcd0ad80a83c675eb5.csv ../Dataset/Normal/0x042cb7b2c360fc6551a4a1c2479c94be2fcea741.csv ../Dataset/Normal/0x043593b2cf4e941645cb788b382980c59ea71144.csv ../Dataset/Normal/0x0437ed5c75ad2c191965d0fb25f528dd74b3e9d6.csv ../Dataset/Normal/0x043f663e2d742b28c7a5715f7448f86a42091979.csv ../Dataset/Normal/0x044b68488b975fc81383f8b0853df4706b63df1d.csv ../Dataset/Normal/0x044e01514a2961cc5186cb8e7e0cf3cb9cfc2e64.csv ../Dataset/Normal/0x044ee11c853d5fa3ad8f7e11fc65038f52b0c5db.csv ../Dataset/Normal/0x0450a7c9e104fe7cc9becc83a1ad0f78638f4b47.csv ../Dataset/Normal/0x0451b45ca19945c38adc39bc91f45b3d518aa8e3.csv ../Dataset/Normal/0x0453341ee5db5cb5c9af14904d1b22d5e9fac34d.csv ../Dataset/Normal/0x04546b3321a4fc05de9f48b57a4b46d10b7046ef.csv ../Dataset/Normal/0x045b638a2bf9ff848e8fe3532eb2f44192a785a8.csv ../Dataset/Normal/0x045c7a6c3830dfdf1dbded7e7113904efb9930f9.csv ../Dataset/Normal/0x045d25ea4a03b7541bcbcbf726d5bf23a7aa9e99.csv ../Dataset/Normal/0x045de29d5501947ce87902942cc832b7c4eaa69d.csv ../Dataset/Normal/0x045e90d0d1ba724b4f04ebd5387ae95a97a3cb13.csv ../Dataset/Normal/0x0461d08bb2ab76d999a43b085f5f882702cf33c3.csv ../Dataset/Normal/0x0462838f4e30223d51310c9725c51217481141c2.csv ../Dataset/Normal/0x04635d88c24cff7d824ca2e98cf9a5e2059cc81d.csv../Dataset/Normal/0x0469c6f7673099bf4c15b77c56e566df8bf89f4a.csv ../Dataset/Normal/0x046c9acd88d980e310e5435f58a05bc28d873984.csv ../Dataset/Normal/0x046ef27ed5d17c8c9236a01216ed6d997e2767cd.csv ../Dataset/Normal/0x04714428e4e534a3defadbc46bc4e46cc793ff9d.csv ../Dataset/Normal/0x0472e2c87db85f2bc752928c776e60ef6084c7f8.csv ../Dataset/Normal/0x0474b2b26d1808b6df0f422ebc93bb5f4620738a.csv ../Dataset/Normal/0x0475e99e4875278fec5c64fdf42a3f88cf0f3f68.csv ../Dataset/Normal/0x0477ebcacb52a8d32d288293867431e556b493c5.csv ../Dataset/Normal/0x0478420b80db2e2733666777d34e16910396f277.csv ../Dataset/Normal/0x0481b879db96db05d2c3d658b8f5ecafab4f627d.csv ../Dataset/Normal/0x0482ad0b14cf0d9a9280a6d9bae81e3b6b4e591e.csv ../Dataset/Normal/0x048330cb428b175a474f30561a73f25380d9ba3e.csv ../Dataset/Normal/0x0486d70bec25d51111b16408bbb690b2aaf034e6.csv ../Dataset/Normal/0x048c535dca6d1bbd3c8c89f3b0b1ea7dd055ef8c.csv ../Dataset/Normal/0x048d2b6d2ef69e99ba49d5f95bedcb3bed42f30d.csv ../Dataset/Normal/0x049195aada0d904560346ac9ea886f5dec53a10c.csv ../Dataset/Normal/0x0493c6c07b1fe4af0193b7145c7feff9cb10e0ce.csv ../Dataset/Normal/0x04982163b51e425144a21dc9c89f96c2826b7631.csv ../Dataset/Normal/0x049920fafac95470624f01293a17729ca70aca52.csv ../Dataset/Normal/0x04998cddff2e9136df46c88abd0bf979d357b462.csv ../Dataset/Normal/0x049d2c5b1b0f204151b36977ab78fc2182e472e0.csv ../Dataset/Normal/0x049deb9b532f580ed012c38308469c898b80dc1c.csv ../Dataset/Normal/0x049f224bc4e09759dae8ee4fc64eb9dd8e07106a.csv ../Dataset/Normal/0x04a0a9ef7ba5c1360ae0c92d268feec62c7c39e3.csv ../Dataset/Normal/0x04a64ab00b264528c7153e64d339a16a09b2748c.csv ../Dataset/Normal/0x04af7239e60a1c4af203bc7760b19aa81439e224.csv ../Dataset/Normal/0x04aff8713895fd3ae97c21ebcbd11f17ac8d4222.csv ../Dataset/Normal/0x04b24a38f4d66a9a076cb6ffe4d20b9f3556a3c7.csv ../Dataset/Normal/0x04b2e7ee6a31044433f5f6c78f38fd3c3f48d171.csv ../Dataset/Normal/0x04b3ea5c7880057298242b158032de01bd6da02d.csv ../Dataset/Normal/0x04baa34318baa589e5972ea80e15d3a00fb53c49.csv ../Dataset/Normal/0x04bc516ea21ca526d8c4276d96da9659c52e19ed.csv ../Dataset/Normal/0x04c473f1d60412c9bb329d638deae8dd57b767f6.csv ../Dataset/Normal/0x04c5d64749a33549d4e3c5224405d42205a3bd01.csv ../Dataset/Normal/0x04c9254490b44aed2279837fd5a64ba78c0814ae.csv ../Dataset/Normal/0x04cac75b18013440c977124340ea56bddac6b921.csv ../Dataset/Normal/0x04cc00144dbc8bd474c65c579863fa2755058a2c.csv ../Dataset/Normal/0x04cd16aeb4ac7a024d4ab0f1d974bfa62be3dbd2.csv ../Dataset/Normal/0x04cf7a0b971d4ab66619db6ba9541c54edbc6852.csv ../Dataset/Normal/0x04cfeeb3ea840f70854b7c1a5736a54ee59e3bb2.csv ../Dataset/Normal/0x04d09880a01262038694fdc095f222f78204bde1.csv ../Dataset/Normal/0x04d153fdf2659a4643638d10cf7a46bc796cb886.csv ../Dataset/Normal/0x04d3e3ea886766fffd0a013f99d6366f5a776131.csv ../Dataset/Normal/0x04d4e8a6e4c316794678a46e46abe4baca4ed661.csv ../Dataset/Normal/0x04d8a7b7a7d81a82c1db9729127228c82ce39313.csv ../Dataset/Normal/0x04daa7562d5bda3a26b3a3ba27bdaab8e8ade983.csv ../Dataset/Normal/0x04dbaa969d8fe9ccb804b5f246a9a53c9c718b15.csv ../Dataset/Normal/0x04ddf3ee14ce912f084ba56cb68ffc9dbdba72e4.csv ../Dataset/Normal/0x04de01460e4cdc0eeaf9776318f47d245785e3d2.csv ../Dataset/Normal/0x04de42d37d9a94a4184dd74baebdc197049627e5.csv ../Dataset/Normal/0x04e2af7d5321914576dd4ad32cf425c2f927538b.csv ../Dataset/Normal/0x04e2fbf3a19bb76936b14984afd117f26e8a716f.csv ../Dataset/Normal/0x04e4af7cd77d45e1e5f8986ed4295f9429722f54.csv ../Dataset/Normal/0x04e9ea13254ed30c9c49cfb2ca139b8eebce8b31.csv ../Dataset/Normal/0x04eb8da5e69d6a0852f4159bddfbd7aba1516a6c.csv ../Dataset/Normal/0x04ed91d9136df2def85dd264d0d416666c260491.csv ../Dataset/Normal/0x04f151efde490b19173d0e41fc4254779cfeac6e.csv ../Dataset/Normal/0x04f39935f06c9561d61fd99af3e00ef8fecf0055.csv ../Dataset/Normal/0x04f900e6a44ce12948e21776b9a9ac4448362ad6.csv ../Dataset/Normal/0x0501b08f7f0e1591839e0cca561aafaf798411bd.csv ../Dataset/Normal/0x050273ec111b70b93562647dcb7b09e58b3c184b.csv ../Dataset/Normal/0x0503fd82c38f70b9b569599b8e7e934ad1949dc1.csv ../Dataset/Normal/0x050561cddc1726a41b4ca74493c3f71cf690dbce.csv ../Dataset/Normal/0x05073d20e1975571e6e8900673d51ddb469f3bcc.csv ../Dataset/Normal/0x050a4c817b7dd7334cd378b11c0be4f9d4684816.csv ../Dataset/Normal/0x05107a97f025bd18c12285af6e4ffc259ee2bcb4.csv ../Dataset/Normal/0x0513164b6a37c363a3c7df9b67884f5943350796.csv../Dataset/Normal/0x05147558aa169b3d2814a5a00b47a23f4ca49bb6.csv ../Dataset/Normal/0x051cb91e082d7fd540c251abb6810b203b10f300.csv"
     ]
    },
    {
     "name": "stdout",
     "output_type": "stream",
     "text": [
      "csvPath:  ../Dataset/Normal/0x0a977c4a5d473441cf2d0832485ab79d1d6de95a.csv ../Dataset/Normal/0x05213defeed3648ba7387471ca4c963e1faee7cb.csv ../Dataset/Normal/0x0525c45b9b1341464bcc5afc186756a5e2ce7c04.csv ../Dataset/Normal/0x052f56981eae04430a3c02b714448a294b0d005b.csv ../Dataset/Normal/0x0531da2a6aba13f57d8f3b3f207af90916a1c873.csv ../Dataset/Normal/0x0532b2f5c802623d3f745aa9b6761da09229af13.csv ../Dataset/Normal/0x05337329ac5a0556fd32a7817e38fffaaa140b5a.csv ../Dataset/Normal/0x0536806df512d6cdde913cf95c9886f65b1d3462.csv ../Dataset/Normal/0x0538f18c60acedfdc55503d897759723d569c160.csv ../Dataset/Normal/0x053cdc66ed002a2fd0c4b12242e2ed87b081a7fb.csv ../Dataset/Normal/0x053e8bfc3772f967028dd742b4e09ab28a62c67a.csv ../Dataset/Normal/0x054120ed92b87e6934cfc573ec130334196fa22c.csv ../Dataset/Normal/0x0543f0ad4eb5a6e281e4f4b35313f878d1b93d76.csv ../Dataset/Normal/0x054602664c4b9d6908221149b7f5095b7e16e17e.csv ../Dataset/Normal/0x0548accfdbfa5058afde8fc1c0d494c6a8b3b139.csv ../Dataset/Normal/0x055430822ca201e3cbc020df6749130b2baf1adb.csv ../Dataset/Normal/0x0554b9ff8283b4f574fc7a8a5f990bfd66134d5f.csv ../Dataset/Normal/0x055539ba46732aed342bd0cb25b3f7cfcc53d4de.csv ../Dataset/Normal/0x05570a11a42103823b5bd215fb25204a7132a44b.csv ../Dataset/Normal/0x05581033498a0b1263ce7fc0db1e8753b7be53ff.csv ../Dataset/Normal/0x05587a36e186a6aa71f2c1fdc93c2c268423f8ab.csv ../Dataset/Normal/0x0559ebae4d104b2225489d11874de77cfbebbaf5.csv ../Dataset/Normal/0x055a21260e1d001a8db7deaf4fcb8d776b44c69c.csv ../Dataset/Normal/0x055c4bf081438f7cbbf8198ccc82a36c24f7cabe.csv ../Dataset/Normal/0x055e00ac5217b264853048cf7071feae73287b11.csv ../Dataset/Normal/0x055ff69969fd7b4818f4fb186f60998a44b22db0.csv ../Dataset/Normal/0x05632ef7f7e0d7555714fb65d5633418631c1055.csv ../Dataset/Normal/0x056408941c09640b9713c3151ca596d6c5fdd50e.csv ../Dataset/Normal/0x0566a621eb70b1e5fa2e5e44922f85be67e6824e.csv ../Dataset/Normal/0x05678c3c7a30437079914e5e28a0175e75b01a9b.csv ../Dataset/Normal/0x056cb5d3be1cde71d559134e23ef64019debc26c.csv ../Dataset/Normal/0x05734b87db6649c701f8faf740bb063ab5006ccc.csv ../Dataset/Normal/0x0576c22232eb7d49a720cb1df425eb4c49b132b3.csv ../Dataset/Normal/0x0577b20bef73d20a077f725d6d86e7c1551ce7dd.csv ../Dataset/Normal/0x0577d90b5c51463aab27316586daf9b78adb8ec7.csv ../Dataset/Normal/0x0578be99af24d92d431a85446bdc6aee6dca0cff.csv ../Dataset/Normal/0x0579ed0c70209d28d8ba4aacebf2f89ac52e21f1.csv ../Dataset/Normal/0x057b21dcbeb080c73ec5adc6de1196b7568f8a79.csv ../Dataset/Normal/0x057d3219d1dfdeb240f864c893a4da0653d2e6f8.csv ../Dataset/Normal/0x0583b2be4f7700756023c9e6481bfcb375d91381.csv ../Dataset/Normal/0x0584cba063dacd9003e01815d5f627a1b9b7d1fa.csv ../Dataset/Normal/0x0585bacb2e2a20d0f7bc5af0b3e7845b823a01cd.csv ../Dataset/Normal/0x0586117393ce6f606dba6a1351d08f22f6018287.csv ../Dataset/Normal/0x058da7f44b5f78dbc7d3a6d7ea3c763f13c96fdc.csv ../Dataset/Normal/0x059b8213f8aec932baae28e56c04fbeaee54b921.csv ../Dataset/Normal/0x05a3b64b0444738ba60691bbc0763e06de5e8e83.csv ../Dataset/Normal/0x05a5ba6dc134bdb081c31b9a4fccfc87006cd31d.csv ../Dataset/Normal/0x05ab6c03c985e157778f403634d6e517543b168c.csv ../Dataset/Normal/0x05b0aac3ca0abd9bfa27fa918aab8362600d558c.csv ../Dataset/Normal/0x05b214a869b2222395c3e4ab0ada2244cde0a918.csv ../Dataset/Normal/0x05b23fa8e8df153fe1761e5e5927dfb20e0de2c6.csv ../Dataset/Normal/0x05b36794c8b2664435145836e9e3c587671e6c0f.csv ../Dataset/Normal/0x05bc4c55e5083012cf0ec9ce245c7aebe2d08d9c.csv ../Dataset/Normal/0x05bcfb44a46d353e4a4a3810f8d97e40f9da20c6.csv ../Dataset/Normal/0x05c310827245ec6fe86dfd00be73067f0b1e3b26.csv ../Dataset/Normal/0x05c312d2134e5c632296c124a975e7cb9f79f519.csv ../Dataset/Normal/0x05cfe156ae173570d809ae80a7d3798523ac99aa.csv ../Dataset/Normal/0x05d2fe10499fe985bc8aee2eb6c88b658b3480a5.csv ../Dataset/Normal/0x05d46b16c88d2eb87301d81a8f0611d6fb57f9d2.csv ../Dataset/Normal/0x05da005f3c15668512544f5d2ad426cb0e18a708.csv ../Dataset/Normal/0x05de2c26e97509ac542d6aa629d5b63960766632.csv ../Dataset/Normal/0x05dfe7c69e2c7329485df722cc755f22114af128.csv ../Dataset/Normal/0x05e2e4317ff798a53e1156c42edf69585df6109f.csv ../Dataset/Normal/0x05e694bb1866a39339f700b6cd18768384226fbb.csv ../Dataset/Normal/0x05ec99185dac9b0407b14099fcfb8c4c0b0fe93a.csv ../Dataset/Normal/0x05ef97f207cc709d97abc4aa7991ac479144061a.csv ../Dataset/Normal/0x05f0cb993b93179f47711b0ac087ba77f73506fa.csv ../Dataset/Normal/0x05f20566fbec7461ab4f03744eb818bb744b9e43.csv ../Dataset/Normal/0x05f763cc3b63036cfd05e25e2980e5083ac87099.csv ../Dataset/Normal/0x05f9735040cfb7a998caf2dd3ddf548bd8528cfb.csv ../Dataset/Normal/0x05fd721ebfe96e6ed3e41567d6d15171c837c1e5.csv ../Dataset/Normal/0x06136b2f90444ec43d29453304193ebac41a65d8.csv ../Dataset/Normal/0x06375555ebef01d39c2e110abedc9423a78d0d9b.csv ../Dataset/Normal/0x06388d00796904e7c760de028b141297b27e9d07.csv ../Dataset/Normal/0x063a479e1e4ca7177c1fc6e9ea71f6e6ec13d2fb.csv ../Dataset/Normal/0x064149fb3e3ec27a091ab4ef359df707d4f82f2b.csv ../Dataset/Normal/0x06846a91fca226ac1744d36939ba78bb5a27b1dd.csv ../Dataset/Normal/0x068de74f4fd23b107cf01e26a03eecfbdc7c4b31.csv ../Dataset/Normal/0x06aa925402e0d27cedb5d2b9d3ba6effffa37d0e.csv ../Dataset/Normal/0x070e202feb8a16b1a8be21a23600866373f688ca.csv ../Dataset/Normal/0x072c469f5e01a654061c9374653b27c96626db3c.csv ../Dataset/Normal/0x07711a986d354d6282abb650af09b64ba6eaa006.csv ../Dataset/Normal/0x07755cde67268d3b1acd28d012c7204294231295.csv ../Dataset/Normal/0x07a43cad9d49da768568e90b3ef810e7354b13da.csv ../Dataset/Normal/0x07a8e30d1157ce06fb19d05db911bd65bc59d103.csv ../Dataset/Normal/0x07b53d868b530459aba8b7cc0c4ef19274d1028a.csv ../Dataset/Normal/0x07b807fcd1a28924a8cecd3624e782c7c2f17149.csv ../Dataset/Normal/0x07c01d8b4c0e52d63e93be1a3a8cd08945ac2b4f.csv ../Dataset/Normal/0x07c044010200677e424342f62f832ef8a1597b8f.csv ../Dataset/Normal/0x07cc80fb476eb11d8a93e6366682541d329f902b.csv ../Dataset/Normal/0x07ea97fe9c7cf203e6c0df55f36a3ad5004b2195.csv ../Dataset/Normal/0x0801941e7fcee22d27ff6b9206d4206f5b5e4fd1.csv ../Dataset/Normal/0x08e152a8531753c480544a070548a087738ecc9a.csv ../Dataset/Normal/0x08f15ac0464113fc3e60044e3475ae132f260d7c.csv ../Dataset/Normal/0x09216a5bcb40ca557234f3ffd43415022ee80a00.csv ../Dataset/Normal/0x0921bc21189331fa56f6bcc37763af9c3b50daa6.csv ../Dataset/Normal/0x09291ac6e88a04a0d96e8442a559122d7161bb05.csv ../Dataset/Normal/0x098f11ef02e628641c82f26a3024f807a12c40ab.csv ../Dataset/Normal/0x099b4f3b29e957d6db32b563d3ece9d52ed1f6c1.csv ../Dataset/Normal/0x09c15477437cca1f3c23b1e8e8db6bebc8e22805.csv ../Dataset/Normal/0x09ccdae2e70b4fa5f65b0d0188d85371da03824e.csv ../Dataset/Normal/0x09d730cb3a7394a0b9c0a4306f7d131fb657bc80.csv ../Dataset/Normal/0x09e94910428dfe71395cf40756d8bf2e55a65c44.csv ../Dataset/Normal/0x0a07f24ab24f876101a83f1aa2faa44bd9babc62.csv ../Dataset/Normal/0x0a1c454c20124365c2ce8d1a3419a7688e936a03.csv ../Dataset/Normal/0x0a23c82251bce1a8ecf4f5882d4d9cb8bf64a114.csv ../Dataset/Normal/0x0a3abe0c13f6b7a112af64fc9c8bf99329aa2494.csv ../Dataset/Normal/0x0a4104e9be442993be8f6c22c7d6fabd9e4b4be1.csv ../Dataset/Normal/0x0a41081c3446348418dfb3c5bf50169855ffc437.csv ../Dataset/Normal/0x0a43bead29377809b453e905858a8e364a508591.csv ../Dataset/Normal/0x0a4d9ffcc6210f951b24edfe996aa90ca92c24c8.csv../Dataset/Normal/0x0a536e98988fe9967662b78e5496052f60cff244.csv ../Dataset/Normal/0x0a5aaaa8458ffb66c13a270c30a0303fe1d50ffb.csv ../Dataset/Normal/0x0a5d9a6fd4688469c78478805ac190a2c6366778.csv ../Dataset/Normal/0x0a60d2ddfde7d5e53bd2de3a9fc1efad9e5510c9.csv ../Dataset/Normal/0x0a74abbe692ebec98d5f573019806f466d21ee60.csv ../Dataset/Normal/0x0a77c03e9eef1f8524c71f41ff87254136650ca0.csv ../Dataset/Normal/0x0a79402c9801f4478849bc25f453c90ba686a810.csv ../Dataset/Normal/0x0a7b567f0cbdeef820c13c9ba2218070c3a5728a.csv ../Dataset/Normal/0x0a7fcc5c420de3c9f59f8817c77dbf66331f37f4.csv ../Dataset/Normal/0x0a812c183a713b113485d4bc4db603f656e28c68.csv ../Dataset/Normal/0x0a85fb31a0e11adf8bb3001505ae2c3d2ff57936.csv ../Dataset/Normal/0x0a8df39503d13025df0bdda4a622dfd56818525f.csv ../Dataset/Normal/0x0a9630d9ec79a92fa3c37cabc2eff0ca41cae54a.csv ../Dataset/Normal/0x0a9647ae065f456b30be2cf21a41eee21990cd16.csv ../Dataset/Normal/0x0a9a340c08255a8cde4b43948de70e9a3426de3e.csv"
     ]
    },
    {
     "name": "stdout",
     "output_type": "stream",
     "text": [
      "csvPath:  ../Dataset/Normal/0x0c03f80f0767e75afbe3f7235b00357a3c5ee976.csv ../Dataset/Normal/0x0a9ef5aa73b8ffd6b8ba559aea91dc36c90f1426.csv ../Dataset/Normal/0x0a9f34d3bc783333ea1fc38e146fbdb5dabdce36.csv ../Dataset/Normal/0x0aa2975adcf9ed5fddc16e4a97a482a15d7b7cd6.csv ../Dataset/Normal/0x0aa6d42e211165786744218537c563a3db842668.csv ../Dataset/Normal/0x0aadfc50b6a76e2a20ad7bdc53c0edc9434bec8d.csv ../Dataset/Normal/0x0ab1ed1fb8ab6256843d6be4cda367b1102fcef4.csv ../Dataset/Normal/0x0ab54e471f4463bd987cf372b1d08c3415c5629f.csv ../Dataset/Normal/0x0ab93b130e7e0972cd462b688de608bbd0e9dc78.csv ../Dataset/Normal/0x0ac1c2e7fbe7412a45de955c379ddced675e73e9.csv ../Dataset/Normal/0x0ac79e9d27129037dcfb7e5e92eb603f3e306166.csv ../Dataset/Normal/0x0acb1a8c4bcf75e142d5fcf93a408e5e964d1f63.csv ../Dataset/Normal/0x0ad21a51fd675388c7eec8124e3a3885a81a2e4e.csv ../Dataset/Normal/0x0ad26bd32ac6919c073fcb299e0c13d3a5864bf8.csv ../Dataset/Normal/0x0ad2d561f115ef4dbcd86e7fdfc4883e330d9e62.csv ../Dataset/Normal/0x0ad3326c57b78b03eec992490f562aa235f69954.csv ../Dataset/Normal/0x0ad692fbe2d0efd01205e47568c14c41436d5559.csv ../Dataset/Normal/0x0ad8eb28b5bbc4309f0b4a0b2b3c5a3d8de51986.csv ../Dataset/Normal/0x0ada501d5381a65ff1aff687d5f81ff693e4efd1.csv ../Dataset/Normal/0x0adb827eda30a9cd5c30e7483602601c60441dac.csv ../Dataset/Normal/0x0add31fb39f1c8c14bf3ed20272055d0e12ec3e8.csv ../Dataset/Normal/0x0addef2ac185b2b32ea02f2021f043ed35feb597.csv ../Dataset/Normal/0x0adeefba5451552e0e57eee5367b8c18b30e68f6.csv ../Dataset/Normal/0x0adfd5a325440afe13b61c842b958d7e7300b23f.csv ../Dataset/Normal/0x0ae47cfd52be6ee1cd933acb7a07a330a62a45f6.csv ../Dataset/Normal/0x0ae4cc9d7456bfc4914baa2cc798fd147449d917.csv ../Dataset/Normal/0x0aec69a62925582fcde09379a7dc1422fdd94ea6.csv ../Dataset/Normal/0x0aefa1a8fb50bfdfe6d6cc401befaf50d32ea2ea.csv ../Dataset/Normal/0x0af3f4c1eff3493afd7de7b774315fdec58414a3.csv ../Dataset/Normal/0x0af73b4bee68cc354ed5068b41284886e9033450.csv ../Dataset/Normal/0x0af82129dac1b2cfd729f59e36e1b00e9613436e.csv ../Dataset/Normal/0x0afc8978b913bae5e0405bc8e50d7d5f31fd0f41.csv ../Dataset/Normal/0x0b01a7fa48203f3537a040d17768eceb7e8cafd3.csv ../Dataset/Normal/0x0b042683ab15827e210f01e71ac5c2a4143ff1d7.csv ../Dataset/Normal/0x0b04b69cb28edad0b8f68b0a54c467e9a1ee0646.csv../Dataset/Normal/0x0b095b381abf414e0050dfbb2e58b55b1f152895.csv ../Dataset/Normal/0x0b0b879c0de6c5446edafff55e233c84b56f8ecf.csv ../Dataset/Normal/0x0b15dd0ecd4af78ca437c0dfe9a54875b8759ba7.csv ../Dataset/Normal/0x0b16072dc4fc182d87ff4ddc36fa835ef54c819a.csv ../Dataset/Normal/0x0b1a009cf88971b8a4d098cc5e686b9165785242.csv ../Dataset/Normal/0x0b2009b3b47c86347d86285ec76a2a787389ee1e.csv ../Dataset/Normal/0x0b232da7a97b3d7b1b749e03b4a1e782423aed85.csv ../Dataset/Normal/0x0b24b2bd44f76db91d46ec6fd431d18d7839daf5.csv ../Dataset/Normal/0x0b252ed79a20c5692802516d32b21fe4d5e9de0a.csv ../Dataset/Normal/0x0b26594a44dc23317aa7fb77b251748f9a3cf2c5.csv ../Dataset/Normal/0x0b269eaa178423eeb19757c25eadebe2b490421e.csv ../Dataset/Normal/0x0b291205fbb9c6c5c97e67187e5bec8d3c247594.csv ../Dataset/Normal/0x0b2b674f5382f1954bb539980213cb64fd81c8f7.csv ../Dataset/Normal/0x0b2bd731a55e61a6139d882dd608bbb553faf608.csv ../Dataset/Normal/0x0b2c1e09659a84b8549e860f17c0e71622ab5086.csv ../Dataset/Normal/0x0b2e8d6040c75a1021178165d8c335541573de1f.csv ../Dataset/Normal/0x0b2f89ba64ea84c670b93319aa28889779391cfb.csv ../Dataset/Normal/0x0b3301abe7093585d33fc90b4a3d83b8b2bda522.csv ../Dataset/Normal/0x0b33e26f38781cfad5625c80dd2808c1ac120f2d.csv ../Dataset/Normal/0x0b33e98191049caec7eef58f523ae461dfc0a0b2.csv ../Dataset/Normal/0x0b33e9a0981595361f1f70e0eb697259985e4ccb.csv ../Dataset/Normal/0x0b34c0ef2c3bf8cd1a770f4ad91d52478f50261a.csv ../Dataset/Normal/0x0b36c5e8336d1b2c2d1b3e5329ec88ff77e6bb49.csv ../Dataset/Normal/0x0b39aefc8cfbec6b6aecbb0b5f1c9cd6bf8e3227.csv ../Dataset/Normal/0x0b3dbf89aefda65181ec77b89019339e58a4b7aa.csv ../Dataset/Normal/0x0b41e9efaf29dd6c0144d0d82190eb6e2c679117.csv ../Dataset/Normal/0x0b422fbc67e835e1a94f64b87e2a643b2c2e6cb2.csv ../Dataset/Normal/0x0b4309ce0acfd43c69871ec74c4776738ef8f8c5.csv ../Dataset/Normal/0x0b4f97926a514dbcbc622845b1198e231a020cd2.csv ../Dataset/Normal/0x0b70f6f9539f0774774384cfdf56d48554e04ddb.csv ../Dataset/Normal/0x0b769f84492fb8ac2b27e23ad2989670f5bfb4fa.csv ../Dataset/Normal/0x0b801096486fc76578445d48e0d5756f0cc63ad2.csv ../Dataset/Normal/0x0b85de28c3c83332ae9b3393c93edea47a992f20.csv ../Dataset/Normal/0x0b8ed93e58f599880ea33110cf3e812be95aca8f.csv ../Dataset/Normal/0x0b9315a68e1e86d8c068c130d7ade7d7e5deebe3.csv ../Dataset/Normal/0x0b9464cc3a3b9c3c8cb71ff51e2c91de19807d3e.csv ../Dataset/Normal/0x0b97ade148a3fece88dc27cb8b65fe70fc147580.csv ../Dataset/Normal/0x0ba0ef4022441558f1daf7c251ccb62e144c8048.csv ../Dataset/Normal/0x0ba7ab6c4fa7788a0e82258f0ffbd57fc03a98d7.csv ../Dataset/Normal/0x0bab53e9de3abba1aa4c726e3a719071a9b150d5.csv ../Dataset/Normal/0x0bae77463cbd56295a12715394510b41e0ff3054.csv ../Dataset/Normal/0x0bb4b26f95812cd214822fc0edbc90f6fdb3e8f3.csv ../Dataset/Normal/0x0bb665dee8f40148e439b4513e71155dbea3b2bc.csv ../Dataset/Normal/0x0bb919276af3bd9226d59985b44364c9e3f58d60.csv ../Dataset/Normal/0x0bbc2f9d0dbff9eb2587615cda870ded89d2ea0f.csv ../Dataset/Normal/0x0bc01917dbd0c918d387cc83cc8646c97608a9fc.csv ../Dataset/Normal/0x0bc369fd5089352a55a74475504063446bd2faaf.csv ../Dataset/Normal/0x0bc5d8c9a7908ebb998382c74bb5127ed20bd4b7.csv ../Dataset/Normal/0x0bcc3a31c51d0bace413a76009cd4b7e3379d297.csv ../Dataset/Normal/0x0bd0de14ac1535cbe714e909739590711a991b7f.csv ../Dataset/Normal/0x0bd190f5299506c977c8c02c19829fe669d0e981.csv ../Dataset/Normal/0x0bd1b56b8a7020d6ccecd8b7469cf2da3f888e6c.csv ../Dataset/Normal/0x0bd1d8d7bcd44d3fadc424ae499a2e0e10799f12.csv ../Dataset/Normal/0x0bd377fd3f78d0b6aae400dab968ac05f0249f38.csv ../Dataset/Normal/0x0bd4986322615a0bbb614f69607a6fc626e3db52.csv ../Dataset/Normal/0x0bdbab2aed44e4fffde222824bdd2b7b2d0f1331.csv ../Dataset/Normal/0x0bde0c9c24c19febd2de0526dd4c4847700c7674.csv ../Dataset/Normal/0x0bde737741b615a3f778832c9d1e1cab8fc518a7.csv ../Dataset/Normal/0x0bde9df9acfc87c0468d046696f33403761056ad.csv ../Dataset/Normal/0x0be44e276f58ab8e953570458fa4c74b6b54dc62.csv ../Dataset/Normal/0x0be48447660dccf1784bfab1e5dd08faaf1d7e4f.csv ../Dataset/Normal/0x0be53490df9fcc5c0e21e4ea9aff8c79897548a4.csv ../Dataset/Normal/0x0be63879638852a98ef832c90789ceae7e5d19ee.csv ../Dataset/Normal/0x0be669f6138af980549e13565b13c3d58f0cc4eb.csv ../Dataset/Normal/0x0be6f8505b1faf9bb23f7983064dba90e0b8965b.csv ../Dataset/Normal/0x0be792dde915a1cc67b136cf2416eea9941cbb63.csv ../Dataset/Normal/0x0be7b271ba03874ad78d712246066c20c81693d3.csv ../Dataset/Normal/0x0be83a2b055063d6748cf29bdbb3137952da5181.csv ../Dataset/Normal/0x0be8706016c02907cda9250f49867722764cd591.csv ../Dataset/Normal/0x0be89fb7dabc5b39afe02a62a6b8e13ab88c2217.csv ../Dataset/Normal/0x0bea823d22ab9c6780a552ed84a069be8c2ca3e5.csv ../Dataset/Normal/0x0beaa072f8f96282ff891ba0c6052a7a0c4593af.csv ../Dataset/Normal/0x0becb28256a388f3437dcc899a880b5b51cdac8c.csv ../Dataset/Normal/0x0beddc658b90d902b51f1006411e8e124b2bdf28.csv ../Dataset/Normal/0x0bf2915aff3c8826e6947a6e344ac630ab5d523c.csv ../Dataset/Normal/0x0bf451c7ca96f6966930ab6a3fab6ffd672d3a92.csv ../Dataset/Normal/0x0bf5c94328a6888bbcc31a71174367f217af2019.csv ../Dataset/Normal/0x0bfa410358b5ae1f83b99366d684c151a5a98065.csv ../Dataset/Normal/0x0bfa684ba5f2b6c2cd8290db1d662af079fbdb74.csv ../Dataset/Normal/0x0bfa935f556a90d35cd9bc6f3e5dd615e57a7dc2.csv ../Dataset/Normal/0x0bfad6e39e03226c1e56654982773740ddc5f927.csv ../Dataset/Normal/0x0bfba2aa1ddc444015893b165148b7efdf01e3cc.csv ../Dataset/Normal/0x0bfbb6925dc75e52cf2684224bbe0550fea685d3.csv ../Dataset/Normal/0x0bfbbacce8ae1ba217292b0537a67e9c85b226d9.csv ../Dataset/Normal/0x0bfe057b6e6b61700ff13c8d512eb986259ed2f2.csv ../Dataset/Normal/0x0bfed6db119bea1e8c3b3cf7bce80618bd5b2606.csv ../Dataset/Normal/0x0bfff4c6f0e390ec1c8133cfd327fddf8c411a7a.csv ../Dataset/Normal/0x0c0025551663ca97fbd1ff161368d57a0c0220d3.csv ../Dataset/Normal/0x0c00b32fced6fb4cd138a62c5df82bb13aec28f0.csv ../Dataset/Normal/0x0c00cc99683a80872f392154e423a871c3fb2305.csv ../Dataset/Normal/0x0c03c9a18b2c8daabe4b2ea78731751e718ac428.csv\r"
     ]
    },
    {
     "name": "stdout",
     "output_type": "stream",
     "text": [
      "csvPath:  ../Dataset/Normal/0x0c9bd334433ba21f3ecd2e65559381c4f930a119.csv ../Dataset/Normal/0x0c06d915f9625fdca29dd2b31e9c8c9fde1ddd0c.csv ../Dataset/Normal/0x0c07029091fdd3758395e1a7a625b4e4ad68f28b.csv ../Dataset/Normal/0x0c08e0acfab5eef5aa3aaf4d9236899e86c0ee50.csv ../Dataset/Normal/0x0c090e61f874f6ba7474e72ee2e76226902a9a8e.csv ../Dataset/Normal/0x0c0a1f26c1e538bdc8f7751986852ff8da1e8eeb.csv ../Dataset/Normal/0x0c0da1531e61d1e883a5be1ea510cb937f9e94fc.csv ../Dataset/Normal/0x0c0f47a4b2642b87545139faa6d59246b390170e.csv ../Dataset/Normal/0x0c10d0126ae490baf4ac18f0de22b984988e7c9a.csv ../Dataset/Normal/0x0c117eec5c5ae0c290cd355c951f70d2243c73e4.csv ../Dataset/Normal/0x0c1379838e102e2a469289636f8483fe7bff4723.csv ../Dataset/Normal/0x0c13ec2888caa6fe75173f1406843450554d9388.csv ../Dataset/Normal/0x0c14c4f9c34aa06e66dda6aea1419753d96092dc.csv ../Dataset/Normal/0x0c160accc489049f41fe73e06e6c5b7c7fc10e04.csv ../Dataset/Normal/0x0c1838c863f20a7246676b79dbe1bd049c4f0b71.csv ../Dataset/Normal/0x0c18eda3fc72d13cd3154f7922f97d26a8ed96c2.csv ../Dataset/Normal/0x0c1af9069fd35815e33eab91006eb1a3a518b70f.csv ../Dataset/Normal/0x0c1c3d4bb283fb48a8445282461e1404233de8f2.csv ../Dataset/Normal/0x0c1c8d4c6c48b19851399db18ec84e7634858852.csv ../Dataset/Normal/0x0c1cc12037bc7ab4e66f0905f7638bf4de3b99b9.csv ../Dataset/Normal/0x0c1ce156bfcec533fa998d35129d4244d5e4623c.csv ../Dataset/Normal/0x0c1ec8ede0e0a790e164b3437400f3b7d9f12239.csv ../Dataset/Normal/0x0c1edd4443f2720cfe05fe985a76e22ec08882d8.csv ../Dataset/Normal/0x0c224c72c1eb7b2fab05d8e5ed4bb45f0f7f74f0.csv../Dataset/Normal/0x0c22eeb66cd59bbf91a36952417134c090856ef5.csv ../Dataset/Normal/0x0c23f3037df5abf0d7b7c66c9d5c1f73f8bc7734.csv ../Dataset/Normal/0x0c25e6a1f05006f8272d75f095600aa360d1042b.csv ../Dataset/Normal/0x0c26908727e6589274c3901492e3e0f6792d16a3.csv ../Dataset/Normal/0x0c28337af0df427a75ccbd6e6fd805aa2589dfd6.csv ../Dataset/Normal/0x0c28520f334ec2c2d1524cb2e20071b7c7df15f7.csv ../Dataset/Normal/0x0c2896bb25afbb21918ce9661412f7a842f4344a.csv ../Dataset/Normal/0x0c28d8ecc5fdfb76727faf6163468888a7cda60f.csv ../Dataset/Normal/0x0c29b787bd11ebb8dfd7b12d08a29b0ca9dead6d.csv ../Dataset/Normal/0x0c2d66682bc179235c1cfe1df89269841169e354.csv ../Dataset/Normal/0x0c30446d60d88618337a28e6759abbefc38d7566.csv ../Dataset/Normal/0x0c308fdf33e40c94b62dd8345747330fa635d333.csv ../Dataset/Normal/0x0c3281efb7dcaa9970370a2a5d842c3616f815ca.csv ../Dataset/Normal/0x0c3880eda5b262292a58ff7d9f07f496e5393b1b.csv ../Dataset/Normal/0x0c39a7ee4103a6135ac252e7adf428c07a9d83ef.csv ../Dataset/Normal/0x0c3dae2990c4d0e18e4d0658b6f10bd8b791017f.csv ../Dataset/Normal/0x0c40df064efc99812f370f97dcf653f6fea8ed84.csv ../Dataset/Normal/0x0c43732aad07cdf291410fa661eb8aa4093379a2.csv ../Dataset/Normal/0x0c46d8ae4c352c083556856e25b2fbe205d8808b.csv ../Dataset/Normal/0x0c47ec125d0e6b0b8d1a07cc024eb37eafc81900.csv ../Dataset/Normal/0x0c49b76bbc908b184e618c20883562fe4c777fab.csv ../Dataset/Normal/0x0c4a31bffa311c85e8387d017c97f4c465d66573.csv ../Dataset/Normal/0x0c4b367e876d18d5c102023d9240dd7e9c11b380.csv ../Dataset/Normal/0x0c4bb288ab0671234a7c41442566fa754e3ffe77.csv ../Dataset/Normal/0x0c4bb60b355af4965f13e752265bb8b2c39dbd96.csv ../Dataset/Normal/0x0c4ef2276b3a3c48228a0c07686d28c912bddb51.csv ../Dataset/Normal/0x0c5032a4bc91cc10562a41ac82a687ddf3293302.csv ../Dataset/Normal/0x0c50d2a06fda5befdde7554058bd3a23a8635e40.csv ../Dataset/Normal/0x0c50e2d491e75854b8ade65d268eb46fcf64bd61.csv ../Dataset/Normal/0x0c5143b03d0e74c7d4db7b15dfd768a703892cd6.csv ../Dataset/Normal/0x0c51453d923da891f3b22ff64257746dfac2e479.csv ../Dataset/Normal/0x0c526a801a36a66057fde226e2f682a555408c2d.csv ../Dataset/Normal/0x0c558fb3351c5a7754b61aacac95d9c9d70a5ec8.csv ../Dataset/Normal/0x0c55ff3d59b074bbbfbf20bad020e23b13edd532.csv ../Dataset/Normal/0x0c58d16ccb9217fca8e83b7dcfba7d4f251109eb.csv ../Dataset/Normal/0x0c59c8f6663ad913cca3b901a28ce7461d4ac880.csv ../Dataset/Normal/0x0c59ef32af5fa69ef232264397d511de7a16d73f.csv ../Dataset/Normal/0x0c5a0d28a8175f09576c71f78df9e0f4cdb1eb94.csv ../Dataset/Normal/0x0c5a3d06989ad38c9765b513b0b978c726580077.csv ../Dataset/Normal/0x0c5b0ed75a71bf70d8c0d6c5a7728a8ba3ebabd8.csv ../Dataset/Normal/0x0c5badb54d49d73f55d729dd47129a5de38dfbf6.csv ../Dataset/Normal/0x0c5bd8a98190422736cb342135c9a9c7ff6f68a3.csv ../Dataset/Normal/0x0c5d87ab025000e75cbe12c251862a982c9a48f8.csv ../Dataset/Normal/0x0c5d9b2a916d3dc4c306b9eab82b43275bbc32e6.csv ../Dataset/Normal/0x0c5db8e2b2a2a4a42b89a7d14bf8cc38d47d5b63.csv ../Dataset/Normal/0x0c5e14e60f8d3d4dc5d68786a464ac47e674abbd.csv ../Dataset/Normal/0x0c6009ef7d5850b64a17c0adda92eeacb9fb2ffb.csv ../Dataset/Normal/0x0c60e86b919fbd0df0953ba9c273a2a3844fb0ea.csv ../Dataset/Normal/0x0c60ff8f2a3450c298114f7fd794a9a56fbfc348.csv ../Dataset/Normal/0x0c612bf65f3fd96336b8c3eef1ec9feaea55bc2f.csv ../Dataset/Normal/0x0c618ad3e631610f66e84f2aecc4578278b91ddd.csv ../Dataset/Normal/0x0c619852f42f1cba55e736c20ca5748840210ae7.csv ../Dataset/Normal/0x0c61fc132d0c522c21e4dba1c4afe861677a9455.csv ../Dataset/Normal/0x0c627200b4a83b3d82a0ee84d86559afa1bb8858.csv ../Dataset/Normal/0x0c62cb42087d30f6b97aa3ac0f6445d69bca8e17.csv ../Dataset/Normal/0x0c62d20264a426710fa934a59393d15957cc9010.csv ../Dataset/Normal/0x0c63366458bd372297b55197a697f49844bf3ec1.csv ../Dataset/Normal/0x0c637fc3fcde9e2693f9d578d201a6213605ca2d.csv ../Dataset/Normal/0x0c651d26a31828d1a7311fcbd792834392f7eb80.csv ../Dataset/Normal/0x0c65b7994f3f1261c1dc82319cf438bc0f029065.csv ../Dataset/Normal/0x0c65fa0412adec71348128b699eb6182e87525e3.csv ../Dataset/Normal/0x0c660b8112348cc8a5a6c008aaea10b70b913538.csv ../Dataset/Normal/0x0c67e82398fb93f13e2bff07dbbd3eec8c5015b0.csv ../Dataset/Normal/0x0c67fc81751e95405dd12c4b3954a0dd90c5a925.csv ../Dataset/Normal/0x0c6a6fdbd2e9326c9a7197e3c849b3d2d47b851e.csv ../Dataset/Normal/0x0c6a7223fca26c21f12a772b781e5852f5c3a192.csv ../Dataset/Normal/0x0c6aced2af9f36abe93073d84df30c80a9fba1d9.csv ../Dataset/Normal/0x0c6b38496a29b1118b08c51ceacb47f0f81064f4.csv ../Dataset/Normal/0x0c6dbd4d7b8645a6bfc9bf7d3dd549e54b15b8d0.csv ../Dataset/Normal/0x0c6f24fc499bf72ff55f184756ca122e842bdc02.csv ../Dataset/Normal/0x0c6f35f30f8efd6ce448b76f0995dfcc34866773.csv ../Dataset/Normal/0x0c6f3a0f166d433124a637df213148a9aa6b7799.csv ../Dataset/Normal/0x0c71bca78631a2207b6af59289375865f57c91a3.csv ../Dataset/Normal/0x0c71fd5b40cbb3955466d9840f14a7f6122b128b.csv ../Dataset/Normal/0x0c7363b39390354a46aa4b48889959d98dbdf651.csv ../Dataset/Normal/0x0c7376ccc347e32a333ea259f419a154c323d348.csv ../Dataset/Normal/0x0c73fceea0ad86f224f537a745a64a32366cc928.csv ../Dataset/Normal/0x0c76ae17d0d6403e53baebf2f51c1aedf83da868.csv ../Dataset/Normal/0x0c76e7edc0db5e91d63f323faedba8ac596f6b31.csv ../Dataset/Normal/0x0c77c88797f77f8a0e130f4020c5ef4b2f9aa314.csv ../Dataset/Normal/0x0c78245efcc593a6e2a79bed48974f08078f4e77.csv ../Dataset/Normal/0x0c7a4a64582a2cd9aa96b1471cd33e70b7115bc6.csv ../Dataset/Normal/0x0c7f7ce8b3f6d090afcebaf9e8371b2754e89ff1.csv ../Dataset/Normal/0x0c8085519647264417d181ca412756d39df55099.csv ../Dataset/Normal/0x0c85d10ee4a2e66a1574515155750c19b8772451.csv ../Dataset/Normal/0x0c86fb2669b2d4f189355ff3e5c489fd4fc918b6.csv ../Dataset/Normal/0x0c8729f67dec33420c2410bf3791c322c90ba06d.csv ../Dataset/Normal/0x0c878dd3a5d55983c41988f5433456fdf7ae99e4.csv ../Dataset/Normal/0x0c88323aba3825aa714d893d864c77854b53ec07.csv ../Dataset/Normal/0x0c89da080f9fc7035841520acd76a280259900d8.csv ../Dataset/Normal/0x0c8afa2194afb0e44e43e2fa0a57437f0a3c00cb.csv ../Dataset/Normal/0x0c8d3b11e543466b5e8b86f7e4f6c8b8f00dde19.csv ../Dataset/Normal/0x0c908f4f62ac3c5f92377206eaf665dfdea0e422.csv ../Dataset/Normal/0x0c90adfb5101a4cbecf558d248a63416df6c8dcf.csv ../Dataset/Normal/0x0c91842b0ff97c89c29edb3aab9cec0e26dcfcf3.csv ../Dataset/Normal/0x0c93914d5f3262035f271d48c93f8b86d2410dfd.csv ../Dataset/Normal/0x0c95fba53aeb979e491e562a0c900a21353b6095.csv ../Dataset/Normal/0x0c96bf1d981471cfadc9f3a552d4a3eb9c19c13c.csv ../Dataset/Normal/0x0c96f842b592a87e9a8f01ab43ccb292edde1903.csv ../Dataset/Normal/0x0c976525f2b996f9ea04627493b9e2e345b2b47a.csv ../Dataset/Normal/0x0c99a4f8d7d5daf2de91fdf0fd4a278e1dbde3a4.csv ../Dataset/Normal/0x0c9c06f6b65fe8bc491d3f8ad332d059a831f9c6.csv"
     ]
    },
    {
     "name": "stdout",
     "output_type": "stream",
     "text": [
      "csvPath:  ../Dataset/Normal/0x0e8d7b9b9fb70f7b3e63313e7abfae6e4fe007f3.csv ../Dataset/Normal/0x0ca0c837773234ec29ac513a67c09c60143fd040.csv ../Dataset/Normal/0x0ca139d6dc8587a93a4e3090233e619fe8174c10.csv ../Dataset/Normal/0x0ca1d693be58552735ae1298105e686051d8534e.csv ../Dataset/Normal/0x0ca79f8fe5a128f3066edf806047784158b652b0.csv ../Dataset/Normal/0x0ca831beaa0ff97dc5d81d5a535779e4aaf7e3da.csv ../Dataset/Normal/0x0cb19c30a42de9fd28b06b0f9f0955489b4063c5.csv ../Dataset/Normal/0x0cb3c0ecd4f7c95756aecf2d65b1b42c4be3d7c9.csv ../Dataset/Normal/0x0cb3e96cfec65d832c2b6806da27d24296d7cc1e.csv ../Dataset/Normal/0x0cbe0e16aca252e9ecd972a716837ed80cab2792.csv ../Dataset/Normal/0x0cbe81df6997012e2a6054e0f178d695ee5e6545.csv ../Dataset/Normal/0x0cc01405c8a2e786a37d5c1905dfab69c876c63c.csv ../Dataset/Normal/0x0cc02214917331b681098aba064201afef6257a9.csv ../Dataset/Normal/0x0cc03ed6d3a84f1364a2323ff3671cc1ffd92d36.csv ../Dataset/Normal/0x0cc07f11b28d9e6c6fc4288db23601541dc2625d.csv ../Dataset/Normal/0x0cc210370f0794ce9121393df246818c5c73746a.csv ../Dataset/Normal/0x0cc2d7e7ff5fb414c1d3f8d15ee6206a33d3475d.csv ../Dataset/Normal/0x0cc3e138505fd59e10931c2c4639a9ce197008e7.csv ../Dataset/Normal/0x0cc73ca82583cc7fe3dadd2b02ef84dda1c674ae.csv ../Dataset/Normal/0x0cc75b3c4770ce675cc9898c302d10406eab5d14.csv ../Dataset/Normal/0x0ccad6d71be8bbdbd762c49fb8a13650da5ab176.csv ../Dataset/Normal/0x0cce47a7532e7e807197c8fc14e28ae57d90d952.csv ../Dataset/Normal/0x0cd147e794f4d23033f1c09491a1c9d5d83cbf3f.csv ../Dataset/Normal/0x0cd32adf303bc997079dd5c297eb2bd6c9ce8ff9.csv ../Dataset/Normal/0x0cd3789ac47e7931c5c6f0f753261e65357ac80c.csv ../Dataset/Normal/0x0cd58aaa49663c451ada2a0c7355f256e6d8977a.csv ../Dataset/Normal/0x0cd58f8203a3cce96f7e6ad66099d966014834ce.csv ../Dataset/Normal/0x0cda42d9f6ecd43911f18d38cdd83f8a4b6eef70.csv ../Dataset/Normal/0x0cdbe9f2c15701544a92470ba5c31710c8e8f414.csv ../Dataset/Normal/0x0cdc6588567569b9181c8249d4a2fc9887bd047b.csv ../Dataset/Normal/0x0cdf45a0f7a9bfd8777c2b6311a6614345ab9d9d.csv ../Dataset/Normal/0x0cdf633eaf4a217b7fb5dd7014f0ade143f57d05.csv ../Dataset/Normal/0x0ce344194800b5633d0cfd278d558344b0b43208.csv ../Dataset/Normal/0x0ce37ada7ad250ebb18fb3e95d991c00cad1181f.csv ../Dataset/Normal/0x0ce5252ce3177c1af79d77309fbc97b5c9686beb.csv ../Dataset/Normal/0x0ce64c733ff130295056915ea95f2ca5a294c4eb.csv ../Dataset/Normal/0x0ce67b26baf20928dd018fa5af34952b32de5358.csv ../Dataset/Normal/0x0ce693093f138acac8e0e18c79b623e3b0fd4b0b.csv ../Dataset/Normal/0x0cea90a81371da23884ecda018fb3e0035ff145c.csv ../Dataset/Normal/0x0cf3a6abfded4576543f632e195f9272b5c64bf1.csv ../Dataset/Normal/0x0cf3ead858ec5f2b4c8e93eabe4ab4d5ff1eafea.csv ../Dataset/Normal/0x0cf884b787bb08840fdf4cc0a026cef49b538a05.csv ../Dataset/Normal/0x0cfbc6938e654e500fd46fdb8554086860b80dbd.csv ../Dataset/Normal/0x0cfd8910117ff1a9580b49d46cbf4dcc74211b34.csv ../Dataset/Normal/0x0d026b0c079ac766ef8ce4b8ac9bdb6a62415898.csv ../Dataset/Normal/0x0d03a693eab3c5372a62d1600062700982a1ad22.csv ../Dataset/Normal/0x0d067fdc1d8dccfdefd41cd3cba5a1da0e5a4ea7.csv ../Dataset/Normal/0x0d0918cd72cf6814461cc0478ae6f4338da2ce9d.csv ../Dataset/Normal/0x0d10d5622717a99d6b32288222f056214dbde484.csv ../Dataset/Normal/0x0d134c06f5fd97b37531ec9a4ff0e3dbe0c13d84.csv ../Dataset/Normal/0x0d242343ea6547034d76a42b256df74fca1438f0.csv ../Dataset/Normal/0x0d24595f8fa3bee8b177b4c70e5bdbbe641954ee.csv ../Dataset/Normal/0x0d770eac3e4e1306c067ff33243fc9757ec91770.csv ../Dataset/Normal/0x0d7e48e52da59bdc0d8b7d98ba0068b4465689ce.csv ../Dataset/Normal/0x0d85ec55b194366943d38d8e9ab9cc694577924b.csv ../Dataset/Normal/0x0d8ced980985e700d83aba4ff5c5a59e1aacd062.csv ../Dataset/Normal/0x0d8e05e353f7ec03a8cb10157799ed627f8f0f84.csv ../Dataset/Normal/0x0d9036f7fd4227ca85d3a7f6e303a631149a9a52.csv ../Dataset/Normal/0x0d995583f98035a4106657d0e03677b3afe95e75.csv ../Dataset/Normal/0x0da17de43458b1b413ef0042bde578925d9728c2.csv ../Dataset/Normal/0x0daa47ad580fef485fb6bbec4534277f7b6f86dd.csv ../Dataset/Normal/0x0dae73fc90683461d569f6b3ef6b976346c737f9.csv ../Dataset/Normal/0x0db2fbebeed33a366f68ba65c0610fce827eedd0.csv ../Dataset/Normal/0x0db3ad97b7dd65eafb29be43dc48ba71abd7c830.csv ../Dataset/Normal/0x0db735fb760a02ebff682bfafa3101e2072c3866.csv ../Dataset/Normal/0x0dbcd0e369146b49611c6481794e91bbf2d8f066.csv ../Dataset/Normal/0x0dc03a28daeac3c4881bc950e6ad1078e82339b5.csv ../Dataset/Normal/0x0dc3461ea4dca6ebb93b49ba3073d94bc800dfad.csv ../Dataset/Normal/0x0dc5595a787dc450e5f8ddc01fcd68a94b1174e3.csv ../Dataset/Normal/0x0dc5d863cb4aff7efa26312715d0b5c371540090.csv ../Dataset/Normal/0x0dc68b5bfe2f547b8fd491f63045e6dc98e3f4a9.csv ../Dataset/Normal/0x0dcc927f043428d3ab907829fcc045ddc20aa802.csv ../Dataset/Normal/0x0ddb92ddc1bdca0e198457421b7d6b8ca1e058f9.csv ../Dataset/Normal/0x0ddea4d05d0578dc957a9bf10f53da88767760b3.csv ../Dataset/Normal/0x0de05a1b28a2c61deda8ac306ac84d84b88feab6.csv ../Dataset/Normal/0x0de0bcb0703ff8f1aeb8c892edbe692683bd8030.csv ../Dataset/Normal/0x0df459ddd81b9b03286eea7b0659e2954d9d1a3f.csv ../Dataset/Normal/0x0df63702a241a4a75c440aa95bf8bfa6ff373e3d.csv ../Dataset/Normal/0x0df854ba630921ed6b149a25b8abfbc650f5ac94.csv ../Dataset/Normal/0x0dfbb508f3bd8230e756d0e1cb575dbc07b77055.csv ../Dataset/Normal/0x0e039ce09de8af21e1d5c8ae7dc7823990e1c762.csv ../Dataset/Normal/0x0e06104450a7804018d2a2075051a2e045cdb17a.csv ../Dataset/Normal/0x0e10203380f0e999c477c5ac3b8145a14860c7a5.csv ../Dataset/Normal/0x0e10a408eefe4f9aa6811519e3ccfa0186c597ca.csv ../Dataset/Normal/0x0e10ee4f2dd9a5f605857d969a138de9edf6b39b.csv ../Dataset/Normal/0x0e114a49246539ae702e64f30bd340ae1447b18a.csv ../Dataset/Normal/0x0e1269a88dc323916ed5a90a92f55e15c2144a75.csv ../Dataset/Normal/0x0e13bb3e8d1dfb607beab86c4658a3bb4fd33b9a.csv ../Dataset/Normal/0x0e158e9f4eaa8291e53166d88beffc380c2d9b5d.csv ../Dataset/Normal/0x0e16625db2a1e7fe821fe96fb2a1482e140c68ec.csv ../Dataset/Normal/0x0e1765d49f23f9c0e776a172c695d0f8f579ccaf.csv ../Dataset/Normal/0x0e1801c4621a18dcb8b05f6bd93d0386e015b778.csv ../Dataset/Normal/0x0e18dab64c2bf4eaf8c0326292c4139bff8c07f9.csv ../Dataset/Normal/0x0e1b2d3eb54d8801cb619c84c1448cc50a6fca02.csv ../Dataset/Normal/0x0e1b396aa1e7749ff485096ff5560c0e26789e40.csv ../Dataset/Normal/0x0e1bc9a1692a9831b83ff06f58600e3aeab9b899.csv ../Dataset/Normal/0x0e1ef739f74686a65d83cb6c51677552cebab664.csv ../Dataset/Normal/0x0e1f4b8a382e6a8ffb34813cc1f2e2c896954fe1.csv ../Dataset/Normal/0x0e20ebec1f1cc039d5ad09bc9ed0d9b10ead4a8b.csv ../Dataset/Normal/0x0e21524c9068c57ce0b03d48b7ef6287ca062695.csv ../Dataset/Normal/0x0e2433be10e6ef155655ee10054320efc5b79aa2.csv ../Dataset/Normal/0x0e255afc4937c5bd1cbee929cf78c6b198cccf27.csv ../Dataset/Normal/0x0e25a5e20173b788c12bfd60efb9e3790ad0e6dc.csv ../Dataset/Normal/0x0e25b8c44bfc4054500d979818c2c45f5b947af8.csv ../Dataset/Normal/0x0e26e500310682a1196c7c5182fe8bc38a0f6c92.csv ../Dataset/Normal/0x0e26e5a5068a5458b0750bf7f15e8c8fd2380150.csv ../Dataset/Normal/0x0e26e8f4bb3e3d54dd09491179e11d6834a2c7d2.csv ../Dataset/Normal/0x0e270f850917a51dd8a42ff37a12e548e8d87e25.csv ../Dataset/Normal/0x0e28ac197cc3b11f0a59746ba2ad4019f2e16574.csv ../Dataset/Normal/0x0e28cf2515d81199951e0cc7c6518246ab73c6f9.csv ../Dataset/Normal/0x0e2a5552b9f779b36770ef199f07e2164782e38d.csv ../Dataset/Normal/0x0e6c85fe9ec52522ee243cce3adfe3638c14bb60.csv ../Dataset/Normal/0x0e6dc86e22503eb75673f4b1720e82a0dedd3578.csv ../Dataset/Normal/0x0e771ae1528c1f65389b99e744b7b4914bbe2c61.csv ../Dataset/Normal/0x0e79796eb4341ddc5db88e9bd3c60863d7df5f97.csv ../Dataset/Normal/0x0e7d4f8aeacaa65072d9033724e42bb3416ac811.csv ../Dataset/Normal/0x0e88e0ff8c7173f272f5453d32b046ea0fac4e84.csv ../Dataset/Normal/0x0e894058723f3a40ea787f42f85373880ec9d4b9.csv ../Dataset/Normal/0x0e89b3e0918b32d253a702a1151d2be601920bb6.csv ../Dataset/Normal/0x0e8ab74c8795b461939d28ef3581e56209670cd1.csv ../Dataset/Normal/0x0e8b6cb13a52a03f9082468306c9d709f9eb8b83.csv ../Dataset/Normal/0x0e8c0851352ff7e9129252ec53fd7401997a0013.csv ../Dataset/Normal/0x0e8cb9f4fa7140111464d8b33e5d4604b1ebc8d0.csv ../Dataset/Normal/0x0e8d425ee54e2b3cdd99f51088cf391b675d7aa8.csv ../Dataset/Normal/0x0e8de39c2ba6d56eb2b5a3688e690db7322097d3.csv ../Dataset/Normal/0x0e8e662996faf01425c2102f6ea520bda1707834.csv\r"
     ]
    },
    {
     "name": "stdout",
     "output_type": "stream",
     "text": [
      "csvPath:  ../Dataset/Normal/0x0f736f7d57fc6c9578bfbab2e29e61930276eca4.csv ../Dataset/Normal/0x0e8f4a0366a6e455ef63ecff800efe8c85696f92.csv ../Dataset/Normal/0x0e8fa98661e3bfaeda9158daef0d62a15ab25c10.csv ../Dataset/Normal/0x0e90ae11b57d6d71542a4684aa356f7893b3c8ee.csv ../Dataset/Normal/0x0e931de1c82913f9450065faad535d6776ad718f.csv ../Dataset/Normal/0x0e93ad20dec2fac272e83d1a59c2a071bd7bb790.csv ../Dataset/Normal/0x0e968d96985dec95561bcd968da54c4656467abe.csv ../Dataset/Normal/0x0e9891c8d8f562f1924943ae0dc84d62ac2be41e.csv ../Dataset/Normal/0x0e99f9f439eba5b041541fbf0d305644cf22bbcd.csv ../Dataset/Normal/0x0e9ac0f9a680f53f7c7ccf3419029129ea5c17b3.csv ../Dataset/Normal/0x0e9c47ac4d08bc4593bf34656ff3e2869d318d75.csv ../Dataset/Normal/0x0e9e536fbcf774ce7b12f32db743962984be9f9c.csv ../Dataset/Normal/0x0e9ed67ada82585fcd4abbfa5bcc7c75b9b9d014.csv ../Dataset/Normal/0x0ea05bde021a3c0f3edf80256623f8cd623d2c42.csv ../Dataset/Normal/0x0ea115eede5cb8981fc594a3b4e1c722350ad728.csv ../Dataset/Normal/0x0ea137023246e6070f0a926c2e3becaeacbefe5f.csv ../Dataset/Normal/0x0ea1a817a40d2f992512e87c5f1bee3e7f6d4d91.csv ../Dataset/Normal/0x0ea2fc3614dacc6b293b65681039cdb504f01a22.csv ../Dataset/Normal/0x0ea31ca6220edc6074c20e58db0bbf97c3a11115.csv ../Dataset/Normal/0x0ea322211532fdb1a99caf1926c2b70157fd8446.csv ../Dataset/Normal/0x0ea38a27456443fbb45019b463f470f87b3b40bc.csv ../Dataset/Normal/0x0ea3bd2fbbd748846e7b1b3d6a3f34c7875b7d41.csv ../Dataset/Normal/0x0ea5cdad803d0f54c74e15cedae6f2b93cd16998.csv ../Dataset/Normal/0x0ea690d466d6bbd18f124e204ea486a4bf934cba.csv ../Dataset/Normal/0x0ea86277236097921d1c38e3de471800d1e4320c.csv ../Dataset/Normal/0x0ea8c781c719545fe84a486712c2b365de11c7f0.csv ../Dataset/Normal/0x0ea999e621f8d7516ac886440462b7287b56d908.csv ../Dataset/Normal/0x0eac85a4798eae6c01a0281aaeec0ece08fbddb8.csv ../Dataset/Normal/0x0eac9d5513dadf4209bdccc3c0b2310ed31dd59c.csv ../Dataset/Normal/0x0eadaab5ec210e349f6b164bfe63b9ff314c4937.csv ../Dataset/Normal/0x0eaf5e2b100c619a0c542ece59b0d1fee6268c6d.csv ../Dataset/Normal/0x0eafc8072f5c9f23fec65dc643b814b9718f965e.csv ../Dataset/Normal/0x0eb0086c2d4b03631fc01dbd51931c2a711e4a89.csv ../Dataset/Normal/0x0eb0362f77e77ccebea26ffb12bc02b6399dc31c.csv ../Dataset/Normal/0x0eb04def212f575bbd231eb43f8a793309e95cc3.csv ../Dataset/Normal/0x0eb0da512375a005083a5ca7791f68a2158cee4b.csv ../Dataset/Normal/0x0eb2582941683d88ee896926b92ba5e1b021823f.csv ../Dataset/Normal/0x0eb2acab2ee97a566adb9123ac9c20a5833d6377.csv ../Dataset/Normal/0x0eb309275ac1a09000c682a383eacd183203434c.csv ../Dataset/Normal/0x0eb31673d619f2b4d88f2445ee2b96375ddfac4c.csv ../Dataset/Normal/0x0eb3926c51cf9786de0feba00b281064e6166320.csv ../Dataset/Normal/0x0eb44f46aba04ee10cc7130df4862dc6677a7b89.csv ../Dataset/Normal/0x0eb5629bf783e66a5a014099e07e71e7ce943db4.csv ../Dataset/Normal/0x0eb5debe25c431379682927aeab4ea585c489d8b.csv ../Dataset/Normal/0x0eb67d90744fee8f05a9aba6d7acbd909fa2eab5.csv ../Dataset/Normal/0x0eb8709a107c70d1865cb7857128e396fe7fb42c.csv ../Dataset/Normal/0x0ebb34594306fef426813cdff340ad01c57714fd.csv ../Dataset/Normal/0x0ebc04dd0e883660678a4a94f97e8bbeb359ea5c.csv ../Dataset/Normal/0x0ebdf9cd88c76f3f42c47f48d4e761a56d9fa831.csv ../Dataset/Normal/0x0ebecae2d192e3c0c39d3caf3a4c090703d07256.csv ../Dataset/Normal/0x0ebef2e8ba915f5331fd03d6e1186118c7bf3f72.csv ../Dataset/Normal/0x0ec18d75279190e02df24837044c2911fd4a4942.csv ../Dataset/Normal/0x0ec2739dfe84b976ad96fb8124a4d21e5364902b.csv ../Dataset/Normal/0x0ec3540c1ec704847248049b104bd9ce6d30660f.csv ../Dataset/Normal/0x0ec387533ef42092775dd2c8e7c33916752b1ad0.csv ../Dataset/Normal/0x0ec5e29fd956f7988536c465386cda201d051e01.csv ../Dataset/Normal/0x0ec63df2998b0a7b06978abdc4057c09038ca017.csv ../Dataset/Normal/0x0ec6f9385a813ee953ed5bd1ac4a2c3bfb781704.csv ../Dataset/Normal/0x0ecb7b70ac615445001861e92f817129f2f3be77.csv ../Dataset/Normal/0x0ecd5255868655f49a94219c52afecce7f9a1730.csv ../Dataset/Normal/0x0ece3cf557c63a5f75fe755602324fec8dbc8dd7.csv ../Dataset/Normal/0x0ed03a44161b96252a5b22b2834041e5f08f7dd4.csv ../Dataset/Normal/0x0ed0ffa409fb241c470a1f5ca5943c6a6e3ff1d3.csv ../Dataset/Normal/0x0ed2678ebe0476a9e95223305184026143d88f95.csv ../Dataset/Normal/0x0ed34f11691f3df78e77685dc48d63acd800cb6e.csv ../Dataset/Normal/0x0ed44745c33f7b7415bdb5dc1b9305bc9cdb96b6.csv ../Dataset/Normal/0x0ed64ca1eb3626b93cfc20ef810e015badbf5547.csv ../Dataset/Normal/0x0ed6d24891a52d166bca92971467d6a7511c696f.csv ../Dataset/Normal/0x0ed98de8cbc0c6243647253c6c2868305dee2c0d.csv ../Dataset/Normal/0x0edc61a409abeacff22c578b7060fbf6703564e6.csv ../Dataset/Normal/0x0edd992ff18e8526fce207fd81925361d1efbd83.csv ../Dataset/Normal/0x0eddda57416a62af8dd4886e0c73fbc9ad211b47.csv ../Dataset/Normal/0x0eded4c0b9e6e273ac0593adb39e23f3a68d21c7.csv ../Dataset/Normal/0x0ee1bd3bafb0a7b01df1d3572afc882cfba4a718.csv ../Dataset/Normal/0x0ee49a3f15fe1140322fa3fe65f0c264b3457b2c.csv ../Dataset/Normal/0x0ee4e2d09aec35bdf08083b649033ac0a41aa75e.csv ../Dataset/Normal/0x0ee60882a6b4e690b26fb6e786eb52378f6d55e1.csv ../Dataset/Normal/0x0ee6932c39540d4eb535b1bf611b413a40ff4e6e.csv ../Dataset/Normal/0x0ee71a47e3c2ef8f5e455c2e5378544f4f916d1a.csv ../Dataset/Normal/0x0eef4891d3caab91ff2ea1f1cc1714fb91a1a69c.csv ../Dataset/Normal/0x0ef137e1a3dc78c25f5dd411a659fccbc267a6f5.csv ../Dataset/Normal/0x0ef338d6ddfbaf21e276e07a719877841b0907cf.csv ../Dataset/Normal/0x0ef343954cde23f29b31ab320eacbc2e64208c3d.csv ../Dataset/Normal/0x0ef3462dd375dd527fb47fb366420295dc598a82.csv ../Dataset/Normal/0x0ef420e2807429b7896385b60dc40d3768713463.csv ../Dataset/Normal/0x0ef485765e9dcc00f8d3464288461705713d19c0.csv ../Dataset/Normal/0x0ef4cf084d00c9867011c6f41c2217e725f637fd.csv ../Dataset/Normal/0x0ef7ba38d3de0acd36c04a2f17b67a1b6d40a7d0.csv ../Dataset/Normal/0x0ef8befa32717d0134c78e9fb361586b27487b34.csv ../Dataset/Normal/0x0ef8f3af4ce57aefc8e9f6cb606a851178d2bc71.csv ../Dataset/Normal/0x0efabc3bf9cb677b2ead0a744f7f32b5d715d627.csv ../Dataset/Normal/0x0f054904c8acb1e895a581b3f216820a0734da31.csv ../Dataset/Normal/0x0f0c51ee4bc1691deec92a42531e9fbcf0c42bd5.csv ../Dataset/Normal/0x0f0c7bd0cba91448c2272dcbe649a1c689871a05.csv ../Dataset/Normal/0x0f1f9a3a1110ef089ad2758e2e09038d97852610.csv ../Dataset/Normal/0x0f20c114141e2358963676c87f4a9e333d2cbd26.csv ../Dataset/Normal/0x0f23c9eccb1c51192a3d32c8f1cca506443dbf1d.csv ../Dataset/Normal/0x0f26363c0eb86224d320ff8873825d4613ec6407.csv ../Dataset/Normal/0x0f27ecc7a67ed5f0a5537e905bb05af44884a1a9.csv ../Dataset/Normal/0x0f2c9b81d206047066fc8c4d1a13ba059b4e5c2b.csv ../Dataset/Normal/0x0f2e1ef5082d2c550dfc293325199dc6b9662c2c.csv ../Dataset/Normal/0x0f2e59bdd71c65675d00f3b53ffeb76d6e1b0b69.csv ../Dataset/Normal/0x0f2fe55675029192acfdb3856974ebadd0a56b11.csv ../Dataset/Normal/0x0f3094800abccbed2d91a1b49efe3b6989e02ed0.csv ../Dataset/Normal/0x0f33611faa1399f20bc5713243ab6826af71b156.csv ../Dataset/Normal/0x0f35230d657311848a9752f3ff9258c282e39972.csv ../Dataset/Normal/0x0f3569732549a67e95ef89b17ddffa41ac9e6cc0.csv ../Dataset/Normal/0x0f368782b2f25e3e7af19c7ba1736cb8fc8c99c2.csv ../Dataset/Normal/0x0f36b3e2a446f0e646377831b8ec81c61bb404b2.csv ../Dataset/Normal/0x0f398674699725d23c696943bf13f287f2ab62d4.csv ../Dataset/Normal/0x0f39c63a4dedda019427bb32162ca7beed41c382.csv ../Dataset/Normal/0x0f3b87554ef61556511e56ac131fa65481d347d7.csv ../Dataset/Normal/0x0f3e49c6bb4aefa8c174c2d1ba284f12d622878e.csv ../Dataset/Normal/0x0f486ccdeef00f723b3f16b297bce78517dc10b2.csv ../Dataset/Normal/0x0f4b0b4b33ab11922ac6fb4896f418661ac05b14.csv ../Dataset/Normal/0x0f4d07ef9919ef6d119821adfc8e1dc83f95352a.csv ../Dataset/Normal/0x0f4d1540dd4a8ce803e85c5bf6a028f14c0ed8be.csv ../Dataset/Normal/0x0f5590cbc91ffa71675abac4cd34d40240ba08ec.csv ../Dataset/Normal/0x0f5d87bbec2e3c028e3e36a078b32c5cb127908c.csv ../Dataset/Normal/0x0f5de9d37415dc1af46df02f1b56798e1a4710be.csv ../Dataset/Normal/0x0f63d137b841aad2ac8546806a4be215185dc202.csv ../Dataset/Normal/0x0f6ba2874bd3d0ad3e8b00155adbdc0bc5cd34c2.csv ../Dataset/Normal/0x0f6df19bf5405f27a906bf5f5401db286c5bfb71.csv ../Dataset/Normal/0x0f707e268c315ddfe870a9954fc19752d24bd47d.csv ../Dataset/Normal/0x0f7276d17b0a9cd265e7e34f9345486ed226ca62.csv ../Dataset/Normal/0x0f73e819731ae3f84e946e94ffafe3fdf70d1f04.csv\r"
     ]
    },
    {
     "name": "stdout",
     "output_type": "stream",
     "text": [
      "Time for executing function MergeCsv:  4533.096961021423 s92093e56372e.csv ../Dataset/Normal/0x0f75ef83fb16bbae0dd9e92a645332c92f2dc5af.csv ../Dataset/Normal/0x0f7a397501470684bc5bea12a5b66c5cb9b6a158.csv ../Dataset/Normal/0x0f82e170bce6c384304f6afc48059e4c774aff64.csv ../Dataset/Normal/0x0f8af15661ca38f2bd7600b5cd32a5b862eb5b08.csv ../Dataset/Normal/0x0f8fc3f21b5c055a28bd461a1654bee5c0a99285.csv../Dataset/Normal/0x0f8ff471da6ad837d5b3a16618e1825fab4ee64a.csv ../Dataset/Normal/0x0f93be35873958085cf5bbd9cc17df1ca97b2e0f.csv ../Dataset/Normal/0x0f985cadc2855c11e1e1a2c5d989e3c654af6b44.csv ../Dataset/Normal/0x0f9a2eaf07c6b7299ec58a480a5979bf935fcfb3.csv ../Dataset/Normal/0x0fa349a264b04de78d10801ed128b1c31c8114c2.csv ../Dataset/Normal/0x0fa4c27080356359f1d4b38beec10ede97d70498.csv ../Dataset/Normal/0x0fa5c09d3f2961eded76c7a88d1ea4a667e42228.csv ../Dataset/Normal/0x0fa7996a5e93b0764ae3815552a36d6d717af250.csv ../Dataset/Normal/0x0fa98878468081cfb2f89aca93ab1ea961666de6.csv ../Dataset/Normal/0x0fabd878960adedcae6c125cf0b49fd33bec2417.csv ../Dataset/Normal/0x0faec4f3552fe0bb0c81f17d7b62bf0870a4134b.csv ../Dataset/Normal/0x0fb0dfbd8586cf4de57d5d6fa20f0592f6d7dc59.csv ../Dataset/Normal/0x0fbd144b8116a850043f29b38fb005342159c6b5.csv ../Dataset/Normal/0x0fbdfd411fd3a3b2cc609cbdd99711f455df9400.csv ../Dataset/Normal/0x0fc04b66bfd511b5205641104c985997018d9383.csv ../Dataset/Normal/0x0fc6eabc754d8818a8bfb41168dd0ba10f285249.csv ../Dataset/Normal/0x0fcd71bcefb0fae67e95d4a535a868a96244b194.csv ../Dataset/Normal/0x0fce86e4d603b6cd01e3ac369b9504965be4efdd.csv ../Dataset/Normal/0x0fd2cb2ca49a76983e480570c1159b9eb9d3d77e.csv ../Dataset/Normal/0x0fd7e6a7873f2b857e2a28476ac387b45c388774.csv ../Dataset/Normal/0x0fd99c61cdb983128424604bf2a396a4a47cd122.csv ../Dataset/Normal/0x0fe7cdc4c2b568a405333e15ab1e9555b2d30f46.csv ../Dataset/Normal/0x0fe9971d41cc788d547f0530e3f7f3f633b7c337.csv ../Dataset/Normal/0x0fea1343a8180b4ee41dfd778e00f89c39263346.csv\n"
     ]
    }
   ],
   "source": [
    "#合并交易\n",
    "filepath = '../Dataset/Normal/'\n",
    "if not os.path.exists('../Dataset/Normal_Tx/'):\n",
    "    os.makedirs('../Dataset/Normal_Tx/')\n",
    "outfile = '../Dataset/Normal_Tx/all-tx-more-1110.csv'\n",
    "print(\"Executing function MergeCsv(\", filepath, outfile, \")\")\n",
    "t1 = time.time()\n",
    "MergeCsvOutput = pd.DataFrame()\n",
    "# 遍历目标文件夹下所有的交易文件\n",
    "# n=0\n",
    "for parent, dirnames, filenames in os.walk(filepath):\n",
    "    for filepath in filenames:\n",
    "        csvPath = os.path.join(parent, filepath)  #\n",
    "        print('csvPath: ', csvPath,end=\"\\r\")\n",
    "        f = pd.read_csv(csvPath)\n",
    "#         n=n+1\n",
    "        MergeCsvOutput = pd.concat([MergeCsvOutput, f])\n",
    "#         if n==9968:\n",
    "#             break\n",
    "t2 = time.time()\n",
    "print(\"Time for executing function MergeCsv: \", t2 - t1, \"s\")\n",
    "#MergeCsvOutput.reset_index(drop=True)\n",
    "MergeCsvOutput.drop_duplicates(inplace=True)\n",
    "MergeCsvOutput.to_csv(outfile, index=None)"
   ]
  },
  {
   "cell_type": "code",
   "execution_count": 9,
   "metadata": {},
   "outputs": [
    {
     "name": "stderr",
     "output_type": "stream",
     "text": [
      "D:\\ProgramData\\Anaconda3\\lib\\site-packages\\IPython\\core\\interactiveshell.py:3146: DtypeWarning: Columns (9,10) have mixed types.Specify dtype option on import or set low_memory=False.\n",
      "  has_raised = await self.run_ast_nodes(code_ast.body, cell_name,\n"
     ]
    }
   ],
   "source": [
    "# all_tx=pd.read_csv('../Dataset/Normal_Tx/all-tx-9968.csv')\n",
    "all_tx=pd.read_csv('../Dataset/Normal_Tx/all-tx.csv')\n",
    "all_ETH_tx= all_tx"
   ]
  },
  {
   "cell_type": "code",
   "execution_count": 10,
   "metadata": {},
   "outputs": [
    {
     "data": {
      "text/html": [
       "<div>\n",
       "<style scoped>\n",
       "    .dataframe tbody tr th:only-of-type {\n",
       "        vertical-align: middle;\n",
       "    }\n",
       "\n",
       "    .dataframe tbody tr th {\n",
       "        vertical-align: top;\n",
       "    }\n",
       "\n",
       "    .dataframe thead th {\n",
       "        text-align: right;\n",
       "    }\n",
       "</style>\n",
       "<table border=\"1\" class=\"dataframe\">\n",
       "  <thead>\n",
       "    <tr style=\"text-align: right;\">\n",
       "      <th></th>\n",
       "      <th>Unnamed: 0</th>\n",
       "      <th>blockid</th>\n",
       "      <th>timestamp</th>\n",
       "      <th>txhash</th>\n",
       "      <th>type</th>\n",
       "      <th>fromac</th>\n",
       "      <th>toac</th>\n",
       "      <th>gaslimit</th>\n",
       "      <th>value</th>\n",
       "      <th>newcontract</th>\n",
       "      <th>code</th>\n",
       "      <th>isSuccessful</th>\n",
       "    </tr>\n",
       "  </thead>\n",
       "  <tbody>\n",
       "    <tr>\n",
       "      <th>0</th>\n",
       "      <td>0</td>\n",
       "      <td>46466</td>\n",
       "      <td>1438923647</td>\n",
       "      <td>0x09abf3b250969ab5a4bc80533f407dfaca950bbfd833...</td>\n",
       "      <td>Call</td>\n",
       "      <td>0xa89ac93b23370472daac337e9afdf642543f3e57</td>\n",
       "      <td>0x0000000000000000000000000000000000000000</td>\n",
       "      <td>0.0</td>\n",
       "      <td>100.000000</td>\n",
       "      <td>NaN</td>\n",
       "      <td>NaN</td>\n",
       "      <td>OK</td>\n",
       "    </tr>\n",
       "    <tr>\n",
       "      <th>1</th>\n",
       "      <td>1</td>\n",
       "      <td>46554</td>\n",
       "      <td>1438925136</td>\n",
       "      <td>0x85e4a08b2033222d8900552d2da73fc04d7f9aef2f73...</td>\n",
       "      <td>Call</td>\n",
       "      <td>0xff68c2f39c4e7fe2f92c2dc2f8615b1bf070e0fa</td>\n",
       "      <td>0x0000000000000000000000000000000000000000</td>\n",
       "      <td>0.0</td>\n",
       "      <td>14.000000</td>\n",
       "      <td>NaN</td>\n",
       "      <td>NaN</td>\n",
       "      <td>OK</td>\n",
       "    </tr>\n",
       "    <tr>\n",
       "      <th>2</th>\n",
       "      <td>2</td>\n",
       "      <td>46857</td>\n",
       "      <td>1438930476</td>\n",
       "      <td>0xfb3118914c770009654a36904897ac12a1d69b8479b7...</td>\n",
       "      <td>Call</td>\n",
       "      <td>0xc8ebccc5f5689fa8659d83713341e5ad19349448</td>\n",
       "      <td>0x0000000000000000000000000000000000000000</td>\n",
       "      <td>0.0</td>\n",
       "      <td>14.000000</td>\n",
       "      <td>NaN</td>\n",
       "      <td>NaN</td>\n",
       "      <td>OK</td>\n",
       "    </tr>\n",
       "    <tr>\n",
       "      <th>3</th>\n",
       "      <td>3</td>\n",
       "      <td>46941</td>\n",
       "      <td>1438931909</td>\n",
       "      <td>0x38c4353975f860c577b8d43917a0ce9e26ffb4a10bef...</td>\n",
       "      <td>Call</td>\n",
       "      <td>0xc8ebccc5f5689fa8659d83713341e5ad19349448</td>\n",
       "      <td>0x0000000000000000000000000000000000000000</td>\n",
       "      <td>0.0</td>\n",
       "      <td>0.000010</td>\n",
       "      <td>NaN</td>\n",
       "      <td>NaN</td>\n",
       "      <td>OK</td>\n",
       "    </tr>\n",
       "    <tr>\n",
       "      <th>4</th>\n",
       "      <td>4</td>\n",
       "      <td>47441</td>\n",
       "      <td>1438940411</td>\n",
       "      <td>0x824b5c44d55e7a50f6f57600059dae63418586a011ee...</td>\n",
       "      <td>Call</td>\n",
       "      <td>0x3b7ce4d16316f594a3c5ebb7ccc4c022fc2858c6</td>\n",
       "      <td>0x0000000000000000000000000000000000000000</td>\n",
       "      <td>2300.0</td>\n",
       "      <td>1.000000</td>\n",
       "      <td>NaN</td>\n",
       "      <td>NaN</td>\n",
       "      <td>OK</td>\n",
       "    </tr>\n",
       "    <tr>\n",
       "      <th>...</th>\n",
       "      <td>...</td>\n",
       "      <td>...</td>\n",
       "      <td>...</td>\n",
       "      <td>...</td>\n",
       "      <td>...</td>\n",
       "      <td>...</td>\n",
       "      <td>...</td>\n",
       "      <td>...</td>\n",
       "      <td>...</td>\n",
       "      <td>...</td>\n",
       "      <td>...</td>\n",
       "      <td>...</td>\n",
       "    </tr>\n",
       "    <tr>\n",
       "      <th>776961</th>\n",
       "      <td>85</td>\n",
       "      <td>685374</td>\n",
       "      <td>1450008771</td>\n",
       "      <td>0xe2008946970ac9ad3510512c993fde1221822fcb7752...</td>\n",
       "      <td>Call</td>\n",
       "      <td>0xf8b483dba2c3b7176a3da549ad41a48bb3121069</td>\n",
       "      <td>0x1236eff935945d3644184f3584380a6be5aeb566</td>\n",
       "      <td>69000.0</td>\n",
       "      <td>1.363369</td>\n",
       "      <td>NaN</td>\n",
       "      <td>NaN</td>\n",
       "      <td>OK</td>\n",
       "    </tr>\n",
       "    <tr>\n",
       "      <th>776962</th>\n",
       "      <td>84</td>\n",
       "      <td>686150</td>\n",
       "      <td>1450020947</td>\n",
       "      <td>0x9b628516fc0377f25895cd4db5d463bf89344e432fd2...</td>\n",
       "      <td>Call</td>\n",
       "      <td>0x1236eff935945d3644184f3584380a6be5aeb566</td>\n",
       "      <td>0xc47aaa860008be6f65b58c6c6e02a84e666efe31</td>\n",
       "      <td>0.0</td>\n",
       "      <td>1.362319</td>\n",
       "      <td>NaN</td>\n",
       "      <td>NaN</td>\n",
       "      <td>OK</td>\n",
       "    </tr>\n",
       "    <tr>\n",
       "      <th>776963</th>\n",
       "      <td>86</td>\n",
       "      <td>688861</td>\n",
       "      <td>1450067282</td>\n",
       "      <td>0x477f8382dc675f3f872c059db0ca4de424d50469a7c5...</td>\n",
       "      <td>Call</td>\n",
       "      <td>0xf8b483dba2c3b7176a3da549ad41a48bb3121069</td>\n",
       "      <td>0x1236eff935945d3644184f3584380a6be5aeb566</td>\n",
       "      <td>69000.0</td>\n",
       "      <td>1.092335</td>\n",
       "      <td>NaN</td>\n",
       "      <td>NaN</td>\n",
       "      <td>OK</td>\n",
       "    </tr>\n",
       "    <tr>\n",
       "      <th>776964</th>\n",
       "      <td>85</td>\n",
       "      <td>689640</td>\n",
       "      <td>1450081818</td>\n",
       "      <td>0x1dc5ff6968651a1abd2652c4eb8846134a21ff3f582c...</td>\n",
       "      <td>Call</td>\n",
       "      <td>0x1236eff935945d3644184f3584380a6be5aeb566</td>\n",
       "      <td>0xc47aaa860008be6f65b58c6c6e02a84e666efe31</td>\n",
       "      <td>0.0</td>\n",
       "      <td>1.091285</td>\n",
       "      <td>NaN</td>\n",
       "      <td>NaN</td>\n",
       "      <td>OK</td>\n",
       "    </tr>\n",
       "    <tr>\n",
       "      <th>776965</th>\n",
       "      <td>86</td>\n",
       "      <td>879436</td>\n",
       "      <td>1453331264</td>\n",
       "      <td>0x01bfe6ab187135678dc35edd88229a8b0021553de11c...</td>\n",
       "      <td>Call</td>\n",
       "      <td>0x1236eff935945d3644184f3584380a6be5aeb566</td>\n",
       "      <td>0xc47aaa860008be6f65b58c6c6e02a84e666efe31</td>\n",
       "      <td>0.0</td>\n",
       "      <td>0.975445</td>\n",
       "      <td>NaN</td>\n",
       "      <td>NaN</td>\n",
       "      <td>OK</td>\n",
       "    </tr>\n",
       "  </tbody>\n",
       "</table>\n",
       "<p>776966 rows × 12 columns</p>\n",
       "</div>"
      ],
      "text/plain": [
       "        Unnamed: 0  blockid   timestamp  \\\n",
       "0                0    46466  1438923647   \n",
       "1                1    46554  1438925136   \n",
       "2                2    46857  1438930476   \n",
       "3                3    46941  1438931909   \n",
       "4                4    47441  1438940411   \n",
       "...            ...      ...         ...   \n",
       "776961          85   685374  1450008771   \n",
       "776962          84   686150  1450020947   \n",
       "776963          86   688861  1450067282   \n",
       "776964          85   689640  1450081818   \n",
       "776965          86   879436  1453331264   \n",
       "\n",
       "                                                   txhash  type  \\\n",
       "0       0x09abf3b250969ab5a4bc80533f407dfaca950bbfd833...  Call   \n",
       "1       0x85e4a08b2033222d8900552d2da73fc04d7f9aef2f73...  Call   \n",
       "2       0xfb3118914c770009654a36904897ac12a1d69b8479b7...  Call   \n",
       "3       0x38c4353975f860c577b8d43917a0ce9e26ffb4a10bef...  Call   \n",
       "4       0x824b5c44d55e7a50f6f57600059dae63418586a011ee...  Call   \n",
       "...                                                   ...   ...   \n",
       "776961  0xe2008946970ac9ad3510512c993fde1221822fcb7752...  Call   \n",
       "776962  0x9b628516fc0377f25895cd4db5d463bf89344e432fd2...  Call   \n",
       "776963  0x477f8382dc675f3f872c059db0ca4de424d50469a7c5...  Call   \n",
       "776964  0x1dc5ff6968651a1abd2652c4eb8846134a21ff3f582c...  Call   \n",
       "776965  0x01bfe6ab187135678dc35edd88229a8b0021553de11c...  Call   \n",
       "\n",
       "                                            fromac  \\\n",
       "0       0xa89ac93b23370472daac337e9afdf642543f3e57   \n",
       "1       0xff68c2f39c4e7fe2f92c2dc2f8615b1bf070e0fa   \n",
       "2       0xc8ebccc5f5689fa8659d83713341e5ad19349448   \n",
       "3       0xc8ebccc5f5689fa8659d83713341e5ad19349448   \n",
       "4       0x3b7ce4d16316f594a3c5ebb7ccc4c022fc2858c6   \n",
       "...                                            ...   \n",
       "776961  0xf8b483dba2c3b7176a3da549ad41a48bb3121069   \n",
       "776962  0x1236eff935945d3644184f3584380a6be5aeb566   \n",
       "776963  0xf8b483dba2c3b7176a3da549ad41a48bb3121069   \n",
       "776964  0x1236eff935945d3644184f3584380a6be5aeb566   \n",
       "776965  0x1236eff935945d3644184f3584380a6be5aeb566   \n",
       "\n",
       "                                              toac  gaslimit       value  \\\n",
       "0       0x0000000000000000000000000000000000000000       0.0  100.000000   \n",
       "1       0x0000000000000000000000000000000000000000       0.0   14.000000   \n",
       "2       0x0000000000000000000000000000000000000000       0.0   14.000000   \n",
       "3       0x0000000000000000000000000000000000000000       0.0    0.000010   \n",
       "4       0x0000000000000000000000000000000000000000    2300.0    1.000000   \n",
       "...                                            ...       ...         ...   \n",
       "776961  0x1236eff935945d3644184f3584380a6be5aeb566   69000.0    1.363369   \n",
       "776962  0xc47aaa860008be6f65b58c6c6e02a84e666efe31       0.0    1.362319   \n",
       "776963  0x1236eff935945d3644184f3584380a6be5aeb566   69000.0    1.092335   \n",
       "776964  0xc47aaa860008be6f65b58c6c6e02a84e666efe31       0.0    1.091285   \n",
       "776965  0xc47aaa860008be6f65b58c6c6e02a84e666efe31       0.0    0.975445   \n",
       "\n",
       "       newcontract code isSuccessful  \n",
       "0              NaN  NaN           OK  \n",
       "1              NaN  NaN           OK  \n",
       "2              NaN  NaN           OK  \n",
       "3              NaN  NaN           OK  \n",
       "4              NaN  NaN           OK  \n",
       "...            ...  ...          ...  \n",
       "776961         NaN  NaN           OK  \n",
       "776962         NaN  NaN           OK  \n",
       "776963         NaN  NaN           OK  \n",
       "776964         NaN  NaN           OK  \n",
       "776965         NaN  NaN           OK  \n",
       "\n",
       "[776966 rows x 12 columns]"
      ]
     },
     "execution_count": 10,
     "metadata": {},
     "output_type": "execute_result"
    }
   ],
   "source": [
    "all_ETH_tx"
   ]
  },
  {
   "cell_type": "code",
   "execution_count": 11,
   "metadata": {},
   "outputs": [],
   "source": [
    "all_ETH_tx=all_ETH_tx.loc[all_ETH_tx['value']!=0]\n",
    "Normal_Tx_value=all_ETH_tx['value'].to_frame()\n",
    "# Normal_Tx_value.to_csv('../Code_Results/Tx_Value_Results/9968_Normal_Tx_ETH_Value.csv',index=False)\n",
    "#Normal_Tx_value.to_csv('../Code_Results/Tx_Value_Results/More_Normal_Tx_1270876_ETH_Value.csv',index=False)"
   ]
  },
  {
   "cell_type": "code",
   "execution_count": 12,
   "metadata": {},
   "outputs": [
    {
     "data": {
      "text/html": [
       "<div>\n",
       "<style scoped>\n",
       "    .dataframe tbody tr th:only-of-type {\n",
       "        vertical-align: middle;\n",
       "    }\n",
       "\n",
       "    .dataframe tbody tr th {\n",
       "        vertical-align: top;\n",
       "    }\n",
       "\n",
       "    .dataframe thead th {\n",
       "        text-align: right;\n",
       "    }\n",
       "</style>\n",
       "<table border=\"1\" class=\"dataframe\">\n",
       "  <thead>\n",
       "    <tr style=\"text-align: right;\">\n",
       "      <th></th>\n",
       "      <th>value</th>\n",
       "    </tr>\n",
       "  </thead>\n",
       "  <tbody>\n",
       "    <tr>\n",
       "      <th>0</th>\n",
       "      <td>100.000000</td>\n",
       "    </tr>\n",
       "    <tr>\n",
       "      <th>1</th>\n",
       "      <td>14.000000</td>\n",
       "    </tr>\n",
       "    <tr>\n",
       "      <th>2</th>\n",
       "      <td>14.000000</td>\n",
       "    </tr>\n",
       "    <tr>\n",
       "      <th>3</th>\n",
       "      <td>0.000010</td>\n",
       "    </tr>\n",
       "    <tr>\n",
       "      <th>4</th>\n",
       "      <td>1.000000</td>\n",
       "    </tr>\n",
       "    <tr>\n",
       "      <th>...</th>\n",
       "      <td>...</td>\n",
       "    </tr>\n",
       "    <tr>\n",
       "      <th>776961</th>\n",
       "      <td>1.363369</td>\n",
       "    </tr>\n",
       "    <tr>\n",
       "      <th>776962</th>\n",
       "      <td>1.362319</td>\n",
       "    </tr>\n",
       "    <tr>\n",
       "      <th>776963</th>\n",
       "      <td>1.092335</td>\n",
       "    </tr>\n",
       "    <tr>\n",
       "      <th>776964</th>\n",
       "      <td>1.091285</td>\n",
       "    </tr>\n",
       "    <tr>\n",
       "      <th>776965</th>\n",
       "      <td>0.975445</td>\n",
       "    </tr>\n",
       "  </tbody>\n",
       "</table>\n",
       "<p>776966 rows × 1 columns</p>\n",
       "</div>"
      ],
      "text/plain": [
       "             value\n",
       "0       100.000000\n",
       "1        14.000000\n",
       "2        14.000000\n",
       "3         0.000010\n",
       "4         1.000000\n",
       "...            ...\n",
       "776961    1.363369\n",
       "776962    1.362319\n",
       "776963    1.092335\n",
       "776964    1.091285\n",
       "776965    0.975445\n",
       "\n",
       "[776966 rows x 1 columns]"
      ]
     },
     "execution_count": 12,
     "metadata": {},
     "output_type": "execute_result"
    }
   ],
   "source": [
    "Normal_Tx_value"
   ]
  },
  {
   "cell_type": "code",
   "execution_count": 13,
   "metadata": {},
   "outputs": [
    {
     "data": {
      "text/plain": [
       "776966"
      ]
     },
     "execution_count": 13,
     "metadata": {},
     "output_type": "execute_result"
    }
   ],
   "source": [
    "len(all_ETH_tx)"
   ]
  },
  {
   "cell_type": "code",
   "execution_count": 14,
   "metadata": {},
   "outputs": [
    {
     "data": {
      "text/plain": [
       "40.57088865817728"
      ]
     },
     "execution_count": 14,
     "metadata": {},
     "output_type": "execute_result"
    }
   ],
   "source": [
    "import math\n",
    "math.log10(max(list(all_ETH_tx['value'].astype(float)))/1e+18)"
   ]
  },
  {
   "cell_type": "code",
   "execution_count": 15,
   "metadata": {},
   "outputs": [],
   "source": [
    "input_path ='../Code_Results/Tx_Value_Results/Tx_ETH_Value.csv'\n",
    "input_csv = pd.read_csv(input_path)"
   ]
  },
  {
   "cell_type": "code",
   "execution_count": 16,
   "metadata": {},
   "outputs": [
    {
     "data": {
      "text/html": [
       "<div>\n",
       "<style scoped>\n",
       "    .dataframe tbody tr th:only-of-type {\n",
       "        vertical-align: middle;\n",
       "    }\n",
       "\n",
       "    .dataframe tbody tr th {\n",
       "        vertical-align: top;\n",
       "    }\n",
       "\n",
       "    .dataframe thead th {\n",
       "        text-align: right;\n",
       "    }\n",
       "</style>\n",
       "<table border=\"1\" class=\"dataframe\">\n",
       "  <thead>\n",
       "    <tr style=\"text-align: right;\">\n",
       "      <th></th>\n",
       "      <th>Tx_value</th>\n",
       "      <th>Num</th>\n",
       "      <th>Percent</th>\n",
       "    </tr>\n",
       "  </thead>\n",
       "  <tbody>\n",
       "    <tr>\n",
       "      <th>0</th>\n",
       "      <td>0</td>\n",
       "      <td>NaN</td>\n",
       "      <td>NaN</td>\n",
       "    </tr>\n",
       "    <tr>\n",
       "      <th>1</th>\n",
       "      <td>1</td>\n",
       "      <td>NaN</td>\n",
       "      <td>NaN</td>\n",
       "    </tr>\n",
       "    <tr>\n",
       "      <th>2</th>\n",
       "      <td>2</td>\n",
       "      <td>NaN</td>\n",
       "      <td>NaN</td>\n",
       "    </tr>\n",
       "    <tr>\n",
       "      <th>3</th>\n",
       "      <td>3</td>\n",
       "      <td>NaN</td>\n",
       "      <td>NaN</td>\n",
       "    </tr>\n",
       "    <tr>\n",
       "      <th>4</th>\n",
       "      <td>4</td>\n",
       "      <td>NaN</td>\n",
       "      <td>NaN</td>\n",
       "    </tr>\n",
       "    <tr>\n",
       "      <th>5</th>\n",
       "      <td>5</td>\n",
       "      <td>NaN</td>\n",
       "      <td>NaN</td>\n",
       "    </tr>\n",
       "    <tr>\n",
       "      <th>6</th>\n",
       "      <td>6</td>\n",
       "      <td>NaN</td>\n",
       "      <td>NaN</td>\n",
       "    </tr>\n",
       "  </tbody>\n",
       "</table>\n",
       "</div>"
      ],
      "text/plain": [
       "   Tx_value  Num  Percent\n",
       "0         0  NaN      NaN\n",
       "1         1  NaN      NaN\n",
       "2         2  NaN      NaN\n",
       "3         3  NaN      NaN\n",
       "4         4  NaN      NaN\n",
       "5         5  NaN      NaN\n",
       "6         6  NaN      NaN"
      ]
     },
     "execution_count": 16,
     "metadata": {},
     "output_type": "execute_result"
    }
   ],
   "source": [
    "input_csv"
   ]
  },
  {
   "cell_type": "code",
   "execution_count": 31,
   "metadata": {},
   "outputs": [],
   "source": [
    "#Step3：统计交易金额所在范围的数量\n",
    "import warnings\n",
    "warnings.filterwarnings(\"ignore\")\n",
    "tmp=len(all_ETH_tx.loc[(all_ETH_tx['value'].astype(float)<1)])\n",
    "input_csv['Num'][0]=tmp                  \n",
    "for i in range(1,len(input_csv['Tx_value'])-1):\n",
    "    Tx_value_range=input_csv['Tx_value']\n",
    "#     print(int(Tx_value_range[i]))\n",
    "    min_value=10**(Tx_value_range[i].astype(float)-1)\n",
    "    max_value=10**(Tx_value_range[i].astype(float))\n",
    "#     print(min_value)\n",
    "#     print(max_value)\n",
    "    tmp=len(all_ETH_tx.loc[(all_ETH_tx['value'].astype(float)>=min_value)& (all_ETH_tx['value'].astype(float)<max_value)])\n",
    "    #print(tmp)\n",
    "    input_csv['Num'][i]=tmp\n",
    "#     break\n",
    "tmp=len(all_ETH_tx.loc[(all_ETH_tx['value'].astype(float)>=5)])\n",
    "input_csv['Num'][6]=tmp   "
   ]
  },
  {
   "cell_type": "code",
   "execution_count": 32,
   "metadata": {},
   "outputs": [],
   "source": [
    "input_csv['Percent']=input_csv['Num']/sum(input_csv['Num'])"
   ]
  },
  {
   "cell_type": "code",
   "execution_count": 33,
   "metadata": {},
   "outputs": [
    {
     "data": {
      "text/html": [
       "<div>\n",
       "<style scoped>\n",
       "    .dataframe tbody tr th:only-of-type {\n",
       "        vertical-align: middle;\n",
       "    }\n",
       "\n",
       "    .dataframe tbody tr th {\n",
       "        vertical-align: top;\n",
       "    }\n",
       "\n",
       "    .dataframe thead th {\n",
       "        text-align: right;\n",
       "    }\n",
       "</style>\n",
       "<table border=\"1\" class=\"dataframe\">\n",
       "  <thead>\n",
       "    <tr style=\"text-align: right;\">\n",
       "      <th></th>\n",
       "      <th>Tx_value</th>\n",
       "      <th>Num</th>\n",
       "      <th>Percent</th>\n",
       "    </tr>\n",
       "  </thead>\n",
       "  <tbody>\n",
       "    <tr>\n",
       "      <th>0</th>\n",
       "      <td>0</td>\n",
       "      <td>304027.0</td>\n",
       "      <td>0.313464</td>\n",
       "    </tr>\n",
       "    <tr>\n",
       "      <th>1</th>\n",
       "      <td>1</td>\n",
       "      <td>336854.0</td>\n",
       "      <td>0.347309</td>\n",
       "    </tr>\n",
       "    <tr>\n",
       "      <th>2</th>\n",
       "      <td>2</td>\n",
       "      <td>100917.0</td>\n",
       "      <td>0.104049</td>\n",
       "    </tr>\n",
       "    <tr>\n",
       "      <th>3</th>\n",
       "      <td>3</td>\n",
       "      <td>26086.0</td>\n",
       "      <td>0.026896</td>\n",
       "    </tr>\n",
       "    <tr>\n",
       "      <th>4</th>\n",
       "      <td>4</td>\n",
       "      <td>8743.0</td>\n",
       "      <td>0.009014</td>\n",
       "    </tr>\n",
       "    <tr>\n",
       "      <th>5</th>\n",
       "      <td>5</td>\n",
       "      <td>305.0</td>\n",
       "      <td>0.000314</td>\n",
       "    </tr>\n",
       "    <tr>\n",
       "      <th>6</th>\n",
       "      <td>6</td>\n",
       "      <td>192964.0</td>\n",
       "      <td>0.198953</td>\n",
       "    </tr>\n",
       "  </tbody>\n",
       "</table>\n",
       "</div>"
      ],
      "text/plain": [
       "   Tx_value       Num   Percent\n",
       "0         0  304027.0  0.313464\n",
       "1         1  336854.0  0.347309\n",
       "2         2  100917.0  0.104049\n",
       "3         3   26086.0  0.026896\n",
       "4         4    8743.0  0.009014\n",
       "5         5     305.0  0.000314\n",
       "6         6  192964.0  0.198953"
      ]
     },
     "execution_count": 33,
     "metadata": {},
     "output_type": "execute_result"
    }
   ],
   "source": [
    "input_csv"
   ]
  },
  {
   "cell_type": "code",
   "execution_count": 34,
   "metadata": {},
   "outputs": [
    {
     "data": {
      "text/plain": [
       "1.0"
      ]
     },
     "execution_count": 34,
     "metadata": {},
     "output_type": "execute_result"
    }
   ],
   "source": [
    "sum(input_csv['Percent'])"
   ]
  },
  {
   "cell_type": "code",
   "execution_count": null,
   "metadata": {},
   "outputs": [],
   "source": []
  }
 ],
 "metadata": {
  "kernelspec": {
   "display_name": "Python 3",
   "language": "python",
   "name": "python3"
  },
  "language_info": {
   "codemirror_mode": {
    "name": "ipython",
    "version": 3
   },
   "file_extension": ".py",
   "mimetype": "text/x-python",
   "name": "python",
   "nbconvert_exporter": "python",
   "pygments_lexer": "ipython3",
   "version": "3.8.5"
  }
 },
 "nbformat": 4,
 "nbformat_minor": 4
}
