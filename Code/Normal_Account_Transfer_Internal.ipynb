{
 "cells": [
  {
   "cell_type": "code",
   "execution_count": 1,
   "metadata": {},
   "outputs": [],
   "source": [
    "import pandas as pd\n",
    "import numpy as np\n",
    "import os\n",
    "import csv"
   ]
  },
  {
   "cell_type": "code",
   "execution_count": 2,
   "metadata": {},
   "outputs": [],
   "source": [
    "#Event='AscendEx'\n",
    "Event='Normal'\n",
    "raw_path='../Dataset/Normal/'\n",
    "account_feature_output_path = '../Code_Results/Ac_Balance_Results/'+Event+'_account_Tx_Internal.csv'\n",
    "feature_output_path ='../Code_Results/Intermediary_Account_Feature_Results/'+Event"
   ]
  },
  {
   "cell_type": "code",
   "execution_count": 3,
   "metadata": {},
   "outputs": [],
   "source": [
    "file_list = os.listdir(raw_path)\n",
    "normal_list=[]\n",
    "for k in range(0,len(file_list)):\n",
    "    normal_list.append(file_list[k][:-4])"
   ]
  },
  {
   "cell_type": "code",
   "execution_count": 4,
   "metadata": {},
   "outputs": [],
   "source": [
    "with open(account_feature_output_path,'w') as f:\n",
    "\n",
    "    csv_write = csv.writer(f)\n",
    "    csv_head = [\"address\",\"Tx_Internal\"]\n",
    "    csv_write.writerow(csv_head)\n",
    "\n",
    "output = pd.read_csv(account_feature_output_path)\n",
    "output['address'] = normal_list\n"
   ]
  },
  {
   "cell_type": "code",
   "execution_count": 5,
   "metadata": {},
   "outputs": [
    {
     "name": "stdout",
     "output_type": "stream",
     "text": [
      "11314/11314\r"
     ]
    }
   ],
   "source": [
    "#Step3：统计每个账户的交易速度平均值\n",
    "import math\n",
    "for i in range(0,len(normal_list)):\n",
    "\n",
    "    Del_T=[]\n",
    "    print('%d/%d'%(i+1,len(normal_list)),end=\"\\r\")\n",
    "    file_name=normal_list[i]\n",
    "    Ac=file_name\n",
    "    file_name = raw_path + file_name + '.csv'\n",
    "    #print(file_name,end=\"\\r\")\n",
    "    if os.path.exists(file_name):\n",
    "        record = pd.read_csv(file_name)\n",
    "        Ac_Tx=record.loc[record[\"isSuccessful\"]=='OK']\n",
    "    \n",
    "    for j in range(0,len(Ac_Tx)-1):\n",
    "        Tx=Ac_Tx.iloc[j]\n",
    "        if Tx['fromac']==Ac:\n",
    "            Next_Tx=Ac_Tx.iloc[j+1]\n",
    "            if Next_Tx['toac']==Ac:\n",
    "                if Next_Tx['timestamp']-Tx['timestamp']<604800:\n",
    "                    Del_T.append(Next_Tx['timestamp']-Tx['timestamp'])\n",
    "        if Tx['toac']==Ac:\n",
    "            Next_Tx=Ac_Tx.iloc[j+1]\n",
    "            if Next_Tx['fromac']==Ac:\n",
    "                if Next_Tx['timestamp']-Tx['timestamp']<604800:\n",
    "                    Del_T.append(Next_Tx['timestamp']-Tx['timestamp'])\n",
    "    if len(Del_T) !=0:\n",
    "        Avg_Internal=sum(Del_T)/len(Del_T)\n",
    "        output['Tx_Internal'][i]=Avg_Internal  \n",
    "    if len(Del_T) ==0:\n",
    "        output['Tx_Internal'][i]=0"
   ]
  },
  {
   "cell_type": "code",
   "execution_count": 8,
   "metadata": {},
   "outputs": [
    {
     "data": {
      "text/html": [
       "<div>\n",
       "<style scoped>\n",
       "    .dataframe tbody tr th:only-of-type {\n",
       "        vertical-align: middle;\n",
       "    }\n",
       "\n",
       "    .dataframe tbody tr th {\n",
       "        vertical-align: top;\n",
       "    }\n",
       "\n",
       "    .dataframe thead th {\n",
       "        text-align: right;\n",
       "    }\n",
       "</style>\n",
       "<table border=\"1\" class=\"dataframe\">\n",
       "  <thead>\n",
       "    <tr style=\"text-align: right;\">\n",
       "      <th></th>\n",
       "      <th>address</th>\n",
       "      <th>Tx_Internal</th>\n",
       "    </tr>\n",
       "  </thead>\n",
       "  <tbody>\n",
       "    <tr>\n",
       "      <th>0</th>\n",
       "      <td>0x0000000000000000000000000000000000000000</td>\n",
       "      <td>0</td>\n",
       "    </tr>\n",
       "    <tr>\n",
       "      <th>1</th>\n",
       "      <td>0x0000000d2138b2ee1865cd3e4454c562b9ba7bff</td>\n",
       "      <td>20.737</td>\n",
       "    </tr>\n",
       "    <tr>\n",
       "      <th>2</th>\n",
       "      <td>0x0000002bfa4dac0fdcf5cd9d47259241ce92459b</td>\n",
       "      <td>8.62725</td>\n",
       "    </tr>\n",
       "    <tr>\n",
       "      <th>3</th>\n",
       "      <td>0x000000809f5115368b36a7aaa4480caaf5bf809c</td>\n",
       "      <td>54.362</td>\n",
       "    </tr>\n",
       "    <tr>\n",
       "      <th>4</th>\n",
       "      <td>0x000001f568875f378bf6d170b790967fe429c81a</td>\n",
       "      <td>32.718</td>\n",
       "    </tr>\n",
       "    <tr>\n",
       "      <th>...</th>\n",
       "      <td>...</td>\n",
       "      <td>...</td>\n",
       "    </tr>\n",
       "    <tr>\n",
       "      <th>11309</th>\n",
       "      <td>0x1235c4a48841724130abccfbd13e64e1f150bc5b</td>\n",
       "      <td>123.859</td>\n",
       "    </tr>\n",
       "    <tr>\n",
       "      <th>11310</th>\n",
       "      <td>0x12362e9d5a0f816b6d4a755b1b14158028309d03</td>\n",
       "      <td>0.0822222</td>\n",
       "    </tr>\n",
       "    <tr>\n",
       "      <th>11311</th>\n",
       "      <td>0x123641357e08723be9db36967184412d5d7b07dc</td>\n",
       "      <td>0.706406</td>\n",
       "    </tr>\n",
       "    <tr>\n",
       "      <th>11312</th>\n",
       "      <td>0x123658dadbf5d26a33736485b7564a871c05d473</td>\n",
       "      <td>0.0563889</td>\n",
       "    </tr>\n",
       "    <tr>\n",
       "      <th>11313</th>\n",
       "      <td>0x1236eff935945d3644184f3584380a6be5aeb566</td>\n",
       "      <td>8.23506</td>\n",
       "    </tr>\n",
       "  </tbody>\n",
       "</table>\n",
       "<p>11314 rows × 2 columns</p>\n",
       "</div>"
      ],
      "text/plain": [
       "                                          address Tx_Internal\n",
       "0      0x0000000000000000000000000000000000000000           0\n",
       "1      0x0000000d2138b2ee1865cd3e4454c562b9ba7bff      20.737\n",
       "2      0x0000002bfa4dac0fdcf5cd9d47259241ce92459b     8.62725\n",
       "3      0x000000809f5115368b36a7aaa4480caaf5bf809c      54.362\n",
       "4      0x000001f568875f378bf6d170b790967fe429c81a      32.718\n",
       "...                                           ...         ...\n",
       "11309  0x1235c4a48841724130abccfbd13e64e1f150bc5b     123.859\n",
       "11310  0x12362e9d5a0f816b6d4a755b1b14158028309d03   0.0822222\n",
       "11311  0x123641357e08723be9db36967184412d5d7b07dc    0.706406\n",
       "11312  0x123658dadbf5d26a33736485b7564a871c05d473   0.0563889\n",
       "11313  0x1236eff935945d3644184f3584380a6be5aeb566     8.23506\n",
       "\n",
       "[11314 rows x 2 columns]"
      ]
     },
     "execution_count": 8,
     "metadata": {},
     "output_type": "execute_result"
    }
   ],
   "source": [
    "output"
   ]
  },
  {
   "cell_type": "code",
   "execution_count": 7,
   "metadata": {},
   "outputs": [],
   "source": [
    "output['Tx_Internal']=output['Tx_Internal']/(60*60)#交易的间隔为小时"
   ]
  },
  {
   "cell_type": "code",
   "execution_count": 9,
   "metadata": {},
   "outputs": [],
   "source": [
    "output=output.loc[output['Tx_Internal']!=0]\n",
    "output.to_csv('../Code_Results/Tx_Velocity_Results/'+Event+'_Tx_Internal.csv', index=False)"
   ]
  },
  {
   "cell_type": "code",
   "execution_count": 34,
   "metadata": {},
   "outputs": [
    {
     "data": {
      "text/plain": [
       "20.17555956775148"
      ]
     },
     "execution_count": 34,
     "metadata": {},
     "output_type": "execute_result"
    }
   ],
   "source": [
    "output['Tx_Internal'].mean()"
   ]
  },
  {
   "cell_type": "code",
   "execution_count": 25,
   "metadata": {},
   "outputs": [
    {
     "data": {
      "text/plain": [
       "167.97"
      ]
     },
     "execution_count": 25,
     "metadata": {},
     "output_type": "execute_result"
    }
   ],
   "source": [
    "max(output['Tx_Internal'])"
   ]
  },
  {
   "cell_type": "code",
   "execution_count": 26,
   "metadata": {},
   "outputs": [
    {
     "data": {
      "text/plain": [
       "0.00018518518518518518"
      ]
     },
     "execution_count": 26,
     "metadata": {},
     "output_type": "execute_result"
    }
   ],
   "source": [
    "min(output['Tx_Internal'])"
   ]
  },
  {
   "cell_type": "code",
   "execution_count": 28,
   "metadata": {},
   "outputs": [
    {
     "data": {
      "text/plain": [
       "14.4365"
      ]
     },
     "execution_count": 28,
     "metadata": {},
     "output_type": "execute_result"
    }
   ],
   "source": [
    "np.median(output['Tx_Internal'])"
   ]
  },
  {
   "cell_type": "code",
   "execution_count": 32,
   "metadata": {},
   "outputs": [
    {
     "data": {
      "text/plain": [
       "0.0125"
      ]
     },
     "execution_count": 32,
     "metadata": {},
     "output_type": "execute_result"
    }
   ],
   "source": [
    "output['Tx_Internal'].mode()[0]"
   ]
  },
  {
   "cell_type": "code",
   "execution_count": 33,
   "metadata": {},
   "outputs": [
    {
     "data": {
      "text/plain": [
       "14.4365"
      ]
     },
     "execution_count": 33,
     "metadata": {},
     "output_type": "execute_result"
    }
   ],
   "source": [
    "output['Tx_Internal'].median()"
   ]
  },
  {
   "cell_type": "code",
   "execution_count": null,
   "metadata": {},
   "outputs": [],
   "source": []
  }
 ],
 "metadata": {
  "kernelspec": {
   "display_name": "Python 3",
   "language": "python",
   "name": "python3"
  },
  "language_info": {
   "codemirror_mode": {
    "name": "ipython",
    "version": 3
   },
   "file_extension": ".py",
   "mimetype": "text/x-python",
   "name": "python",
   "nbconvert_exporter": "python",
   "pygments_lexer": "ipython3",
   "version": "3.8.5"
  }
 },
 "nbformat": 4,
 "nbformat_minor": 4
}
