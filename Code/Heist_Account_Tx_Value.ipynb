{
 "cells": [
  {
   "cell_type": "code",
   "execution_count": 1,
   "metadata": {},
   "outputs": [],
   "source": [
    "import pandas as pd\n",
    "import numpy as np\n",
    "import os\n",
    "import csv"
   ]
  },
  {
   "cell_type": "code",
   "execution_count": 2,
   "metadata": {},
   "outputs": [],
   "source": [
    "#Event='AscendEx'\n",
    "Event='Upbit'\n",
    "raw_path='../Dataset/'+Event+'/all_data_token/'\n",
    "address_path='../Dataset/'+Event+'/dataset/'\n",
    "#account_feature_output_path = '../Code_Results/Intermediary_Account_Feature_Results/'+Event+'_account_feature.csv'\n",
    "input_path ='../Code_Results/Tx_Value_Results/Tx_ETH_Value.csv'"
   ]
  },
  {
   "cell_type": "code",
   "execution_count": 49,
   "metadata": {},
   "outputs": [],
   "source": [
    "#Step1：筛选出之发生了ETH交易的洗钱账户（source+layering）\n",
    "#方法2：all_erc20_address和all_normal_address的交集，再用all_normal_address减掉交集\n",
    "all_address=pd.read_csv(address_path+\"all-address.csv\")\n",
    "all_erc20_address=pd.read_csv(address_path+\"all-erc20-address.csv\")\n",
    "all_normal_address=pd.read_csv(address_path+\"all-normal-address.csv\")\n",
    "address=all_address['address']\n",
    "erc20_address=all_erc20_address['address']\n",
    "normal_address=all_normal_address['address']\n",
    "ETH_address=set(address)-set(erc20_address)\n",
    "temp=set(erc20_address)&set(normal_address)\n",
    "ETH_address=list(set(normal_address)-temp)\n",
    "#再筛选出来label是heist的账户\n",
    "all_ETH_address=all_normal_address[all_normal_address['address'].isin(ETH_address)]\n",
    "# ETH_heist_address=list(all_ETH_address.loc[(all_ETH_address['label']=='heist')&(all_ETH_address['name_tag']!='ml_transit_9')]['address'])\n",
    "ETH_heist_address=list(all_ETH_address.loc[(all_ETH_address['label']=='heist')]['address'])"
   ]
  },
  {
   "cell_type": "code",
   "execution_count": 50,
   "metadata": {},
   "outputs": [
    {
     "data": {
      "text/plain": [
       "9968"
      ]
     },
     "execution_count": 50,
     "metadata": {},
     "output_type": "execute_result"
    }
   ],
   "source": [
    "len(ETH_heist_address)"
   ]
  },
  {
   "cell_type": "code",
   "execution_count": 51,
   "metadata": {},
   "outputs": [],
   "source": [
    "#Step2：筛选出ETH账户的交易\n",
    "# ETH_address={'0x70dcf33ca09bd87bb2a301280331406ebd32c8a0'}  测试数据\n",
    "all_normal_tx=pd.read_csv(address_path+\"all-normal-tx.csv\")\n",
    "ETH_tx=all_normal_tx[all_normal_tx['from'].isin(list(ETH_heist_address)) | all_normal_tx['to'].isin(list(ETH_heist_address))]\n",
    "#ETH_tx.to_csv('../Code_Results/Intermediary_Account_Feature_Results/'+Event+'_ETH_account_TX.csv', index=False)"
   ]
  },
  {
   "cell_type": "code",
   "execution_count": 52,
   "metadata": {},
   "outputs": [],
   "source": [
    "ETH_tx=ETH_tx.loc[ETH_tx['value']!=0]\n",
    "ETH_tx['value']=ETH_tx['value'].astype(float)/1e+18\n",
    "Heist_Tx_value=ETH_tx['value'].to_frame()\n",
    "Heist_Tx_value.to_csv('../Code_Results/Tx_Value_Results/9968_Heist_Tx_ETH_Value.csv',index=False)"
   ]
  },
  {
   "cell_type": "code",
   "execution_count": 53,
   "metadata": {},
   "outputs": [
    {
     "data": {
      "text/plain": [
       "108600"
      ]
     },
     "execution_count": 53,
     "metadata": {},
     "output_type": "execute_result"
    }
   ],
   "source": [
    "len(Heist_Tx_value)"
   ]
  },
  {
   "cell_type": "code",
   "execution_count": 26,
   "metadata": {},
   "outputs": [
    {
     "name": "stderr",
     "output_type": "stream",
     "text": [
      "D:\\ProgramData\\Anaconda3\\lib\\site-packages\\IPython\\core\\interactiveshell.py:3146: DtypeWarning: Columns (3) have mixed types.Specify dtype option on import or set low_memory=False.\n",
      "  has_raised = await self.run_ast_nodes(code_ast.body, cell_name,\n"
     ]
    }
   ],
   "source": [
    "all_tx=pd.read_csv(address_path+\"all-tx.csv\")\n",
    "all_ETH_tx= all_tx.loc[pd.isnull(all_tx[\"contractAddress\"])]"
   ]
  },
  {
   "cell_type": "code",
   "execution_count": 28,
   "metadata": {},
   "outputs": [],
   "source": [
    "all_ETH_tx=all_ETH_tx.loc[all_ETH_tx['value']!=0]"
   ]
  },
  {
   "cell_type": "code",
   "execution_count": 27,
   "metadata": {},
   "outputs": [
    {
     "name": "stderr",
     "output_type": "stream",
     "text": [
      "<ipython-input-27-d842c9306fd2>:1: SettingWithCopyWarning: \n",
      "A value is trying to be set on a copy of a slice from a DataFrame.\n",
      "Try using .loc[row_indexer,col_indexer] = value instead\n",
      "\n",
      "See the caveats in the documentation: https://pandas.pydata.org/pandas-docs/stable/user_guide/indexing.html#returning-a-view-versus-a-copy\n",
      "  all_ETH_tx['value']=all_ETH_tx['value'].astype(float)/1e+18\n"
     ]
    }
   ],
   "source": [
    "all_ETH_tx['value']=all_ETH_tx['value'].astype(float)/1e+18"
   ]
  },
  {
   "cell_type": "code",
   "execution_count": 29,
   "metadata": {},
   "outputs": [],
   "source": [
    "Heist_Tx_value=all_ETH_tx['value'].to_frame()"
   ]
  },
  {
   "cell_type": "code",
   "execution_count": 32,
   "metadata": {},
   "outputs": [],
   "source": [
    "List=Heist_Tx_value['value'].tolist()"
   ]
  },
  {
   "cell_type": "code",
   "execution_count": 35,
   "metadata": {},
   "outputs": [],
   "source": [
    "import random\n",
    "a=random.sample(List,776966)"
   ]
  },
  {
   "cell_type": "code",
   "execution_count": 41,
   "metadata": {},
   "outputs": [],
   "source": [
    "ETH_tx_776966=pd.DataFrame()\n",
    "ETH_tx_776966['value']=a\n",
    "ETH_tx_776966.to_csv('../Code_Results/Tx_Value_Results/Heist_Tx_776966_ETH_Value.csv',index=False)"
   ]
  },
  {
   "cell_type": "code",
   "execution_count": 40,
   "metadata": {},
   "outputs": [
    {
     "data": {
      "text/html": [
       "<div>\n",
       "<style scoped>\n",
       "    .dataframe tbody tr th:only-of-type {\n",
       "        vertical-align: middle;\n",
       "    }\n",
       "\n",
       "    .dataframe tbody tr th {\n",
       "        vertical-align: top;\n",
       "    }\n",
       "\n",
       "    .dataframe thead th {\n",
       "        text-align: right;\n",
       "    }\n",
       "</style>\n",
       "<table border=\"1\" class=\"dataframe\">\n",
       "  <thead>\n",
       "    <tr style=\"text-align: right;\">\n",
       "      <th></th>\n",
       "      <th>value</th>\n",
       "    </tr>\n",
       "  </thead>\n",
       "  <tbody>\n",
       "    <tr>\n",
       "      <th>0</th>\n",
       "      <td>0.391929</td>\n",
       "    </tr>\n",
       "    <tr>\n",
       "      <th>1</th>\n",
       "      <td>19.999265</td>\n",
       "    </tr>\n",
       "    <tr>\n",
       "      <th>2</th>\n",
       "      <td>5.000000</td>\n",
       "    </tr>\n",
       "    <tr>\n",
       "      <th>3</th>\n",
       "      <td>8.247451</td>\n",
       "    </tr>\n",
       "    <tr>\n",
       "      <th>4</th>\n",
       "      <td>0.009000</td>\n",
       "    </tr>\n",
       "    <tr>\n",
       "      <th>...</th>\n",
       "      <td>...</td>\n",
       "    </tr>\n",
       "    <tr>\n",
       "      <th>776961</th>\n",
       "      <td>0.087763</td>\n",
       "    </tr>\n",
       "    <tr>\n",
       "      <th>776962</th>\n",
       "      <td>0.298000</td>\n",
       "    </tr>\n",
       "    <tr>\n",
       "      <th>776963</th>\n",
       "      <td>0.050000</td>\n",
       "    </tr>\n",
       "    <tr>\n",
       "      <th>776964</th>\n",
       "      <td>1.000000</td>\n",
       "    </tr>\n",
       "    <tr>\n",
       "      <th>776965</th>\n",
       "      <td>0.050000</td>\n",
       "    </tr>\n",
       "  </tbody>\n",
       "</table>\n",
       "<p>776966 rows × 1 columns</p>\n",
       "</div>"
      ],
      "text/plain": [
       "            value\n",
       "0        0.391929\n",
       "1       19.999265\n",
       "2        5.000000\n",
       "3        8.247451\n",
       "4        0.009000\n",
       "...           ...\n",
       "776961   0.087763\n",
       "776962   0.298000\n",
       "776963   0.050000\n",
       "776964   1.000000\n",
       "776965   0.050000\n",
       "\n",
       "[776966 rows x 1 columns]"
      ]
     },
     "execution_count": 40,
     "metadata": {},
     "output_type": "execute_result"
    }
   ],
   "source": [
    "ETH_tx_776966"
   ]
  },
  {
   "cell_type": "code",
   "execution_count": 30,
   "metadata": {},
   "outputs": [
    {
     "data": {
      "text/html": [
       "<div>\n",
       "<style scoped>\n",
       "    .dataframe tbody tr th:only-of-type {\n",
       "        vertical-align: middle;\n",
       "    }\n",
       "\n",
       "    .dataframe tbody tr th {\n",
       "        vertical-align: top;\n",
       "    }\n",
       "\n",
       "    .dataframe thead th {\n",
       "        text-align: right;\n",
       "    }\n",
       "</style>\n",
       "<table border=\"1\" class=\"dataframe\">\n",
       "  <thead>\n",
       "    <tr style=\"text-align: right;\">\n",
       "      <th></th>\n",
       "      <th>value</th>\n",
       "    </tr>\n",
       "  </thead>\n",
       "  <tbody>\n",
       "    <tr>\n",
       "      <th>16</th>\n",
       "      <td>0.100000</td>\n",
       "    </tr>\n",
       "    <tr>\n",
       "      <th>20</th>\n",
       "      <td>0.101559</td>\n",
       "    </tr>\n",
       "    <tr>\n",
       "      <th>21</th>\n",
       "      <td>29.990000</td>\n",
       "    </tr>\n",
       "    <tr>\n",
       "      <th>22</th>\n",
       "      <td>30.091514</td>\n",
       "    </tr>\n",
       "    <tr>\n",
       "      <th>23</th>\n",
       "      <td>29.990000</td>\n",
       "    </tr>\n",
       "    <tr>\n",
       "      <th>...</th>\n",
       "      <td>...</td>\n",
       "    </tr>\n",
       "    <tr>\n",
       "      <th>2348162</th>\n",
       "      <td>1.815400</td>\n",
       "    </tr>\n",
       "    <tr>\n",
       "      <th>2348163</th>\n",
       "      <td>0.400000</td>\n",
       "    </tr>\n",
       "    <tr>\n",
       "      <th>2348164</th>\n",
       "      <td>0.399842</td>\n",
       "    </tr>\n",
       "    <tr>\n",
       "      <th>2348165</th>\n",
       "      <td>0.066000</td>\n",
       "    </tr>\n",
       "    <tr>\n",
       "      <th>2348179</th>\n",
       "      <td>0.036471</td>\n",
       "    </tr>\n",
       "  </tbody>\n",
       "</table>\n",
       "<p>1221999 rows × 1 columns</p>\n",
       "</div>"
      ],
      "text/plain": [
       "             value\n",
       "16        0.100000\n",
       "20        0.101559\n",
       "21       29.990000\n",
       "22       30.091514\n",
       "23       29.990000\n",
       "...            ...\n",
       "2348162   1.815400\n",
       "2348163   0.400000\n",
       "2348164   0.399842\n",
       "2348165   0.066000\n",
       "2348179   0.036471\n",
       "\n",
       "[1221999 rows x 1 columns]"
      ]
     },
     "execution_count": 30,
     "metadata": {},
     "output_type": "execute_result"
    }
   ],
   "source": [
    "Heist_Tx_value"
   ]
  },
  {
   "cell_type": "code",
   "execution_count": 31,
   "metadata": {},
   "outputs": [],
   "source": [
    "Heist_Tx_value.to_csv('../Code_Results/Tx_Value_Results/Heist_Tx_ETH_Value.csv',index=False)"
   ]
  },
  {
   "cell_type": "code",
   "execution_count": 14,
   "metadata": {},
   "outputs": [
    {
     "data": {
      "text/html": [
       "<div>\n",
       "<style scoped>\n",
       "    .dataframe tbody tr th:only-of-type {\n",
       "        vertical-align: middle;\n",
       "    }\n",
       "\n",
       "    .dataframe tbody tr th {\n",
       "        vertical-align: top;\n",
       "    }\n",
       "\n",
       "    .dataframe thead th {\n",
       "        text-align: right;\n",
       "    }\n",
       "</style>\n",
       "<table border=\"1\" class=\"dataframe\">\n",
       "  <thead>\n",
       "    <tr style=\"text-align: right;\">\n",
       "      <th></th>\n",
       "      <th>hash</th>\n",
       "      <th>from</th>\n",
       "      <th>to</th>\n",
       "      <th>value</th>\n",
       "      <th>timeStamp</th>\n",
       "      <th>blockNumber</th>\n",
       "      <th>tokenSymbol</th>\n",
       "      <th>contractAddress</th>\n",
       "      <th>isError</th>\n",
       "      <th>gasPrice</th>\n",
       "      <th>gasUsed</th>\n",
       "    </tr>\n",
       "  </thead>\n",
       "  <tbody>\n",
       "    <tr>\n",
       "      <th>16</th>\n",
       "      <td>0xd2410b2886bd1e2fa46621fa7d37f44d16b2cadd80c2...</td>\n",
       "      <td>0x00000b20f0f6a3a212aa6b85106709cd5941457c</td>\n",
       "      <td>0x960fd5cfa6c36e9db131824ddf07df6322a053de</td>\n",
       "      <td>1e+17</td>\n",
       "      <td>1651826446</td>\n",
       "      <td>14722541</td>\n",
       "      <td>NaN</td>\n",
       "      <td>NaN</td>\n",
       "      <td>0.0</td>\n",
       "      <td>4.164952e+10</td>\n",
       "      <td>123418</td>\n",
       "    </tr>\n",
       "    <tr>\n",
       "      <th>20</th>\n",
       "      <td>0x7a5824bc7ef20a7390838f7febaa07bbbc9b4855fd23...</td>\n",
       "      <td>0xf6bbc05580b5348ef5ac601c6aa051d60659d9a6</td>\n",
       "      <td>0x00014f98a1b39e025e0efa3ff4bd1eda6676b6e8</td>\n",
       "      <td>1.01559e+17</td>\n",
       "      <td>1524395957</td>\n",
       "      <td>5485531</td>\n",
       "      <td>NaN</td>\n",
       "      <td>NaN</td>\n",
       "      <td>0.0</td>\n",
       "      <td>2.100000e+10</td>\n",
       "      <td>21000</td>\n",
       "    </tr>\n",
       "    <tr>\n",
       "      <th>21</th>\n",
       "      <td>0xfb11ca0e97d6e14a677919c461d900ec44855e24b65e...</td>\n",
       "      <td>0xe0293caf6c753aaad7bbc063ecddf8ed41e62eaf</td>\n",
       "      <td>0x00014f98a1b39e025e0efa3ff4bd1eda6676b6e8</td>\n",
       "      <td>2.999e+19</td>\n",
       "      <td>1525587441</td>\n",
       "      <td>5564721</td>\n",
       "      <td>NaN</td>\n",
       "      <td>NaN</td>\n",
       "      <td>0.0</td>\n",
       "      <td>4.000000e+09</td>\n",
       "      <td>21000</td>\n",
       "    </tr>\n",
       "    <tr>\n",
       "      <th>22</th>\n",
       "      <td>0x865d4689e236341243d5a6782c10fde1950e93b08128...</td>\n",
       "      <td>0x00014f98a1b39e025e0efa3ff4bd1eda6676b6e8</td>\n",
       "      <td>0x0d0707963952f2fba59dd06f2b425ace40b492fe</td>\n",
       "      <td>3.00915e+19</td>\n",
       "      <td>1525588654</td>\n",
       "      <td>5564799</td>\n",
       "      <td>NaN</td>\n",
       "      <td>NaN</td>\n",
       "      <td>0.0</td>\n",
       "      <td>2.000200e+09</td>\n",
       "      <td>21000</td>\n",
       "    </tr>\n",
       "    <tr>\n",
       "      <th>23</th>\n",
       "      <td>0x7c86b55754d69682fa73783789350e3967422680c3c2...</td>\n",
       "      <td>0xe0293caf6c753aaad7bbc063ecddf8ed41e62eaf</td>\n",
       "      <td>0x00014f98a1b39e025e0efa3ff4bd1eda6676b6e8</td>\n",
       "      <td>2.999e+19</td>\n",
       "      <td>1525680385</td>\n",
       "      <td>5570975</td>\n",
       "      <td>NaN</td>\n",
       "      <td>NaN</td>\n",
       "      <td>0.0</td>\n",
       "      <td>6.000000e+09</td>\n",
       "      <td>21000</td>\n",
       "    </tr>\n",
       "    <tr>\n",
       "      <th>...</th>\n",
       "      <td>...</td>\n",
       "      <td>...</td>\n",
       "      <td>...</td>\n",
       "      <td>...</td>\n",
       "      <td>...</td>\n",
       "      <td>...</td>\n",
       "      <td>...</td>\n",
       "      <td>...</td>\n",
       "      <td>...</td>\n",
       "      <td>...</td>\n",
       "      <td>...</td>\n",
       "    </tr>\n",
       "    <tr>\n",
       "      <th>2348162</th>\n",
       "      <td>0x34f6fb0208b4076bb34c4feda5e8e4af21a1b8b110d6...</td>\n",
       "      <td>0xe16b2bf30515f7bee66dcbeecd5ccd19873fb8d3</td>\n",
       "      <td>0xfff79f14c5f97ba93861ddcc6e4196c2cd6581c1</td>\n",
       "      <td>1.8154e+18</td>\n",
       "      <td>1589951923</td>\n",
       "      <td>10100908</td>\n",
       "      <td>NaN</td>\n",
       "      <td>NaN</td>\n",
       "      <td>0.0</td>\n",
       "      <td>3.000000e+10</td>\n",
       "      <td>33545</td>\n",
       "    </tr>\n",
       "    <tr>\n",
       "      <th>2348163</th>\n",
       "      <td>0x61eeca352e57a3eda7a14f74dd70a224fd65b356ac38...</td>\n",
       "      <td>0x111111119997a144ccff684afd89d62592cc9db2</td>\n",
       "      <td>0xfffc3432992643ad9767c548b8c855791f36653b</td>\n",
       "      <td>4e+17</td>\n",
       "      <td>1534285117</td>\n",
       "      <td>6148354</td>\n",
       "      <td>NaN</td>\n",
       "      <td>NaN</td>\n",
       "      <td>0.0</td>\n",
       "      <td>6.000000e+09</td>\n",
       "      <td>21000</td>\n",
       "    </tr>\n",
       "    <tr>\n",
       "      <th>2348164</th>\n",
       "      <td>0xafc32ee895ba9b3d7365cd3bcdb61290f6d05d98d394...</td>\n",
       "      <td>0xfffc3432992643ad9767c548b8c855791f36653b</td>\n",
       "      <td>0x0a75910bc14c3596a3d02f463a9f2c75d51cb625</td>\n",
       "      <td>3.99842e+17</td>\n",
       "      <td>1535317000</td>\n",
       "      <td>6219066</td>\n",
       "      <td>NaN</td>\n",
       "      <td>NaN</td>\n",
       "      <td>0.0</td>\n",
       "      <td>1.500000e+09</td>\n",
       "      <td>21000</td>\n",
       "    </tr>\n",
       "    <tr>\n",
       "      <th>2348165</th>\n",
       "      <td>0xbfb981f4c40d98aee946b7c549551eb89f28726f8328...</td>\n",
       "      <td>0xec6d3075f298059dba525e7cb1114dbdf8a8f842</td>\n",
       "      <td>0xfffc3432992643ad9767c548b8c855791f36653b</td>\n",
       "      <td>6.6e+16</td>\n",
       "      <td>1631195580</td>\n",
       "      <td>13191907</td>\n",
       "      <td>NaN</td>\n",
       "      <td>NaN</td>\n",
       "      <td>0.0</td>\n",
       "      <td>2.330677e+11</td>\n",
       "      <td>21000</td>\n",
       "    </tr>\n",
       "    <tr>\n",
       "      <th>2348179</th>\n",
       "      <td>0xed4db27d87c75a4044be83738ee195918d2adbeda596...</td>\n",
       "      <td>0xfffd9ad702cf2450b81a5c4339d3d8f45496feeb</td>\n",
       "      <td>0x300f42daa6f456eb893ff39268180c848679ebb1</td>\n",
       "      <td>3.64711e+16</td>\n",
       "      <td>1604799064</td>\n",
       "      <td>11213801</td>\n",
       "      <td>NaN</td>\n",
       "      <td>NaN</td>\n",
       "      <td>0.0</td>\n",
       "      <td>3.375000e+10</td>\n",
       "      <td>21000</td>\n",
       "    </tr>\n",
       "  </tbody>\n",
       "</table>\n",
       "<p>1342811 rows × 11 columns</p>\n",
       "</div>"
      ],
      "text/plain": [
       "                                                      hash  \\\n",
       "16       0xd2410b2886bd1e2fa46621fa7d37f44d16b2cadd80c2...   \n",
       "20       0x7a5824bc7ef20a7390838f7febaa07bbbc9b4855fd23...   \n",
       "21       0xfb11ca0e97d6e14a677919c461d900ec44855e24b65e...   \n",
       "22       0x865d4689e236341243d5a6782c10fde1950e93b08128...   \n",
       "23       0x7c86b55754d69682fa73783789350e3967422680c3c2...   \n",
       "...                                                    ...   \n",
       "2348162  0x34f6fb0208b4076bb34c4feda5e8e4af21a1b8b110d6...   \n",
       "2348163  0x61eeca352e57a3eda7a14f74dd70a224fd65b356ac38...   \n",
       "2348164  0xafc32ee895ba9b3d7365cd3bcdb61290f6d05d98d394...   \n",
       "2348165  0xbfb981f4c40d98aee946b7c549551eb89f28726f8328...   \n",
       "2348179  0xed4db27d87c75a4044be83738ee195918d2adbeda596...   \n",
       "\n",
       "                                               from  \\\n",
       "16       0x00000b20f0f6a3a212aa6b85106709cd5941457c   \n",
       "20       0xf6bbc05580b5348ef5ac601c6aa051d60659d9a6   \n",
       "21       0xe0293caf6c753aaad7bbc063ecddf8ed41e62eaf   \n",
       "22       0x00014f98a1b39e025e0efa3ff4bd1eda6676b6e8   \n",
       "23       0xe0293caf6c753aaad7bbc063ecddf8ed41e62eaf   \n",
       "...                                             ...   \n",
       "2348162  0xe16b2bf30515f7bee66dcbeecd5ccd19873fb8d3   \n",
       "2348163  0x111111119997a144ccff684afd89d62592cc9db2   \n",
       "2348164  0xfffc3432992643ad9767c548b8c855791f36653b   \n",
       "2348165  0xec6d3075f298059dba525e7cb1114dbdf8a8f842   \n",
       "2348179  0xfffd9ad702cf2450b81a5c4339d3d8f45496feeb   \n",
       "\n",
       "                                                 to        value   timeStamp  \\\n",
       "16       0x960fd5cfa6c36e9db131824ddf07df6322a053de        1e+17  1651826446   \n",
       "20       0x00014f98a1b39e025e0efa3ff4bd1eda6676b6e8  1.01559e+17  1524395957   \n",
       "21       0x00014f98a1b39e025e0efa3ff4bd1eda6676b6e8    2.999e+19  1525587441   \n",
       "22       0x0d0707963952f2fba59dd06f2b425ace40b492fe  3.00915e+19  1525588654   \n",
       "23       0x00014f98a1b39e025e0efa3ff4bd1eda6676b6e8    2.999e+19  1525680385   \n",
       "...                                             ...          ...         ...   \n",
       "2348162  0xfff79f14c5f97ba93861ddcc6e4196c2cd6581c1   1.8154e+18  1589951923   \n",
       "2348163  0xfffc3432992643ad9767c548b8c855791f36653b        4e+17  1534285117   \n",
       "2348164  0x0a75910bc14c3596a3d02f463a9f2c75d51cb625  3.99842e+17  1535317000   \n",
       "2348165  0xfffc3432992643ad9767c548b8c855791f36653b      6.6e+16  1631195580   \n",
       "2348179  0x300f42daa6f456eb893ff39268180c848679ebb1  3.64711e+16  1604799064   \n",
       "\n",
       "         blockNumber tokenSymbol contractAddress  isError      gasPrice  \\\n",
       "16          14722541         NaN             NaN      0.0  4.164952e+10   \n",
       "20           5485531         NaN             NaN      0.0  2.100000e+10   \n",
       "21           5564721         NaN             NaN      0.0  4.000000e+09   \n",
       "22           5564799         NaN             NaN      0.0  2.000200e+09   \n",
       "23           5570975         NaN             NaN      0.0  6.000000e+09   \n",
       "...              ...         ...             ...      ...           ...   \n",
       "2348162     10100908         NaN             NaN      0.0  3.000000e+10   \n",
       "2348163      6148354         NaN             NaN      0.0  6.000000e+09   \n",
       "2348164      6219066         NaN             NaN      0.0  1.500000e+09   \n",
       "2348165     13191907         NaN             NaN      0.0  2.330677e+11   \n",
       "2348179     11213801         NaN             NaN      0.0  3.375000e+10   \n",
       "\n",
       "         gasUsed  \n",
       "16        123418  \n",
       "20         21000  \n",
       "21         21000  \n",
       "22         21000  \n",
       "23         21000  \n",
       "...          ...  \n",
       "2348162    33545  \n",
       "2348163    21000  \n",
       "2348164    21000  \n",
       "2348165    21000  \n",
       "2348179    21000  \n",
       "\n",
       "[1342811 rows x 11 columns]"
      ]
     },
     "execution_count": 14,
     "metadata": {},
     "output_type": "execute_result"
    }
   ],
   "source": [
    "all_ETH_tx"
   ]
  },
  {
   "cell_type": "code",
   "execution_count": 4,
   "metadata": {},
   "outputs": [
    {
     "data": {
      "text/plain": [
       "1627861"
      ]
     },
     "execution_count": 4,
     "metadata": {},
     "output_type": "execute_result"
    }
   ],
   "source": [
    "len(all_ETH_tx)"
   ]
  },
  {
   "cell_type": "code",
   "execution_count": 5,
   "metadata": {},
   "outputs": [
    {
     "data": {
      "text/plain": [
       "5.534026106056135"
      ]
     },
     "execution_count": 5,
     "metadata": {},
     "output_type": "execute_result"
    }
   ],
   "source": [
    "import math\n",
    "math.log10(max(list(all_ETH_tx['value'].astype(float)))/1e+18)"
   ]
  },
  {
   "cell_type": "code",
   "execution_count": 6,
   "metadata": {},
   "outputs": [],
   "source": [
    "input_csv = pd.read_csv(input_path)"
   ]
  },
  {
   "cell_type": "code",
   "execution_count": 7,
   "metadata": {},
   "outputs": [
    {
     "data": {
      "text/html": [
       "<div>\n",
       "<style scoped>\n",
       "    .dataframe tbody tr th:only-of-type {\n",
       "        vertical-align: middle;\n",
       "    }\n",
       "\n",
       "    .dataframe tbody tr th {\n",
       "        vertical-align: top;\n",
       "    }\n",
       "\n",
       "    .dataframe thead th {\n",
       "        text-align: right;\n",
       "    }\n",
       "</style>\n",
       "<table border=\"1\" class=\"dataframe\">\n",
       "  <thead>\n",
       "    <tr style=\"text-align: right;\">\n",
       "      <th></th>\n",
       "      <th>Tx_value</th>\n",
       "      <th>Num</th>\n",
       "      <th>Percent</th>\n",
       "    </tr>\n",
       "  </thead>\n",
       "  <tbody>\n",
       "    <tr>\n",
       "      <th>0</th>\n",
       "      <td>0</td>\n",
       "      <td>NaN</td>\n",
       "      <td>NaN</td>\n",
       "    </tr>\n",
       "    <tr>\n",
       "      <th>1</th>\n",
       "      <td>1</td>\n",
       "      <td>NaN</td>\n",
       "      <td>NaN</td>\n",
       "    </tr>\n",
       "    <tr>\n",
       "      <th>2</th>\n",
       "      <td>2</td>\n",
       "      <td>NaN</td>\n",
       "      <td>NaN</td>\n",
       "    </tr>\n",
       "    <tr>\n",
       "      <th>3</th>\n",
       "      <td>3</td>\n",
       "      <td>NaN</td>\n",
       "      <td>NaN</td>\n",
       "    </tr>\n",
       "    <tr>\n",
       "      <th>4</th>\n",
       "      <td>4</td>\n",
       "      <td>NaN</td>\n",
       "      <td>NaN</td>\n",
       "    </tr>\n",
       "    <tr>\n",
       "      <th>5</th>\n",
       "      <td>5</td>\n",
       "      <td>NaN</td>\n",
       "      <td>NaN</td>\n",
       "    </tr>\n",
       "    <tr>\n",
       "      <th>6</th>\n",
       "      <td>6</td>\n",
       "      <td>NaN</td>\n",
       "      <td>NaN</td>\n",
       "    </tr>\n",
       "  </tbody>\n",
       "</table>\n",
       "</div>"
      ],
      "text/plain": [
       "   Tx_value  Num  Percent\n",
       "0         0  NaN      NaN\n",
       "1         1  NaN      NaN\n",
       "2         2  NaN      NaN\n",
       "3         3  NaN      NaN\n",
       "4         4  NaN      NaN\n",
       "5         5  NaN      NaN\n",
       "6         6  NaN      NaN"
      ]
     },
     "execution_count": 7,
     "metadata": {},
     "output_type": "execute_result"
    }
   ],
   "source": [
    "input_csv"
   ]
  },
  {
   "cell_type": "code",
   "execution_count": 13,
   "metadata": {},
   "outputs": [],
   "source": [
    "#Step3：统计交易金额所在范围的数量\n",
    "import warnings\n",
    "warnings.filterwarnings(\"ignore\")\n",
    "tmp=len(all_ETH_tx.loc[(all_ETH_tx['value'].astype(float)/1e+18<1)])\n",
    "input_csv['Num'][0]=tmp                  \n",
    "for i in range(1,len(input_csv['Tx_value'])):\n",
    "    Tx_value_range=input_csv['Tx_value']\n",
    "#     print(int(Tx_value_range[i]))\n",
    "    min_value=10**(Tx_value_range[i].astype(float)-1)\n",
    "    max_value=10**(Tx_value_range[i].astype(float))\n",
    "#     print(min_value)\n",
    "#     print(max_value)\n",
    "    tmp=len(all_ETH_tx.loc[(all_ETH_tx['value'].astype(float)/1e+18>=min_value)& (all_ETH_tx['value'].astype(float)/1e+18<max_value)])\n",
    "    #print(tmp)\n",
    "    input_csv['Num'][i]=tmp\n",
    "#     break"
   ]
  },
  {
   "cell_type": "code",
   "execution_count": 16,
   "metadata": {},
   "outputs": [],
   "source": [
    "input_csv['Percent']=input_csv['Num']/sum(input_csv['Num'])"
   ]
  },
  {
   "cell_type": "code",
   "execution_count": 17,
   "metadata": {},
   "outputs": [
    {
     "data": {
      "text/html": [
       "<div>\n",
       "<style scoped>\n",
       "    .dataframe tbody tr th:only-of-type {\n",
       "        vertical-align: middle;\n",
       "    }\n",
       "\n",
       "    .dataframe tbody tr th {\n",
       "        vertical-align: top;\n",
       "    }\n",
       "\n",
       "    .dataframe thead th {\n",
       "        text-align: right;\n",
       "    }\n",
       "</style>\n",
       "<table border=\"1\" class=\"dataframe\">\n",
       "  <thead>\n",
       "    <tr style=\"text-align: right;\">\n",
       "      <th></th>\n",
       "      <th>Tx_value</th>\n",
       "      <th>Num</th>\n",
       "      <th>Percent</th>\n",
       "    </tr>\n",
       "  </thead>\n",
       "  <tbody>\n",
       "    <tr>\n",
       "      <th>0</th>\n",
       "      <td>0</td>\n",
       "      <td>1124740.0</td>\n",
       "      <td>0.690931</td>\n",
       "    </tr>\n",
       "    <tr>\n",
       "      <th>1</th>\n",
       "      <td>1</td>\n",
       "      <td>349718.0</td>\n",
       "      <td>0.214833</td>\n",
       "    </tr>\n",
       "    <tr>\n",
       "      <th>2</th>\n",
       "      <td>2</td>\n",
       "      <td>134040.0</td>\n",
       "      <td>0.082341</td>\n",
       "    </tr>\n",
       "    <tr>\n",
       "      <th>3</th>\n",
       "      <td>3</td>\n",
       "      <td>17591.0</td>\n",
       "      <td>0.010806</td>\n",
       "    </tr>\n",
       "    <tr>\n",
       "      <th>4</th>\n",
       "      <td>4</td>\n",
       "      <td>1676.0</td>\n",
       "      <td>0.001030</td>\n",
       "    </tr>\n",
       "    <tr>\n",
       "      <th>5</th>\n",
       "      <td>5</td>\n",
       "      <td>94.0</td>\n",
       "      <td>0.000058</td>\n",
       "    </tr>\n",
       "    <tr>\n",
       "      <th>6</th>\n",
       "      <td>6</td>\n",
       "      <td>2.0</td>\n",
       "      <td>0.000001</td>\n",
       "    </tr>\n",
       "  </tbody>\n",
       "</table>\n",
       "</div>"
      ],
      "text/plain": [
       "   Tx_value        Num   Percent\n",
       "0         0  1124740.0  0.690931\n",
       "1         1   349718.0  0.214833\n",
       "2         2   134040.0  0.082341\n",
       "3         3    17591.0  0.010806\n",
       "4         4     1676.0  0.001030\n",
       "5         5       94.0  0.000058\n",
       "6         6        2.0  0.000001"
      ]
     },
     "execution_count": 17,
     "metadata": {},
     "output_type": "execute_result"
    }
   ],
   "source": [
    "input_csv"
   ]
  },
  {
   "cell_type": "code",
   "execution_count": 18,
   "metadata": {},
   "outputs": [
    {
     "data": {
      "text/plain": [
       "1.0"
      ]
     },
     "execution_count": 18,
     "metadata": {},
     "output_type": "execute_result"
    }
   ],
   "source": [
    "sum(input_csv['Percent'])"
   ]
  }
 ],
 "metadata": {
  "kernelspec": {
   "display_name": "Python 3",
   "language": "python",
   "name": "python3"
  },
  "language_info": {
   "codemirror_mode": {
    "name": "ipython",
    "version": 3
   },
   "file_extension": ".py",
   "mimetype": "text/x-python",
   "name": "python",
   "nbconvert_exporter": "python",
   "pygments_lexer": "ipython3",
   "version": "3.8.5"
  }
 },
 "nbformat": 4,
 "nbformat_minor": 4
}
