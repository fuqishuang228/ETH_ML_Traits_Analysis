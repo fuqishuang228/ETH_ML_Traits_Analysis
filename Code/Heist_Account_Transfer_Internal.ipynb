{
 "cells": [
  {
   "cell_type": "code",
   "execution_count": 1,
   "metadata": {},
   "outputs": [],
   "source": [
    "import pandas as pd\n",
    "import numpy as np\n",
    "import os\n",
    "import csv"
   ]
  },
  {
   "cell_type": "code",
   "execution_count": 2,
   "metadata": {},
   "outputs": [],
   "source": [
    "#Event='AscendEx'\n",
    "Event='Upbit'\n",
    "raw_path='../Dataset/'+Event+'/all_data_token/'\n",
    "address_path='../Dataset/'+Event+'/dataset/'"
   ]
  },
  {
   "cell_type": "code",
   "execution_count": 3,
   "metadata": {},
   "outputs": [],
   "source": [
    "with open('../Code_Results/Tx_Velocity_Results/'+Event+'_Tx_Internal.csv','w') as f:\n",
    "\n",
    "    csv_write = csv.writer(f)\n",
    "    csv_head = [\"address\",\"Tx_Velocity\"]\n",
    "    csv_write.writerow(csv_head)\n",
    "\n",
    "output = pd.read_csv('../Code_Results/Tx_Velocity_Results/'+Event+'_Tx_Internal.csv')"
   ]
  },
  {
   "cell_type": "code",
   "execution_count": 4,
   "metadata": {},
   "outputs": [],
   "source": [
    "#Step1：筛选出之发生了ETH交易的洗钱账户（source+layering）\n",
    "#方法2：all_erc20_address和all_normal_address的交集，再用all_normal_address减掉交集\n",
    "all_address=pd.read_csv(address_path+\"all-address.csv\")\n",
    "all_erc20_address=pd.read_csv(address_path+\"all-erc20-address.csv\")\n",
    "all_normal_address=pd.read_csv(address_path+\"all-normal-address.csv\")\n",
    "address=all_address['address']\n",
    "erc20_address=all_erc20_address['address']\n",
    "normal_address=all_normal_address['address']\n",
    "ETH_address=set(address)-set(erc20_address)\n",
    "temp=set(erc20_address)&set(normal_address)\n",
    "ETH_address=list(set(normal_address)-temp)\n",
    "#再筛选出来label是heist的账户\n",
    "all_ETH_address=all_normal_address[all_normal_address['address'].isin(ETH_address)]\n",
    "# ETH_heist_address=list(all_ETH_address.loc[(all_ETH_address['label']=='heist')&(all_ETH_address['name_tag']!='ml_transit_9')]['address'])\n",
    "ETH_heist_address=list(all_ETH_address.loc[(all_ETH_address['label']=='heist')&(all_ETH_address['name_tag']!='ml_transit_0')]['address'])"
   ]
  },
  {
   "cell_type": "code",
   "execution_count": 5,
   "metadata": {},
   "outputs": [],
   "source": [
    "output['address']=ETH_heist_address"
   ]
  },
  {
   "cell_type": "code",
   "execution_count": 6,
   "metadata": {},
   "outputs": [
    {
     "name": "stderr",
     "output_type": "stream",
     "text": [
      "<ipython-input-6-11bd2c37dd0a>:4: SettingWithCopyWarning: \n",
      "A value is trying to be set on a copy of a slice from a DataFrame\n",
      "\n",
      "See the caveats in the documentation: https://pandas.pydata.org/pandas-docs/stable/user_guide/indexing.html#returning-a-view-versus-a-copy\n",
      "  ETH_tx.sort_values(by=\"timeStamp\" , inplace=True, ascending=True) #按照交易时间升序排序\n"
     ]
    }
   ],
   "source": [
    "#Step2：筛选出ETH账户的交易\n",
    "all_normal_tx=pd.read_csv(address_path+\"all-normal-tx.csv\")\n",
    "ETH_tx=all_normal_tx[all_normal_tx['from'].isin(list(ETH_heist_address)) | all_normal_tx['to'].isin(list(ETH_heist_address))]\n",
    "ETH_tx.sort_values(by=\"timeStamp\" , inplace=True, ascending=True) #按照交易时间升序排序"
   ]
  },
  {
   "cell_type": "code",
   "execution_count": 52,
   "metadata": {},
   "outputs": [],
   "source": [
    "#ETH_heist_address=['0xe7ef8592e64df04891e1e3bbf3013970b5a54f43']"
   ]
  },
  {
   "cell_type": "code",
   "execution_count": 7,
   "metadata": {},
   "outputs": [
    {
     "name": "stdout",
     "output_type": "stream",
     "text": [
      "9967/9968\r"
     ]
    }
   ],
   "source": [
    "#Step3：统计每个账户的交易速度平均值\n",
    "import math\n",
    "for i in range(0,len(ETH_heist_address)):\n",
    "\n",
    "    Del_T=[]\n",
    "    print('%d/%d'%(i,len(ETH_heist_address)),end=\"\\r\")\n",
    "#     record=ETH_tx.loc[ETH_tx[\"isError\"]!=1]\n",
    "    record=ETH_tx\n",
    "    Ac=ETH_heist_address[i]\n",
    "    Ac_Tx=record.loc[(record['from']==Ac)|(record['to']==Ac)]\n",
    "    for j in range(0,len(Ac_Tx)-1):\n",
    "        Tx=Ac_Tx.iloc[j]\n",
    "        if Tx['from']==Ac:\n",
    "            Next_Tx=Ac_Tx.iloc[j+1]\n",
    "            if Next_Tx['to']==Ac:\n",
    "                if Next_Tx['timeStamp']-Tx['timeStamp']<604800:\n",
    "                    Del_T.append(Next_Tx['timeStamp']-Tx['timeStamp'])\n",
    "        if Tx['to']==Ac:\n",
    "            Next_Tx=Ac_Tx.iloc[j+1]\n",
    "            if Next_Tx['from']==Ac:\n",
    "                if Next_Tx['timeStamp']-Tx['timeStamp']<604800:\n",
    "                    Del_T.append(Next_Tx['timeStamp']-Tx['timeStamp'])\n",
    "    if len(Del_T) !=0:\n",
    "        Avg_Internal=sum(Del_T)/len(Del_T)\n",
    "        output['Tx_Velocity'][i]=Avg_Internal  \n",
    "    if len(Del_T) ==0:\n",
    "        output['Tx_Velocity'][i]=0"
   ]
  },
  {
   "cell_type": "code",
   "execution_count": 10,
   "metadata": {},
   "outputs": [
    {
     "data": {
      "text/html": [
       "<div>\n",
       "<style scoped>\n",
       "    .dataframe tbody tr th:only-of-type {\n",
       "        vertical-align: middle;\n",
       "    }\n",
       "\n",
       "    .dataframe tbody tr th {\n",
       "        vertical-align: top;\n",
       "    }\n",
       "\n",
       "    .dataframe thead th {\n",
       "        text-align: right;\n",
       "    }\n",
       "</style>\n",
       "<table border=\"1\" class=\"dataframe\">\n",
       "  <thead>\n",
       "    <tr style=\"text-align: right;\">\n",
       "      <th></th>\n",
       "      <th>address</th>\n",
       "      <th>Tx_Velocity</th>\n",
       "    </tr>\n",
       "  </thead>\n",
       "  <tbody>\n",
       "    <tr>\n",
       "      <th>0</th>\n",
       "      <td>0xe7ef8592e64df04891e1e3bbf3013970b5a54f43</td>\n",
       "      <td>0.196162</td>\n",
       "    </tr>\n",
       "    <tr>\n",
       "      <th>1</th>\n",
       "      <td>0x7916ed1b5accf672e277fc06b1538a21a30bfbee</td>\n",
       "      <td>3.44127</td>\n",
       "    </tr>\n",
       "    <tr>\n",
       "      <th>2</th>\n",
       "      <td>0x170dedd533c37facd60ee18b51d7bcde274a0d1f</td>\n",
       "      <td>5.14657</td>\n",
       "    </tr>\n",
       "    <tr>\n",
       "      <th>3</th>\n",
       "      <td>0x16ffc8a17b60398e4fcdc8c111e56373a60d8db1</td>\n",
       "      <td>58.4016</td>\n",
       "    </tr>\n",
       "    <tr>\n",
       "      <th>4</th>\n",
       "      <td>0x6c134879dab2103aa5b55e90a16eaf96d0f31a2c</td>\n",
       "      <td>6.01158</td>\n",
       "    </tr>\n",
       "    <tr>\n",
       "      <th>...</th>\n",
       "      <td>...</td>\n",
       "      <td>...</td>\n",
       "    </tr>\n",
       "    <tr>\n",
       "      <th>9963</th>\n",
       "      <td>0x466f1a5791fb1c56e8fe45b834d8292a5bb02012</td>\n",
       "      <td>0</td>\n",
       "    </tr>\n",
       "    <tr>\n",
       "      <th>9964</th>\n",
       "      <td>0x79078fb3922d85fa6c6c84decdc525c2f400c0bd</td>\n",
       "      <td>0</td>\n",
       "    </tr>\n",
       "    <tr>\n",
       "      <th>9965</th>\n",
       "      <td>0xfe5dc2deb44a49e74e0a1dc8ae5b38feedeaf27d</td>\n",
       "      <td>0</td>\n",
       "    </tr>\n",
       "    <tr>\n",
       "      <th>9966</th>\n",
       "      <td>0x94fcaae0ad1f517dd99c02af8f2627495315b55c</td>\n",
       "      <td>0</td>\n",
       "    </tr>\n",
       "    <tr>\n",
       "      <th>9967</th>\n",
       "      <td>0x15110a3bc9aee71ad95988a2be70f6f414bf1eec</td>\n",
       "      <td>0</td>\n",
       "    </tr>\n",
       "  </tbody>\n",
       "</table>\n",
       "<p>9968 rows × 2 columns</p>\n",
       "</div>"
      ],
      "text/plain": [
       "                                         address Tx_Velocity\n",
       "0     0xe7ef8592e64df04891e1e3bbf3013970b5a54f43    0.196162\n",
       "1     0x7916ed1b5accf672e277fc06b1538a21a30bfbee     3.44127\n",
       "2     0x170dedd533c37facd60ee18b51d7bcde274a0d1f     5.14657\n",
       "3     0x16ffc8a17b60398e4fcdc8c111e56373a60d8db1     58.4016\n",
       "4     0x6c134879dab2103aa5b55e90a16eaf96d0f31a2c     6.01158\n",
       "...                                          ...         ...\n",
       "9963  0x466f1a5791fb1c56e8fe45b834d8292a5bb02012           0\n",
       "9964  0x79078fb3922d85fa6c6c84decdc525c2f400c0bd           0\n",
       "9965  0xfe5dc2deb44a49e74e0a1dc8ae5b38feedeaf27d           0\n",
       "9966  0x94fcaae0ad1f517dd99c02af8f2627495315b55c           0\n",
       "9967  0x15110a3bc9aee71ad95988a2be70f6f414bf1eec           0\n",
       "\n",
       "[9968 rows x 2 columns]"
      ]
     },
     "execution_count": 10,
     "metadata": {},
     "output_type": "execute_result"
    }
   ],
   "source": [
    "output"
   ]
  },
  {
   "cell_type": "code",
   "execution_count": 9,
   "metadata": {},
   "outputs": [],
   "source": [
    "output['Tx_Velocity']=output['Tx_Velocity']/(60*60)#交易的间隔为小时"
   ]
  },
  {
   "cell_type": "code",
   "execution_count": 11,
   "metadata": {},
   "outputs": [],
   "source": [
    "output=output.loc[output['Tx_Velocity']!=0]\n",
    "output.to_csv('../Code_Results/Tx_Velocity_Results/'+Event+'_Tx_Internal.csv', index=False)"
   ]
  },
  {
   "cell_type": "code",
   "execution_count": 73,
   "metadata": {},
   "outputs": [
    {
     "data": {
      "text/plain": [
       "5.669499545647756"
      ]
     },
     "execution_count": 73,
     "metadata": {},
     "output_type": "execute_result"
    }
   ],
   "source": [
    "output['Tx_Velocity'].mean()                                                        "
   ]
  },
  {
   "cell_type": "code",
   "execution_count": 74,
   "metadata": {},
   "outputs": [
    {
     "data": {
      "text/plain": [
       "166.64499999999998"
      ]
     },
     "execution_count": 74,
     "metadata": {},
     "output_type": "execute_result"
    }
   ],
   "source": [
    "max(output['Tx_Velocity'])"
   ]
  },
  {
   "cell_type": "code",
   "execution_count": 75,
   "metadata": {},
   "outputs": [
    {
     "data": {
      "text/plain": [
       "9.25925925925926e-05"
      ]
     },
     "execution_count": 75,
     "metadata": {},
     "output_type": "execute_result"
    }
   ],
   "source": [
    "min(output['Tx_Velocity'])"
   ]
  },
  {
   "cell_type": "code",
   "execution_count": 76,
   "metadata": {},
   "outputs": [
    {
     "data": {
      "text/plain": [
       "0.003333333333333333"
      ]
     },
     "execution_count": 76,
     "metadata": {},
     "output_type": "execute_result"
    }
   ],
   "source": [
    "output['Tx_Velocity'].mode()[0]"
   ]
  },
  {
   "cell_type": "code",
   "execution_count": 78,
   "metadata": {},
   "outputs": [
    {
     "data": {
      "text/plain": [
       "0.09555555555555556"
      ]
     },
     "execution_count": 78,
     "metadata": {},
     "output_type": "execute_result"
    }
   ],
   "source": [
    "output['Tx_Velocity'].median()"
   ]
  },
  {
   "cell_type": "code",
   "execution_count": null,
   "metadata": {},
   "outputs": [],
   "source": []
  }
 ],
 "metadata": {
  "kernelspec": {
   "display_name": "Python 3 (ipykernel)",
   "language": "python",
   "name": "python3"
  },
  "language_info": {
   "codemirror_mode": {
    "name": "ipython",
    "version": 3
   },
   "file_extension": ".py",
   "mimetype": "text/x-python",
   "name": "python",
   "nbconvert_exporter": "python",
   "pygments_lexer": "ipython3",
   "version": "3.7.11"
  }
 },
 "nbformat": 4,
 "nbformat_minor": 4
}
