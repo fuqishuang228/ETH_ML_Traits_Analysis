{
 "cells": [
  {
   "cell_type": "code",
   "execution_count": 1,
   "metadata": {},
   "outputs": [],
   "source": [
    "import pandas as pd\n",
    "import numpy as np\n",
    "import os\n",
    "import csv"
   ]
  },
  {
   "cell_type": "code",
   "execution_count": 2,
   "metadata": {},
   "outputs": [],
   "source": [
    "#Event='AscendEx'\n",
    "Event='Upbit'\n",
    "raw_path='../Dataset/'+Event+'/all_data_token/'\n",
    "address_path='../Dataset/'+Event+'/dataset/'"
   ]
  },
  {
   "cell_type": "code",
   "execution_count": 3,
   "metadata": {},
   "outputs": [],
   "source": [
    "with open('../Code_Results/Tx_Velocity_Results/'+Event+'_Tx_Velocity.csv','w') as f:\n",
    "\n",
    "    csv_write = csv.writer(f)\n",
    "    csv_head = [\"address\",\"LifeTime\",\"Tx_Num\",\"Tx_Velocity\"]\n",
    "    csv_write.writerow(csv_head)\n",
    "\n",
    "output = pd.read_csv('../Code_Results/Tx_Velocity_Results/'+Event+'_Tx_Velocity.csv')"
   ]
  },
  {
   "cell_type": "code",
   "execution_count": 4,
   "metadata": {},
   "outputs": [],
   "source": [
    "#Step1：筛选出之发生了ETH交易的洗钱账户（source+layering）\n",
    "#方法2：all_erc20_address和all_normal_address的交集，再用all_normal_address减掉交集\n",
    "all_address=pd.read_csv(address_path+\"all-address.csv\")\n",
    "all_erc20_address=pd.read_csv(address_path+\"all-erc20-address.csv\")\n",
    "all_normal_address=pd.read_csv(address_path+\"all-normal-address.csv\")\n",
    "address=all_address['address']\n",
    "erc20_address=all_erc20_address['address']\n",
    "normal_address=all_normal_address['address']\n",
    "ETH_address=set(address)-set(erc20_address)\n",
    "temp=set(erc20_address)&set(normal_address)\n",
    "ETH_address=list(set(normal_address)-temp)\n",
    "#再筛选出来label是heist的账户\n",
    "all_ETH_address=all_normal_address[all_normal_address['address'].isin(ETH_address)]\n",
    "# ETH_heist_address=list(all_ETH_address.loc[(all_ETH_address['label']=='heist')&(all_ETH_address['name_tag']!='ml_transit_9')]['address'])\n",
    "ETH_heist_address=list(all_ETH_address.loc[(all_ETH_address['label']=='heist')]['address'])"
   ]
  },
  {
   "cell_type": "code",
   "execution_count": 5,
   "metadata": {},
   "outputs": [],
   "source": [
    "output['address']=ETH_heist_address"
   ]
  },
  {
   "cell_type": "code",
   "execution_count": 6,
   "metadata": {},
   "outputs": [],
   "source": [
    "#Step2：筛选出ETH账户的交易\n",
    "all_normal_tx=pd.read_csv(address_path+\"all-normal-tx.csv\")\n",
    "ETH_tx=all_normal_tx[all_normal_tx['from'].isin(list(ETH_heist_address)) | all_normal_tx['to'].isin(list(ETH_heist_address))]"
   ]
  },
  {
   "cell_type": "code",
   "execution_count": 16,
   "metadata": {},
   "outputs": [],
   "source": [
    "#ETH_heist_address=['0xe7ef8592e64df04891e1e3bbf3013970b5a54f43']"
   ]
  },
  {
   "cell_type": "code",
   "execution_count": 25,
   "metadata": {},
   "outputs": [
    {
     "name": "stdout",
     "output_type": "stream",
     "text": [
      "0/9968\r",
      "1/9968\r",
      "2/9968\r",
      "3/9968\r",
      "4/9968\r",
      "5/9968\r",
      "6/9968\r",
      "7/9968\r",
      "8/9968\r",
      "9/9968\r",
      "10/9968\r",
      "11/9968"
     ]
    },
    {
     "name": "stderr",
     "output_type": "stream",
     "text": [
      "D:\\ProgramData\\Anaconda3\\lib\\site-packages\\IPython\\core\\interactiveshell.py:3418: SettingWithCopyWarning: \n",
      "A value is trying to be set on a copy of a slice from a DataFrame\n",
      "\n",
      "See the caveats in the documentation: https://pandas.pydata.org/pandas-docs/stable/user_guide/indexing.html#returning-a-view-versus-a-copy\n",
      "  exec(code_obj, self.user_global_ns, self.user_ns)\n"
     ]
    },
    {
     "name": "stdout",
     "output_type": "stream",
     "text": [
      "5724/9968"
     ]
    },
    {
     "name": "stderr",
     "output_type": "stream",
     "text": [
      "D:\\ProgramData\\Anaconda3\\lib\\site-packages\\pandas\\core\\indexing.py:670: SettingWithCopyWarning: \n",
      "A value is trying to be set on a copy of a slice from a DataFrame\n",
      "\n",
      "See the caveats in the documentation: https://pandas.pydata.org/pandas-docs/stable/user_guide/indexing.html#returning-a-view-versus-a-copy\n",
      "  iloc._setitem_with_indexer(indexer, value)\n"
     ]
    },
    {
     "name": "stdout",
     "output_type": "stream",
     "text": [
      "9967/9968\r"
     ]
    }
   ],
   "source": [
    "#Step3：统计每个账户的交易速度\n",
    "for i in range(0,len(ETH_heist_address)):\n",
    "    print('%d/%d'%(i,len(ETH_heist_address)),end=\"\\r\")\n",
    "    #record=ETH_tx.loc[ETH_tx[\"isError\"]!=1]\n",
    "    record=ETH_tx\n",
    "    Ac=ETH_heist_address[i]\n",
    "    Ac_Tx=record.loc[(record['from']==Ac)|(record['to']==Ac)]\n",
    "    Tx_Num=len(Ac_Tx)\n",
    "    #统计交易的时间范围\n",
    "    timestamp=Ac_Tx['timeStamp']\n",
    "    min_T=min(timestamp)\n",
    "    max_T=max(timestamp)\n",
    "    Del_T=max_T-min_T\n",
    "    if Del_T !=0:\n",
    "        Ac_Velocity=Tx_Num/Del_T*60*60#转为小时\n",
    "    else:\n",
    "        Ac_Velocity=0\n",
    "    output[\"LifeTime\"][i]=Del_T\n",
    "    output[\"Tx_Num\"][i]=Tx_Num\n",
    "    output[\"Tx_Velocity\"][i]=Ac_Velocity\n",
    "    "
   ]
  },
  {
   "cell_type": "code",
   "execution_count": 20,
   "metadata": {},
   "outputs": [],
   "source": [
    "output=output.loc[output['Tx_Velocity']!=0]"
   ]
  },
  {
   "cell_type": "code",
   "execution_count": 26,
   "metadata": {},
   "outputs": [
    {
     "data": {
      "text/html": [
       "<div>\n",
       "<style scoped>\n",
       "    .dataframe tbody tr th:only-of-type {\n",
       "        vertical-align: middle;\n",
       "    }\n",
       "\n",
       "    .dataframe tbody tr th {\n",
       "        vertical-align: top;\n",
       "    }\n",
       "\n",
       "    .dataframe thead th {\n",
       "        text-align: right;\n",
       "    }\n",
       "</style>\n",
       "<table border=\"1\" class=\"dataframe\">\n",
       "  <thead>\n",
       "    <tr style=\"text-align: right;\">\n",
       "      <th></th>\n",
       "      <th>address</th>\n",
       "      <th>LifeTime</th>\n",
       "      <th>Tx_Num</th>\n",
       "      <th>Tx_Velocity</th>\n",
       "    </tr>\n",
       "  </thead>\n",
       "  <tbody>\n",
       "    <tr>\n",
       "      <th>0</th>\n",
       "      <td>0xe7ef8592e64df04891e1e3bbf3013970b5a54f43</td>\n",
       "      <td>142920101</td>\n",
       "      <td>17</td>\n",
       "      <td>0.000428211</td>\n",
       "    </tr>\n",
       "    <tr>\n",
       "      <th>1</th>\n",
       "      <td>0x7916ed1b5accf672e277fc06b1538a21a30bfbee</td>\n",
       "      <td>178940570</td>\n",
       "      <td>70</td>\n",
       "      <td>0.00140829</td>\n",
       "    </tr>\n",
       "    <tr>\n",
       "      <th>2</th>\n",
       "      <td>0x170dedd533c37facd60ee18b51d7bcde274a0d1f</td>\n",
       "      <td>172966195</td>\n",
       "      <td>70</td>\n",
       "      <td>0.00145693</td>\n",
       "    </tr>\n",
       "    <tr>\n",
       "      <th>3</th>\n",
       "      <td>0x16ffc8a17b60398e4fcdc8c111e56373a60d8db1</td>\n",
       "      <td>126864707</td>\n",
       "      <td>171</td>\n",
       "      <td>0.00485241</td>\n",
       "    </tr>\n",
       "    <tr>\n",
       "      <th>4</th>\n",
       "      <td>0x6c134879dab2103aa5b55e90a16eaf96d0f31a2c</td>\n",
       "      <td>170261896</td>\n",
       "      <td>43</td>\n",
       "      <td>0.000909188</td>\n",
       "    </tr>\n",
       "    <tr>\n",
       "      <th>...</th>\n",
       "      <td>...</td>\n",
       "      <td>...</td>\n",
       "      <td>...</td>\n",
       "      <td>...</td>\n",
       "    </tr>\n",
       "    <tr>\n",
       "      <th>9957</th>\n",
       "      <td>0x4b0a5cef6a7b3289fc32ac1699a83edf45b22d0f</td>\n",
       "      <td>3548</td>\n",
       "      <td>3</td>\n",
       "      <td>3.04397</td>\n",
       "    </tr>\n",
       "    <tr>\n",
       "      <th>9958</th>\n",
       "      <td>0xa071a38b718502934bf99f2386fe3e3a1c4799fb</td>\n",
       "      <td>11451081</td>\n",
       "      <td>2</td>\n",
       "      <td>0.000628762</td>\n",
       "    </tr>\n",
       "    <tr>\n",
       "      <th>9960</th>\n",
       "      <td>0xf387e4186b93f238e3830837bbb39de0431bc966</td>\n",
       "      <td>5794328</td>\n",
       "      <td>22</td>\n",
       "      <td>0.0136685</td>\n",
       "    </tr>\n",
       "    <tr>\n",
       "      <th>9962</th>\n",
       "      <td>0xcc41b70d6c981d72ac78d3841f6d82e57f3190be</td>\n",
       "      <td>5257741</td>\n",
       "      <td>2</td>\n",
       "      <td>0.00136941</td>\n",
       "    </tr>\n",
       "    <tr>\n",
       "      <th>9965</th>\n",
       "      <td>0xfe5dc2deb44a49e74e0a1dc8ae5b38feedeaf27d</td>\n",
       "      <td>1697260</td>\n",
       "      <td>4</td>\n",
       "      <td>0.00848426</td>\n",
       "    </tr>\n",
       "  </tbody>\n",
       "</table>\n",
       "<p>9842 rows × 4 columns</p>\n",
       "</div>"
      ],
      "text/plain": [
       "                                         address   LifeTime Tx_Num  \\\n",
       "0     0xe7ef8592e64df04891e1e3bbf3013970b5a54f43  142920101     17   \n",
       "1     0x7916ed1b5accf672e277fc06b1538a21a30bfbee  178940570     70   \n",
       "2     0x170dedd533c37facd60ee18b51d7bcde274a0d1f  172966195     70   \n",
       "3     0x16ffc8a17b60398e4fcdc8c111e56373a60d8db1  126864707    171   \n",
       "4     0x6c134879dab2103aa5b55e90a16eaf96d0f31a2c  170261896     43   \n",
       "...                                          ...        ...    ...   \n",
       "9957  0x4b0a5cef6a7b3289fc32ac1699a83edf45b22d0f       3548      3   \n",
       "9958  0xa071a38b718502934bf99f2386fe3e3a1c4799fb   11451081      2   \n",
       "9960  0xf387e4186b93f238e3830837bbb39de0431bc966    5794328     22   \n",
       "9962  0xcc41b70d6c981d72ac78d3841f6d82e57f3190be    5257741      2   \n",
       "9965  0xfe5dc2deb44a49e74e0a1dc8ae5b38feedeaf27d    1697260      4   \n",
       "\n",
       "      Tx_Velocity  \n",
       "0     0.000428211  \n",
       "1      0.00140829  \n",
       "2      0.00145693  \n",
       "3      0.00485241  \n",
       "4     0.000909188  \n",
       "...           ...  \n",
       "9957      3.04397  \n",
       "9958  0.000628762  \n",
       "9960    0.0136685  \n",
       "9962   0.00136941  \n",
       "9965   0.00848426  \n",
       "\n",
       "[9842 rows x 4 columns]"
      ]
     },
     "execution_count": 26,
     "metadata": {},
     "output_type": "execute_result"
    }
   ],
   "source": [
    "output"
   ]
  },
  {
   "cell_type": "code",
   "execution_count": 27,
   "metadata": {},
   "outputs": [
    {
     "data": {
      "text/plain": [
       "196.38995011222775"
      ]
     },
     "execution_count": 27,
     "metadata": {},
     "output_type": "execute_result"
    }
   ],
   "source": [
    "np.mean(output['Tx_Velocity'])"
   ]
  },
  {
   "cell_type": "code",
   "execution_count": 28,
   "metadata": {},
   "outputs": [
    {
     "data": {
      "text/plain": [
       "18000.0"
      ]
     },
     "execution_count": 28,
     "metadata": {},
     "output_type": "execute_result"
    }
   ],
   "source": [
    "max(output['Tx_Velocity'])"
   ]
  },
  {
   "cell_type": "code",
   "execution_count": 30,
   "metadata": {},
   "outputs": [
    {
     "data": {
      "text/html": [
       "<div>\n",
       "<style scoped>\n",
       "    .dataframe tbody tr th:only-of-type {\n",
       "        vertical-align: middle;\n",
       "    }\n",
       "\n",
       "    .dataframe tbody tr th {\n",
       "        vertical-align: top;\n",
       "    }\n",
       "\n",
       "    .dataframe thead th {\n",
       "        text-align: right;\n",
       "    }\n",
       "</style>\n",
       "<table border=\"1\" class=\"dataframe\">\n",
       "  <thead>\n",
       "    <tr style=\"text-align: right;\">\n",
       "      <th></th>\n",
       "      <th>address</th>\n",
       "      <th>LifeTime</th>\n",
       "      <th>Tx_Num</th>\n",
       "      <th>Tx_Velocity</th>\n",
       "    </tr>\n",
       "  </thead>\n",
       "  <tbody>\n",
       "    <tr>\n",
       "      <th>3792</th>\n",
       "      <td>0xb45233774ec819e92231cc786ec28136e1017727</td>\n",
       "      <td>1</td>\n",
       "      <td>5</td>\n",
       "      <td>18000</td>\n",
       "    </tr>\n",
       "  </tbody>\n",
       "</table>\n",
       "</div>"
      ],
      "text/plain": [
       "                                         address LifeTime Tx_Num Tx_Velocity\n",
       "3792  0xb45233774ec819e92231cc786ec28136e1017727        1      5       18000"
      ]
     },
     "execution_count": 30,
     "metadata": {},
     "output_type": "execute_result"
    }
   ],
   "source": [
    "output.loc[output['Tx_Velocity']==18000.0]"
   ]
  },
  {
   "cell_type": "code",
   "execution_count": 29,
   "metadata": {},
   "outputs": [
    {
     "data": {
      "text/plain": [
       "8.77569377892612e-05"
      ]
     },
     "execution_count": 29,
     "metadata": {},
     "output_type": "execute_result"
    }
   ],
   "source": [
    "min(output['Tx_Velocity'])"
   ]
  },
  {
   "cell_type": "code",
   "execution_count": 35,
   "metadata": {},
   "outputs": [
    {
     "data": {
      "text/plain": [
       "18.604664965279838"
      ]
     },
     "execution_count": 35,
     "metadata": {},
     "output_type": "execute_result"
    }
   ],
   "source": [
    "np.median(output['Tx_Velocity'])"
   ]
  },
  {
   "cell_type": "code",
   "execution_count": null,
   "metadata": {},
   "outputs": [],
   "source": []
  }
 ],
 "metadata": {
  "kernelspec": {
   "display_name": "Python 3",
   "language": "python",
   "name": "python3"
  },
  "language_info": {
   "codemirror_mode": {
    "name": "ipython",
    "version": 3
   },
   "file_extension": ".py",
   "mimetype": "text/x-python",
   "name": "python",
   "nbconvert_exporter": "python",
   "pygments_lexer": "ipython3",
   "version": "3.8.5"
  }
 },
 "nbformat": 4,
 "nbformat_minor": 4
}
