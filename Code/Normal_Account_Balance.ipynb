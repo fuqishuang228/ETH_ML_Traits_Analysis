{
 "cells": [
  {
   "cell_type": "code",
   "execution_count": 21,
   "metadata": {},
   "outputs": [],
   "source": [
    "import pandas as pd\n",
    "import numpy as np\n",
    "import os\n",
    "import csv"
   ]
  },
  {
   "cell_type": "code",
   "execution_count": 22,
   "metadata": {},
   "outputs": [],
   "source": [
    "#Event='AscendEx'\n",
    "Event='Normal'\n",
    "raw_path='../Dataset/Normal/'\n",
    "account_feature_output_path = '../Code_Results/Ac_Balance_Results/'+Event+'_account_Balance.csv'\n",
    "feature_output_path ='../Code_Results/Intermediary_Account_Feature_Results/'+Event"
   ]
  },
  {
   "cell_type": "code",
   "execution_count": 23,
   "metadata": {},
   "outputs": [],
   "source": [
    "file_list = os.listdir(raw_path)\n",
    "normal_list=[]\n",
    "for k in range(0,len(file_list)):\n",
    "    normal_list.append(file_list[k][:-4])"
   ]
  },
  {
   "cell_type": "code",
   "execution_count": 24,
   "metadata": {},
   "outputs": [],
   "source": [
    "with open(account_feature_output_path,'w') as f:\n",
    "\n",
    "    csv_write = csv.writer(f)\n",
    "    csv_head = [\"address\",\"In\",\"Out\",\"Balance\"]\n",
    "    csv_write.writerow(csv_head)\n",
    "\n",
    "output = pd.read_csv(account_feature_output_path)\n",
    "output['address'] = normal_list"
   ]
  },
  {
   "cell_type": "code",
   "execution_count": 25,
   "metadata": {},
   "outputs": [
    {
     "name": "stdout",
     "output_type": "stream",
     "text": [
      "../Dataset/Normal/0x1236eff935945d3644184f3584380a6be5aeb566.csv\r"
     ]
    }
   ],
   "source": [
    "#Step3：统计每个账户的余额\n",
    "for i in range(0,len(normal_list)):\n",
    "    print('%d/%d'%(i,len(normal_list)),end=\"\\r\")\n",
    "    file_name=normal_list[i]\n",
    "    file_name = raw_path + file_name + '.csv'\n",
    "    print(file_name,end=\"\\r\")\n",
    "    if os.path.exists(file_name):\n",
    "        record = pd.read_csv(file_name)\n",
    "        record=record.loc[record[\"isSuccessful\"]=='OK']\n",
    "\n",
    "    # 计算转出交易\n",
    "    #from_cnt = record[(record['from'] == List[i]) & (record['value'] != '0')]\n",
    "    from_cnt = record[(record['fromac'] == normal_list[i])]\n",
    "    from_ETH_cnt=from_cnt\n",
    "    out_value = from_ETH_cnt['value'].astype(float).sum()\n",
    "\n",
    "\n",
    "    # 计算接收交易\n",
    "    to_cnt = record[(record['toac'] == normal_list[i]) & (record['value']!='0')]  # to:receive\n",
    "    to_ETH_cnt = to_cnt\n",
    "    in_value = to_cnt['value'].astype(float).sum() \n",
    "    Balance= in_value-out_value\n",
    "    output['In'][i] = in_value\n",
    "    output['Out'][i] = out_value\n",
    "    if Balance<0:\n",
    "        output['Balance'][i] = 0\n",
    "    else:\n",
    "        output['Balance'][i] = Balance"
   ]
  },
  {
   "cell_type": "code",
   "execution_count": 27,
   "metadata": {},
   "outputs": [],
   "source": [
    "output.to_csv(account_feature_output_path, index=False)"
   ]
  },
  {
   "cell_type": "code",
   "execution_count": 26,
   "metadata": {},
   "outputs": [
    {
     "data": {
      "text/html": [
       "<div>\n",
       "<style scoped>\n",
       "    .dataframe tbody tr th:only-of-type {\n",
       "        vertical-align: middle;\n",
       "    }\n",
       "\n",
       "    .dataframe tbody tr th {\n",
       "        vertical-align: top;\n",
       "    }\n",
       "\n",
       "    .dataframe thead th {\n",
       "        text-align: right;\n",
       "    }\n",
       "</style>\n",
       "<table border=\"1\" class=\"dataframe\">\n",
       "  <thead>\n",
       "    <tr style=\"text-align: right;\">\n",
       "      <th></th>\n",
       "      <th>address</th>\n",
       "      <th>In</th>\n",
       "      <th>Out</th>\n",
       "      <th>Balance</th>\n",
       "    </tr>\n",
       "  </thead>\n",
       "  <tbody>\n",
       "    <tr>\n",
       "      <th>0</th>\n",
       "      <td>0x0000000000000000000000000000000000000000</td>\n",
       "      <td>2.60607e+59</td>\n",
       "      <td>0</td>\n",
       "      <td>2.60607e+59</td>\n",
       "    </tr>\n",
       "    <tr>\n",
       "      <th>1</th>\n",
       "      <td>0x0000000d2138b2ee1865cd3e4454c562b9ba7bff</td>\n",
       "      <td>16.1323</td>\n",
       "      <td>16.0759</td>\n",
       "      <td>0.0563942</td>\n",
       "    </tr>\n",
       "    <tr>\n",
       "      <th>2</th>\n",
       "      <td>0x0000002bfa4dac0fdcf5cd9d47259241ce92459b</td>\n",
       "      <td>195.489</td>\n",
       "      <td>194.305</td>\n",
       "      <td>1.18317</td>\n",
       "    </tr>\n",
       "    <tr>\n",
       "      <th>3</th>\n",
       "      <td>0x000000809f5115368b36a7aaa4480caaf5bf809c</td>\n",
       "      <td>12.6217</td>\n",
       "      <td>11.6203</td>\n",
       "      <td>1.00132</td>\n",
       "    </tr>\n",
       "    <tr>\n",
       "      <th>4</th>\n",
       "      <td>0x000001f568875f378bf6d170b790967fe429c81a</td>\n",
       "      <td>275.605</td>\n",
       "      <td>238.564</td>\n",
       "      <td>37.0412</td>\n",
       "    </tr>\n",
       "    <tr>\n",
       "      <th>...</th>\n",
       "      <td>...</td>\n",
       "      <td>...</td>\n",
       "      <td>...</td>\n",
       "      <td>...</td>\n",
       "    </tr>\n",
       "    <tr>\n",
       "      <th>11309</th>\n",
       "      <td>0x1235c4a48841724130abccfbd13e64e1f150bc5b</td>\n",
       "      <td>337.965</td>\n",
       "      <td>1</td>\n",
       "      <td>336.965</td>\n",
       "    </tr>\n",
       "    <tr>\n",
       "      <th>11310</th>\n",
       "      <td>0x12362e9d5a0f816b6d4a755b1b14158028309d03</td>\n",
       "      <td>1001</td>\n",
       "      <td>1001</td>\n",
       "      <td>0.001323</td>\n",
       "    </tr>\n",
       "    <tr>\n",
       "      <th>11311</th>\n",
       "      <td>0x123641357e08723be9db36967184412d5d7b07dc</td>\n",
       "      <td>245.795</td>\n",
       "      <td>245.055</td>\n",
       "      <td>0.73945</td>\n",
       "    </tr>\n",
       "    <tr>\n",
       "      <th>11312</th>\n",
       "      <td>0x123658dadbf5d26a33736485b7564a871c05d473</td>\n",
       "      <td>2001</td>\n",
       "      <td>2001</td>\n",
       "      <td>0.00141491</td>\n",
       "    </tr>\n",
       "    <tr>\n",
       "      <th>11313</th>\n",
       "      <td>0x1236eff935945d3644184f3584380a6be5aeb566</td>\n",
       "      <td>244.132</td>\n",
       "      <td>244.041</td>\n",
       "      <td>0.09135</td>\n",
       "    </tr>\n",
       "  </tbody>\n",
       "</table>\n",
       "<p>11314 rows × 4 columns</p>\n",
       "</div>"
      ],
      "text/plain": [
       "                                          address           In      Out  \\\n",
       "0      0x0000000000000000000000000000000000000000  2.60607e+59        0   \n",
       "1      0x0000000d2138b2ee1865cd3e4454c562b9ba7bff      16.1323  16.0759   \n",
       "2      0x0000002bfa4dac0fdcf5cd9d47259241ce92459b      195.489  194.305   \n",
       "3      0x000000809f5115368b36a7aaa4480caaf5bf809c      12.6217  11.6203   \n",
       "4      0x000001f568875f378bf6d170b790967fe429c81a      275.605  238.564   \n",
       "...                                           ...          ...      ...   \n",
       "11309  0x1235c4a48841724130abccfbd13e64e1f150bc5b      337.965        1   \n",
       "11310  0x12362e9d5a0f816b6d4a755b1b14158028309d03         1001     1001   \n",
       "11311  0x123641357e08723be9db36967184412d5d7b07dc      245.795  245.055   \n",
       "11312  0x123658dadbf5d26a33736485b7564a871c05d473         2001     2001   \n",
       "11313  0x1236eff935945d3644184f3584380a6be5aeb566      244.132  244.041   \n",
       "\n",
       "           Balance  \n",
       "0      2.60607e+59  \n",
       "1        0.0563942  \n",
       "2          1.18317  \n",
       "3          1.00132  \n",
       "4          37.0412  \n",
       "...            ...  \n",
       "11309      336.965  \n",
       "11310     0.001323  \n",
       "11311      0.73945  \n",
       "11312   0.00141491  \n",
       "11313      0.09135  \n",
       "\n",
       "[11314 rows x 4 columns]"
      ]
     },
     "execution_count": 26,
     "metadata": {},
     "output_type": "execute_result"
    }
   ],
   "source": [
    "output"
   ]
  },
  {
   "cell_type": "code",
   "execution_count": 28,
   "metadata": {},
   "outputs": [
    {
     "data": {
      "text/plain": [
       "2.606073728527741e+59"
      ]
     },
     "execution_count": 28,
     "metadata": {},
     "output_type": "execute_result"
    }
   ],
   "source": [
    "max(output['Balance'])"
   ]
  },
  {
   "cell_type": "code",
   "execution_count": 31,
   "metadata": {},
   "outputs": [
    {
     "name": "stdout",
     "output_type": "stream",
     "text": [
      "0.4036591833127099\n",
      "0.22936185257203465\n",
      "0.1149018914619056\n",
      "0.10659360084850628\n",
      "0.09651758882800071\n",
      "0.037740852041718224\n",
      "0.011225030935124624\n"
     ]
    }
   ],
   "source": [
    "print(len(output.loc[(output['Balance']>=0)& (output['Balance']<0.01) ])/len(output))\n",
    "print(len(output.loc[(output['Balance']>=0.01)& (output['Balance']<0.1) ])/len(output))\n",
    "print(len(output.loc[(output['Balance']>=0.1)& (output['Balance']<1) ])/len(output))\n",
    "print(len(output.loc[(output['Balance']>=1)& (output['Balance']<10) ])/len(output))\n",
    "print(len(output.loc[(output['Balance']>=10)& (output['Balance']<100) ])/len(output))\n",
    "print(len(output.loc[(output['Balance']>=100)& (output['Balance']<1000) ])/len(output))\n",
    "print(len(output.loc[(output['Balance']>1000)])/len(output))"
   ]
  },
  {
   "cell_type": "code",
   "execution_count": null,
   "metadata": {},
   "outputs": [],
   "source": []
  }
 ],
 "metadata": {
  "kernelspec": {
   "display_name": "Python 3",
   "language": "python",
   "name": "python3"
  },
  "language_info": {
   "codemirror_mode": {
    "name": "ipython",
    "version": 3
   },
   "file_extension": ".py",
   "mimetype": "text/x-python",
   "name": "python",
   "nbconvert_exporter": "python",
   "pygments_lexer": "ipython3",
   "version": "3.8.5"
  }
 },
 "nbformat": 4,
 "nbformat_minor": 4
}
